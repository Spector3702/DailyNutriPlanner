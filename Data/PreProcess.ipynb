{
 "cells": [
  {
   "attachments": {},
   "cell_type": "markdown",
   "metadata": {},
   "source": [
    "## recommended_nutrition\n",
    "- find unique value in nutrition group\n",
    "- and those groups would be atrrbutes of this table\n",
    "- 單位以原分析項為準：Fat(mg)"
   ]
  },
  {
   "cell_type": "code",
<<<<<<< HEAD
   "execution_count": 1,
=======
   "execution_count": 58,
>>>>>>> origin/main
   "metadata": {},
   "outputs": [],
   "source": [
    "import pandas as pd"
   ]
  },
  {
   "cell_type": "code",
<<<<<<< HEAD
   "execution_count": 2,
=======
   "execution_count": 59,
>>>>>>> origin/main
   "metadata": {},
   "outputs": [],
   "source": [
    "rn_df = pd.read_csv('food_nutrition.csv')"
   ]
  },
  {
   "cell_type": "code",
<<<<<<< HEAD
   "execution_count": 3,
=======
   "execution_count": 60,
>>>>>>> origin/main
   "metadata": {},
   "outputs": [
    {
     "data": {
      "text/plain": [
       "array(['糖質分析', '胺基酸組成', '脂肪酸組成', '一般成分', '其他', '維生素B群 & C', '維生素A', '礦物質',\n",
       "       '維生素D', '維生素E', '維生素K'], dtype=object)"
      ]
     },
<<<<<<< HEAD
     "execution_count": 3,
=======
     "execution_count": 60,
>>>>>>> origin/main
     "metadata": {},
     "output_type": "execute_result"
    }
   ],
   "source": [
    "rn_df['分析項分類'].unique()"
   ]
  },
  {
   "cell_type": "code",
<<<<<<< HEAD
   "execution_count": 4,
   "metadata": {},
   "outputs": [
    {
     "data": {
      "text/html": [
       "<div>\n",
       "<style scoped>\n",
       "    .dataframe tbody tr th:only-of-type {\n",
       "        vertical-align: middle;\n",
       "    }\n",
       "\n",
       "    .dataframe tbody tr th {\n",
       "        vertical-align: top;\n",
       "    }\n",
       "\n",
       "    .dataframe thead th {\n",
       "        text-align: right;\n",
       "    }\n",
       "</style>\n",
       "<table border=\"1\" class=\"dataframe\">\n",
       "  <thead>\n",
       "    <tr style=\"text-align: right;\">\n",
       "      <th></th>\n",
       "      <th>食品分類</th>\n",
       "      <th>資料類別</th>\n",
       "      <th>整合編號</th>\n",
       "      <th>樣品名稱</th>\n",
       "      <th>俗名</th>\n",
       "      <th>樣品英文名稱</th>\n",
       "      <th>內容物描述</th>\n",
       "      <th>廢棄率</th>\n",
       "      <th>分析項分類</th>\n",
       "      <th>分析項</th>\n",
       "      <th>含量單位</th>\n",
       "      <th>每100克含量</th>\n",
       "      <th>樣本數</th>\n",
       "      <th>標準差</th>\n",
       "      <th>每單位含量</th>\n",
       "      <th>每單位重</th>\n",
       "      <th>每單位重含量</th>\n",
       "    </tr>\n",
       "  </thead>\n",
       "  <tbody>\n",
       "    <tr>\n",
       "      <th>4</th>\n",
       "      <td>加工調理食品及其他類</td>\n",
       "      <td>樣品基本資料</td>\n",
       "      <td>R2300301</td>\n",
       "      <td>冷凍芋泥包</td>\n",
       "      <td>NaN</td>\n",
       "      <td>Taro paste bun</td>\n",
       "      <td>冷凍包裝,混合均勻打碎(麵粉,芋頭等)</td>\n",
       "      <td>0.0</td>\n",
       "      <td>脂肪酸組成</td>\n",
       "      <td>次亞麻油酸(18:3)</td>\n",
       "      <td>mg</td>\n",
       "      <td>104</td>\n",
       "      <td>3.0</td>\n",
       "      <td>NaN</td>\n",
       "      <td>104.0</td>\n",
       "      <td>71.0克</td>\n",
       "      <td>74.0</td>\n",
       "    </tr>\n",
       "    <tr>\n",
       "      <th>6</th>\n",
       "      <td>加工調理食品及其他類</td>\n",
       "      <td>樣品基本資料</td>\n",
       "      <td>R2300301</td>\n",
       "      <td>冷凍芋泥包</td>\n",
       "      <td>NaN</td>\n",
       "      <td>Taro paste bun</td>\n",
       "      <td>冷凍包裝,混合均勻打碎(麵粉,芋頭等)</td>\n",
       "      <td>0.0</td>\n",
       "      <td>脂肪酸組成</td>\n",
       "      <td>肉豆蔻烯酸(14:1)</td>\n",
       "      <td>mg</td>\n",
       "      <td>0</td>\n",
       "      <td>3.0</td>\n",
       "      <td>NaN</td>\n",
       "      <td>0.0</td>\n",
       "      <td>71.0克</td>\n",
       "      <td>0.0</td>\n",
       "    </tr>\n",
       "    <tr>\n",
       "      <th>7</th>\n",
       "      <td>加工調理食品及其他類</td>\n",
       "      <td>樣品基本資料</td>\n",
       "      <td>R2300301</td>\n",
       "      <td>冷凍芋泥包</td>\n",
       "      <td>NaN</td>\n",
       "      <td>Taro paste bun</td>\n",
       "      <td>冷凍包裝,混合均勻打碎(麵粉,芋頭等)</td>\n",
       "      <td>0.0</td>\n",
       "      <td>脂肪酸組成</td>\n",
       "      <td>肉豆蔻酸(14:0)</td>\n",
       "      <td>mg</td>\n",
       "      <td>51</td>\n",
       "      <td>3.0</td>\n",
       "      <td>NaN</td>\n",
       "      <td>51.0</td>\n",
       "      <td>71.0克</td>\n",
       "      <td>36.0</td>\n",
       "    </tr>\n",
       "    <tr>\n",
       "      <th>9</th>\n",
       "      <td>加工調理食品及其他類</td>\n",
       "      <td>樣品基本資料</td>\n",
       "      <td>R2300301</td>\n",
       "      <td>冷凍芋泥包</td>\n",
       "      <td>NaN</td>\n",
       "      <td>Taro paste bun</td>\n",
       "      <td>冷凍包裝,混合均勻打碎(麵粉,芋頭等)</td>\n",
       "      <td>0.0</td>\n",
       "      <td>脂肪酸組成</td>\n",
       "      <td>辛酸(8:0)</td>\n",
       "      <td>mg</td>\n",
       "      <td>5</td>\n",
       "      <td>3.0</td>\n",
       "      <td>NaN</td>\n",
       "      <td>5.0</td>\n",
       "      <td>71.0克</td>\n",
       "      <td>4.0</td>\n",
       "    </tr>\n",
       "    <tr>\n",
       "      <th>11</th>\n",
       "      <td>加工調理食品及其他類</td>\n",
       "      <td>樣品基本資料</td>\n",
       "      <td>R2300301</td>\n",
       "      <td>冷凍芋泥包</td>\n",
       "      <td>NaN</td>\n",
       "      <td>Taro paste bun</td>\n",
       "      <td>冷凍包裝,混合均勻打碎(麵粉,芋頭等)</td>\n",
       "      <td>0.0</td>\n",
       "      <td>脂肪酸組成</td>\n",
       "      <td>亞麻油酸(18:2)</td>\n",
       "      <td>mg</td>\n",
       "      <td>1056</td>\n",
       "      <td>3.0</td>\n",
       "      <td>NaN</td>\n",
       "      <td>1056.0</td>\n",
       "      <td>71.0克</td>\n",
       "      <td>750.0</td>\n",
       "    </tr>\n",
       "    <tr>\n",
       "      <th>...</th>\n",
       "      <td>...</td>\n",
       "      <td>...</td>\n",
       "      <td>...</td>\n",
       "      <td>...</td>\n",
       "      <td>...</td>\n",
       "      <td>...</td>\n",
       "      <td>...</td>\n",
       "      <td>...</td>\n",
       "      <td>...</td>\n",
       "      <td>...</td>\n",
       "      <td>...</td>\n",
       "      <td>...</td>\n",
       "      <td>...</td>\n",
       "      <td>...</td>\n",
       "      <td>...</td>\n",
       "      <td>...</td>\n",
       "      <td>...</td>\n",
       "    </tr>\n",
       "    <tr>\n",
       "      <th>224738</th>\n",
       "      <td>魚貝類</td>\n",
       "      <td>樣品基本資料</td>\n",
       "      <td>J0401801</td>\n",
       "      <td>斑海鯰</td>\n",
       "      <td>成仔魚,成仔丁,銀成,白肉成,臭臊成,生仔魚,鰻鯰,賓士魚</td>\n",
       "      <td>Sea barbel; Sea catfish; Spotted catfish; Spot...</td>\n",
       "      <td>生,去鱗,含皮,去頭尾,去內臟及骨刺,混合均勻打碎</td>\n",
       "      <td>73.1</td>\n",
       "      <td>脂肪酸組成</td>\n",
       "      <td>油酸(18:1)</td>\n",
       "      <td>mg</td>\n",
       "      <td>129</td>\n",
       "      <td>1.0</td>\n",
       "      <td>NaN</td>\n",
       "      <td>129.0</td>\n",
       "      <td>0.0克</td>\n",
       "      <td>0.0</td>\n",
       "    </tr>\n",
       "    <tr>\n",
       "      <th>224739</th>\n",
       "      <td>魚貝類</td>\n",
       "      <td>樣品基本資料</td>\n",
       "      <td>J0401801</td>\n",
       "      <td>斑海鯰</td>\n",
       "      <td>成仔魚,成仔丁,銀成,白肉成,臭臊成,生仔魚,鰻鯰,賓士魚</td>\n",
       "      <td>Sea barbel; Sea catfish; Spotted catfish; Spot...</td>\n",
       "      <td>生,去鱗,含皮,去頭尾,去內臟及骨刺,混合均勻打碎</td>\n",
       "      <td>73.1</td>\n",
       "      <td>脂肪酸組成</td>\n",
       "      <td>花生油酸(20:4)</td>\n",
       "      <td>mg</td>\n",
       "      <td>21</td>\n",
       "      <td>1.0</td>\n",
       "      <td>NaN</td>\n",
       "      <td>21.0</td>\n",
       "      <td>0.0克</td>\n",
       "      <td>0.0</td>\n",
       "    </tr>\n",
       "    <tr>\n",
       "      <th>224740</th>\n",
       "      <td>魚貝類</td>\n",
       "      <td>樣品基本資料</td>\n",
       "      <td>J0401801</td>\n",
       "      <td>斑海鯰</td>\n",
       "      <td>成仔魚,成仔丁,銀成,白肉成,臭臊成,生仔魚,鰻鯰,賓士魚</td>\n",
       "      <td>Sea barbel; Sea catfish; Spotted catfish; Spot...</td>\n",
       "      <td>生,去鱗,含皮,去頭尾,去內臟及骨刺,混合均勻打碎</td>\n",
       "      <td>73.1</td>\n",
       "      <td>脂肪酸組成</td>\n",
       "      <td>花生酸(20:0)</td>\n",
       "      <td>mg</td>\n",
       "      <td>0</td>\n",
       "      <td>1.0</td>\n",
       "      <td>NaN</td>\n",
       "      <td>0.0</td>\n",
       "      <td>0.0克</td>\n",
       "      <td>0.0</td>\n",
       "    </tr>\n",
       "    <tr>\n",
       "      <th>224741</th>\n",
       "      <td>魚貝類</td>\n",
       "      <td>樣品基本資料</td>\n",
       "      <td>J0401801</td>\n",
       "      <td>斑海鯰</td>\n",
       "      <td>成仔魚,成仔丁,銀成,白肉成,臭臊成,生仔魚,鰻鯰,賓士魚</td>\n",
       "      <td>Sea barbel; Sea catfish; Spotted catfish; Spot...</td>\n",
       "      <td>生,去鱗,含皮,去頭尾,去內臟及骨刺,混合均勻打碎</td>\n",
       "      <td>73.1</td>\n",
       "      <td>脂肪酸組成</td>\n",
       "      <td>芥子酸(22:1)</td>\n",
       "      <td>mg</td>\n",
       "      <td>0</td>\n",
       "      <td>1.0</td>\n",
       "      <td>NaN</td>\n",
       "      <td>0.0</td>\n",
       "      <td>0.0克</td>\n",
       "      <td>0.0</td>\n",
       "    </tr>\n",
       "    <tr>\n",
       "      <th>224742</th>\n",
       "      <td>魚貝類</td>\n",
       "      <td>樣品基本資料</td>\n",
       "      <td>J0401801</td>\n",
       "      <td>斑海鯰</td>\n",
       "      <td>成仔魚,成仔丁,銀成,白肉成,臭臊成,生仔魚,鰻鯰,賓士魚</td>\n",
       "      <td>Sea barbel; Sea catfish; Spotted catfish; Spot...</td>\n",
       "      <td>生,去鱗,含皮,去頭尾,去內臟及骨刺,混合均勻打碎</td>\n",
       "      <td>73.1</td>\n",
       "      <td>脂肪酸組成</td>\n",
       "      <td>癸酸(10:0)</td>\n",
       "      <td>mg</td>\n",
       "      <td>0</td>\n",
       "      <td>1.0</td>\n",
       "      <td>NaN</td>\n",
       "      <td>0.0</td>\n",
       "      <td>0.0克</td>\n",
       "      <td>0.0</td>\n",
       "    </tr>\n",
       "  </tbody>\n",
       "</table>\n",
       "<p>69152 rows × 17 columns</p>\n",
       "</div>"
      ],
      "text/plain": [
       "              食品分類    資料類別      整合編號   樣品名稱                             俗名  \\\n",
       "4       加工調理食品及其他類  樣品基本資料  R2300301  冷凍芋泥包                            NaN   \n",
       "6       加工調理食品及其他類  樣品基本資料  R2300301  冷凍芋泥包                            NaN   \n",
       "7       加工調理食品及其他類  樣品基本資料  R2300301  冷凍芋泥包                            NaN   \n",
       "9       加工調理食品及其他類  樣品基本資料  R2300301  冷凍芋泥包                            NaN   \n",
       "11      加工調理食品及其他類  樣品基本資料  R2300301  冷凍芋泥包                            NaN   \n",
       "...            ...     ...       ...    ...                            ...   \n",
       "224738         魚貝類  樣品基本資料  J0401801    斑海鯰  成仔魚,成仔丁,銀成,白肉成,臭臊成,生仔魚,鰻鯰,賓士魚   \n",
       "224739         魚貝類  樣品基本資料  J0401801    斑海鯰  成仔魚,成仔丁,銀成,白肉成,臭臊成,生仔魚,鰻鯰,賓士魚   \n",
       "224740         魚貝類  樣品基本資料  J0401801    斑海鯰  成仔魚,成仔丁,銀成,白肉成,臭臊成,生仔魚,鰻鯰,賓士魚   \n",
       "224741         魚貝類  樣品基本資料  J0401801    斑海鯰  成仔魚,成仔丁,銀成,白肉成,臭臊成,生仔魚,鰻鯰,賓士魚   \n",
       "224742         魚貝類  樣品基本資料  J0401801    斑海鯰  成仔魚,成仔丁,銀成,白肉成,臭臊成,生仔魚,鰻鯰,賓士魚   \n",
       "\n",
       "                                                   樣品英文名稱  \\\n",
       "4                                          Taro paste bun   \n",
       "6                                          Taro paste bun   \n",
       "7                                          Taro paste bun   \n",
       "9                                          Taro paste bun   \n",
       "11                                         Taro paste bun   \n",
       "...                                                   ...   \n",
       "224738  Sea barbel; Sea catfish; Spotted catfish; Spot...   \n",
       "224739  Sea barbel; Sea catfish; Spotted catfish; Spot...   \n",
       "224740  Sea barbel; Sea catfish; Spotted catfish; Spot...   \n",
       "224741  Sea barbel; Sea catfish; Spotted catfish; Spot...   \n",
       "224742  Sea barbel; Sea catfish; Spotted catfish; Spot...   \n",
       "\n",
       "                            內容物描述   廢棄率  分析項分類          分析項 含量單位 每100克含量  樣本數  \\\n",
       "4             冷凍包裝,混合均勻打碎(麵粉,芋頭等)   0.0  脂肪酸組成  次亞麻油酸(18:3)   mg     104  3.0   \n",
       "6             冷凍包裝,混合均勻打碎(麵粉,芋頭等)   0.0  脂肪酸組成  肉豆蔻烯酸(14:1)   mg       0  3.0   \n",
       "7             冷凍包裝,混合均勻打碎(麵粉,芋頭等)   0.0  脂肪酸組成   肉豆蔻酸(14:0)   mg      51  3.0   \n",
       "9             冷凍包裝,混合均勻打碎(麵粉,芋頭等)   0.0  脂肪酸組成      辛酸(8:0)   mg       5  3.0   \n",
       "11            冷凍包裝,混合均勻打碎(麵粉,芋頭等)   0.0  脂肪酸組成   亞麻油酸(18:2)   mg    1056  3.0   \n",
       "...                           ...   ...    ...          ...  ...     ...  ...   \n",
       "224738  生,去鱗,含皮,去頭尾,去內臟及骨刺,混合均勻打碎  73.1  脂肪酸組成     油酸(18:1)   mg     129  1.0   \n",
       "224739  生,去鱗,含皮,去頭尾,去內臟及骨刺,混合均勻打碎  73.1  脂肪酸組成   花生油酸(20:4)   mg      21  1.0   \n",
       "224740  生,去鱗,含皮,去頭尾,去內臟及骨刺,混合均勻打碎  73.1  脂肪酸組成    花生酸(20:0)   mg       0  1.0   \n",
       "224741  生,去鱗,含皮,去頭尾,去內臟及骨刺,混合均勻打碎  73.1  脂肪酸組成    芥子酸(22:1)   mg       0  1.0   \n",
       "224742  生,去鱗,含皮,去頭尾,去內臟及骨刺,混合均勻打碎  73.1  脂肪酸組成     癸酸(10:0)   mg       0  1.0   \n",
       "\n",
       "        標準差   每單位含量   每單位重  每單位重含量  \n",
       "4       NaN   104.0  71.0克    74.0  \n",
       "6       NaN     0.0  71.0克     0.0  \n",
       "7       NaN    51.0  71.0克    36.0  \n",
       "9       NaN     5.0  71.0克     4.0  \n",
       "11      NaN  1056.0  71.0克   750.0  \n",
       "...     ...     ...    ...     ...  \n",
       "224738  NaN   129.0   0.0克     0.0  \n",
       "224739  NaN    21.0   0.0克     0.0  \n",
       "224740  NaN     0.0   0.0克     0.0  \n",
       "224741  NaN     0.0   0.0克     0.0  \n",
       "224742  NaN     0.0   0.0克     0.0  \n",
       "\n",
       "[69152 rows x 17 columns]"
      ]
     },
     "execution_count": 4,
     "metadata": {},
     "output_type": "execute_result"
    }
   ],
   "source": [
    "mask = rn_df['分析項分類'] == '脂肪酸組成'\n",
    "fat_group = rn_df[mask]\n",
    "fat_group"
   ]
  },
  {
   "cell_type": "code",
   "execution_count": 5,
   "metadata": {},
   "outputs": [
    {
     "data": {
      "text/plain": [
       "array(['次亞麻油酸(18:3)', '肉豆蔻烯酸(14:1)', '肉豆蔻酸(14:0)', '辛酸(8:0)',\n",
       "       '亞麻油酸(18:2)', '其他脂肪酸', '油酸(18:1)', '花生油酸(20:4)', '花生酸(20:0)',\n",
       "       '芥子酸(22:1)', '癸酸(10:0)', '脂肪酸M總量', '脂肪酸P總量', '脂肪酸S總量',\n",
       "       '棕櫚烯酸(16:1)', '棕櫚酸(16:0)', '硬脂酸(18:0)', '酪酸(4:0)', '鱈烯酸(20:1)',\n",
       "       'P/M/S', '十七酸(17:0)', '十九酸(19:0)', '十八碳四烯酸(18:4)', '十三酸(13:0)',\n",
       "       '十五酸(15:0)', '山酸(22:0)', '己酸(6:0)', '廿二碳五烯酸(22:5)', '廿二碳六烯酸(22:6)',\n",
       "       '廿四酸(24:0)', '廿碳五烯酸(20:5)', '月桂酸(12:0)'], dtype=object)"
      ]
     },
     "execution_count": 5,
     "metadata": {},
     "output_type": "execute_result"
    }
   ],
   "source": [
    "fat_group['分析項'].unique()"
   ]
  },
  {
   "cell_type": "code",
   "execution_count": 6,
   "metadata": {},
   "outputs": [
    {
     "data": {
      "text/plain": [
       "array(['半乳糖', '甘胺酸(Gly)', '甲硫胺酸(Met)', '白胺酸(Leu)', '次亞麻油酸(18:3)', '灰分',\n",
       "       '肉豆蔻烯酸(14:1)', '肉豆蔻酸(14:0)', '色胺酸(Trp)', '辛酸(8:0)', '乳糖',\n",
       "       '亞麻油酸(18:2)', '其他脂肪酸', '果糖', '油酸(18:1)', '花生油酸(20:4)', '花生酸(20:0)',\n",
       "       '芥子酸(22:1)', '癸酸(10:0)', '苯丙胺酸(Phe)', '修正熱量', '胱胺酸(Cys)', '脂肪酸M總量',\n",
       "       '脂肪酸P總量', '脂肪酸S總量', '酒精含量', '異白胺酸(Ile)', '粗脂肪', '粗蛋白', '組胺酸(His)',\n",
       "       '脯胺酸(Pro)', '麥芽糖', '棕櫚烯酸(16:1)', '棕櫚酸(16:0)', '硬脂酸(18:0)',\n",
       "       '絲胺酸(Ser)', '菸鹼素', '視網醇', '視網醇當量(RE)', '酥胺酸(Thr)', '鈣', '鈉', '葉酸',\n",
       "       '葡萄糖', '酪胺酸(Tyr)', '酪酸(4:0)', '鉀', '飽和脂肪', '精胺酸(Arg)',\n",
       "       '維生素A總量(IU)', '維生素B1', '維生素B12', '維生素B2', '維生素B6', '維生素C', '維生素D2',\n",
       "       '維生素D3', '維生素D總量(IU)', '維生素D總量(ug)', '維生素E總量', '維生素K1',\n",
       "       '維生素K2(MK-4)', '維生素K2(MK-7)', '銅', '熱量', '蔗糖', '鋅', '麩胺酸(Glu)',\n",
       "       '糖質總量', '膳食纖維', '錳', '磷', '總碳水化合物', '膽固醇', '鎂', '離胺酸(Lys)', '鐵',\n",
       "       '纈胺酸(Val)', '鱈烯酸(20:1)', 'P/M/S', 'α-生育酚', 'α-胡蘿蔔素',\n",
       "       'α-維生素E當量(α-TE)', 'β-生育酚', 'β-胡蘿蔔素', 'γ-生育酚', 'δ-生育酚', '十七酸(17:0)',\n",
       "       '十九酸(19:0)', '十八碳四烯酸(18:4)', '十三酸(13:0)', '十五酸(15:0)', '山酸(22:0)',\n",
       "       '己酸(6:0)', '反式脂肪', '天門冬胺酸(Asp)', '廿二碳五烯酸(22:5)', '廿二碳六烯酸(22:6)',\n",
       "       '廿四酸(24:0)', '廿碳五烯酸(20:5)', '月桂酸(12:0)', '水分', '水解胺基酸總量',\n",
       "       '丙胺酸(Ala)'], dtype=object)"
      ]
     },
     "execution_count": 6,
     "metadata": {},
     "output_type": "execute_result"
    }
   ],
   "source": [
    "rn_df['分析項'].unique()"
   ]
  },
  {
   "cell_type": "code",
   "execution_count": 7,
   "metadata": {},
   "outputs": [
    {
     "data": {
      "text/plain": [
       "47        一般成分\n",
       "151       一般成分\n",
       "221       一般成分\n",
       "325       一般成分\n",
       "357       一般成分\n",
       "          ... \n",
       "224203    一般成分\n",
       "224307    一般成分\n",
       "224390    一般成分\n",
       "224550    一般成分\n",
       "224667    一般成分\n",
       "Name: 分析項分類, Length: 2161, dtype: object"
      ]
     },
     "execution_count": 7,
     "metadata": {},
     "output_type": "execute_result"
    }
   ],
   "source": [
    "mask = rn_df['分析項'] == '飽和脂肪'\n",
    "tmp = rn_df[mask]\n",
    "tmp['分析項分類']"
   ]
  },
  {
   "cell_type": "code",
   "execution_count": 8,
   "metadata": {},
   "outputs": [
    {
     "data": {
      "text/plain": [
       "Int64Index([    40,    144,    214,    318,    350,    454,    553,    657,\n",
       "               681,    785,\n",
       "            ...\n",
       "            223743, 223868, 223903, 224007, 224106, 224196, 224300, 224383,\n",
       "            224543, 224660],\n",
       "           dtype='int64', length=2161)"
      ]
     },
     "execution_count": 8,
     "metadata": {},
     "output_type": "execute_result"
    }
   ],
   "source": [
    "mask = rn_df['分析項'] == '鈣'\n",
    "rn_df[mask].index"
   ]
  },
  {
   "cell_type": "code",
   "execution_count": 9,
   "metadata": {},
   "outputs": [
    {
     "data": {
      "text/plain": [
       "Int64Index([    36,    140,    210,    314,    346,    450,    549,    653,\n",
       "               677,    781,\n",
       "            ...\n",
       "            223635, 223739, 223864, 224003, 224102, 224192, 224296, 224379,\n",
       "            224539, 224656],\n",
       "           dtype='int64', length=2161)"
      ]
     },
     "execution_count": 9,
     "metadata": {},
     "output_type": "execute_result"
    }
   ],
   "source": [
    "mask = rn_df['分析項'] == '菸鹼素'\n",
    "rn_df[mask].index"
=======
   "execution_count": 61,
   "metadata": {},
   "outputs": [],
   "source": [
    "df = pd.DataFrame({\n",
    "    'Gender': ['male','male','male','male','male','male','male','male','male','female','female','female','female','female','female','female','female','female'],\n",
    "    'Age': ['<1','1-6','7-12','13-15','16-18','19-44','45-64','65-74','75+','<1','1-6','7-12','13-15','16-18','19-44','45-64','65-74','75+'],\n",
    "    'Samples' : [43,737,875,442,393,945,959,854,477,48,709,880,429,394,969,985,893,456],\n",
    "    'Calorie' : [704.77,1476.39,2061.49,2280.52,2298.29,2471.06,2370.58,2051.02,1817.31,645.26,1318.07,1781.29,1732.94,1852.11,1844.32,1752.28,1613.88,1398.62],\n",
    "    'Protein' : [16.43,58.33,85.99,94.42,97.05,102.70,98.42,85.32,73.84,16.17,51.68,71.85,68.45,78.84,79.60,75.87,67.35,59.06],\n",
    "    'Fat' : [30.05,53.30,75.68,85.39,89.46,94.50,83.24,67.63,58.08,30.10,48.22,66.89,63.56,72.56,72.69,64.54,54.04,45.93],\n",
    "    'Carbohydrate' : [92.81,193.54,262.51,286.22,277.97,291.48,288.91,266.46,247.87,78.38,171.80,225.94,224.57,223.68,219.77,219.64,218.92,189.45],\n",
    "    'VitaminB1' : [0.72,1.07,1.46,1.65,1.64,1.63,1.63,1.44,1.29,0.59,0.95,1.26,1.14,1.31,1.25,1.25,1.21,1.08],\n",
    "    'VitaminB2' : [1.12,1.28,1.40,1.41,1.38,1.52,1.46,1.30,1.29,1.06,1.18,1.18,1.12,1.36,1.26,1.26,1.17,1.07],\n",
    "    'VitaminC' : [80.25,86.17,117.37,118.76,118.10,135.97,182.63,189.34,151.70,70.36,88.58,102.57,95.51,105.66,123.39,187.03,174.75,145.66],\n",
    "    'Nicotine' : [6.69,12.45,17.38,19.95,20.32,22.93,21.77,18.58,16.32,5.43,11.02,15.01,14.23,15.79,17.18,17.24,14.60,12.02],\n",
    "    'VitaminB6' : [0.61,1.27,1.80,2.01,2.00,2.31,2.35,2.22,1.99,0.52,1.13,1.50,1.47,1.66,1.76,1.97,1.80,1.54],\n",
    "    'VitaminA' : [696.74,602.07,688.08,686.71,626.45,695.35,904.46,958.28,915.16,655.31,589.04,587.83,531.49,622.27,646.38,852.50,1031.09,993.31],\n",
    "    'VitaminE' : [7.43,7.06,8.62,9.69,10.03,10.29,9.90,9.44,8.68,6.18,6.71,7.83,7.27,8.13,8.61,9.04,8.72,7.39],\n",
    "    'Ca' : [452.09,567.77,524.23,482.96,531.39,530.33,575.74,594.82,595.58,459.46,530.95,435.07,426.14,466.02,479.68,557.50,560.21,522.26],\n",
    "    'P' : [314.84,926.78,1224.06,1300.79,1330.00,1398.91,1400.90,1263.98,1147.84,314.76,836.09,1031.43,978.76,1104.48,1116.59,1109.06,1054.49,918.02],\n",
    "    'Fe' : [7.57,10.03,13.92,15.54,14.67,16.56,17.54,15.59,13.74,5.74,9.31,11.66,11.59,13.17,13.12,14.51,13.89,12.28],\n",
    "    'Mg' : [76.00,187.64,248.12,261.71,265.21,296.95,342.35,342.12,302.15,68.39,169.51,212.20,200.78,227.67,244.02,292.61,307.23,247.18],\n",
    "    'Zn' : [6.02,8.75,11.87,13.00,12.89,13.88,14.11,12.96,11.20,4.96,7.55,9.67,9.46,11.03,10.58,10.80,10.32,9.78],\n",
    "    'Na' : [245.35,1980.33,3364.69,3743.90,3749.62,4140.41,3563.29,2979.81,2557.96,252.06,1855.28,2839.04,2837.79,3016.81,3196.05,2803.28,2351.99,2194.12],\n",
    "    'K' : [757.37,1758.48,2322.66,2408.84,2332.97,2665.89,3007.36,3016.00,2681.86,782.08,1619.22,1991.35,1865.73,2096.43,2287.28,2701.78,2684.74,2159.99]\n",
    "    })"
>>>>>>> origin/main
   ]
  },
  {
   "attachments": {},
   "cell_type": "markdown",
   "metadata": {},
   "source": [
    "## everyday_nutrition\n",
    "- 可能需要用手打\n",
    "- 要先決定這邊要留哪些成分"
   ]
  },
  {
   "cell_type": "code",
<<<<<<< HEAD
   "execution_count": 10,
=======
   "execution_count": 62,
>>>>>>> origin/main
   "metadata": {},
   "outputs": [],
   "source": [
    "protein = ['甘胺酸(Gly)', '甲硫胺酸(Met)', '白胺酸(Leu)', '色胺酸(Trp)', '苯丙胺酸(Phe)', '胱胺酸(Cys)', '異白胺酸(Ile)', '組胺酸(His)', '脯胺酸(Pro)', '絲胺酸(Ser)', '酥胺酸(Thr)', '精胺酸(Arg)', '麩胺酸(Glu)', '離胺酸(Lys)', '纈胺酸(Val)', '天門冬胺酸(Asp)', '丙胺酸(Ala)', '粗蛋白']"
   ]
  },
  {
   "cell_type": "code",
<<<<<<< HEAD
   "execution_count": 11,
=======
   "execution_count": 63,
>>>>>>> origin/main
   "metadata": {},
   "outputs": [],
   "source": [
    "fat = ['次亞麻油酸(18:3)', '肉豆蔻烯酸(14:1)', '肉豆蔻酸(14:0)', '辛酸(8:0)', '亞麻油酸(18:2)', '其他脂肪酸', '油酸(18:1)', '花生油酸(20:4)', '花生酸(20:0)', '芥子酸(22:1)', '癸酸(10:0)', '棕櫚烯酸(16:1)', '棕櫚酸(16:0)', '硬脂酸(18:0)', '酪酸(4:0)', '飽和脂肪', '鱈烯酸(20:1)', '十七酸(17:0)', '十九酸(19:0)', '十八碳四烯酸(18:4)', '十三酸(13:0)', '十五酸(15:0)', '山酸(22:0)', '己酸(6:0)', '反式脂肪', '廿二碳五烯酸(22:5)', '廿二碳六烯酸(22:6)', '廿四酸(24:0)', '廿碳五烯酸(20:5)', '月桂酸(12:0)', '粗脂肪', '膽固醇']"
   ]
  },
  {
   "cell_type": "code",
<<<<<<< HEAD
   "execution_count": 12,
=======
   "execution_count": 64,
>>>>>>> origin/main
   "metadata": {},
   "outputs": [],
   "source": [
    "carbohydrate = ['半乳糖', '乳糖', '果糖', '麥芽糖', '葡萄糖', '蔗糖', '糖質總量', '膳食纖維', '總碳水化合物']"
   ]
  },
  {
   "cell_type": "code",
<<<<<<< HEAD
   "execution_count": 13,
=======
   "execution_count": 65,
>>>>>>> origin/main
   "metadata": {},
   "outputs": [],
   "source": [
    "vitaminA = ['維生素A總量(IU)', 'α-胡蘿蔔素', 'β-胡蘿蔔素']"
   ]
  },
  {
   "cell_type": "code",
<<<<<<< HEAD
   "execution_count": 14,
=======
   "execution_count": 66,
>>>>>>> origin/main
   "metadata": {},
   "outputs": [],
   "source": [
    "vitaminE =  ['維生素E總量', 'α-生育酚', 'α-維生素E當量(α-TE)', 'β-生育酚', 'γ-生育酚', 'δ-生育酚']"
   ]
  },
  {
   "cell_type": "code",
<<<<<<< HEAD
   "execution_count": 15,
=======
   "execution_count": 67,
>>>>>>> origin/main
   "metadata": {},
   "outputs": [],
   "source": [
    "others = ['灰分', '脂肪酸M總量', '脂肪酸P總量', '脂肪酸S總量', '酒精含量', '視網醇', '視網醇當量(RE)', '維生素D2', '維生素D3', '維生素D總量(IU)', '維生素D總量(ug)', '維生素K1', '維生素K2(MK-4)', '維生素K2(MK-7)', '熱量', 'P/M/S', '水分', '水解胺基酸總量', '葉酸']"
   ]
  },
  {
   "cell_type": "code",
<<<<<<< HEAD
   "execution_count": 16,
=======
   "execution_count": 68,
>>>>>>> origin/main
   "metadata": {},
   "outputs": [],
   "source": [
    "categories = {}\n",
    "for item in protein:\n",
    "    categories[item] = 'protein'\n",
    "for item in fat:\n",
    "    categories[item] = 'fat'\n",
    "for item in carbohydrate:\n",
    "    categories[item] = 'carbohydrate'\n",
    "for item in vitaminA:\n",
    "    categories[item] = 'vitaminA'\n",
    "for item in vitaminE:\n",
    "    categories[item] = 'vitaminE'\n",
    "for item in others:\n",
    "    categories[item] = 'others'\n",
    "\n",
    "# 替換分析項\n",
    "rn_df['分析項'] = rn_df['分析項'].replace(categories)"
   ]
  },
  {
   "cell_type": "code",
<<<<<<< HEAD
   "execution_count": 17,
=======
   "execution_count": 69,
>>>>>>> origin/main
   "metadata": {},
   "outputs": [],
   "source": [
    "rn_df['分析項'] = rn_df['分析項'].replace({'酪胺酸(Tyr)' : 'protein'})\n",
    "rn_df['分析項'] = rn_df['分析項'].replace({'修正熱量' : 'others'})\n",
    "rn_df['分析項'] = rn_df['分析項'].replace({'菸鹼素' : 'nicotine'})\n",
    "rn_df['分析項'] = rn_df['分析項'].replace({'維生素B1' : 'vitaminB1'})\n",
    "rn_df['分析項'] = rn_df['分析項'].replace({'維生素B2' : 'vitaminB2'})\n",
    "rn_df['分析項'] = rn_df['分析項'].replace({'維生素B6' : 'vitaminB6'})\n",
    "rn_df['分析項'] = rn_df['分析項'].replace({'維生素C' : 'vitaminC'})\n",
    "rn_df['分析項'] = rn_df['分析項'].replace({'維生素B12' : 'others'})\n",
    "rn_df['分析項'] = rn_df['分析項'].replace({'鈣' : 'Ca'})\n",
    "rn_df['分析項'] = rn_df['分析項'].replace({'鈉' : 'Na'})\n",
    "rn_df['分析項'] = rn_df['分析項'].replace({'磷' : 'P'})\n",
    "rn_df['分析項'] = rn_df['分析項'].replace({'鐵' : 'Fe'})\n",
    "rn_df['分析項'] = rn_df['分析項'].replace({'鎂' : 'Mg'})\n",
    "rn_df['分析項'] = rn_df['分析項'].replace({'鋅' : 'Zn'})\n",
    "rn_df['分析項'] = rn_df['分析項'].replace({'鈉' : 'Na'})\n",
    "rn_df['分析項'] = rn_df['分析項'].replace({'鉀' : 'K'})\n",
    "rn_df['分析項'] = rn_df['分析項'].replace({'銅' : 'others'})\n",
    "rn_df['分析項'] = rn_df['分析項'].replace({'錳' : 'others'})"
   ]
  },
  {
   "cell_type": "code",
<<<<<<< HEAD
   "execution_count": 18,
=======
   "execution_count": 70,
>>>>>>> origin/main
   "metadata": {},
   "outputs": [],
   "source": [
    "rn_df.drop('分析項分類', inplace=True, axis=1)"
   ]
  },
  {
   "cell_type": "code",
<<<<<<< HEAD
   "execution_count": 19,
=======
   "execution_count": 71,
>>>>>>> origin/main
   "metadata": {},
   "outputs": [
    {
     "data": {
      "text/plain": [
       "array(['carbohydrate', 'protein', 'fat', 'others', 'nicotine', 'Ca', 'Na',\n",
       "       'K', 'vitaminA', 'vitaminB1', 'vitaminB2', 'vitaminB6', 'vitaminC',\n",
       "       'vitaminE', 'Zn', 'P', 'Mg', 'Fe'], dtype=object)"
      ]
     },
<<<<<<< HEAD
     "execution_count": 19,
=======
     "execution_count": 71,
>>>>>>> origin/main
     "metadata": {},
     "output_type": "execute_result"
    }
   ],
   "source": [
    "rn_df['分析項'].unique()"
   ]
  },
  {
   "cell_type": "code",
<<<<<<< HEAD
   "execution_count": 20,
=======
   "execution_count": 72,
>>>>>>> origin/main
   "metadata": {},
   "outputs": [],
   "source": [
    "rm_col = rn_df.columns.tolist()\n",
    "rm_col.remove('樣品名稱')\n",
    "rm_col.remove('分析項')\n",
    "rm_col.remove('含量單位')\n",
    "rm_col.remove('每單位含量')\n",
    "rm_col.remove('每單位重')\n",
    "rm_col.remove('每單位重含量')\n",
    "en_rf = rn_df.drop(rm_col, axis=1)"
   ]
  },
  {
   "cell_type": "code",
<<<<<<< HEAD
   "execution_count": 21,
   "metadata": {},
   "outputs": [],
   "source": [
    "df = pd.DataFrame({\n",
    "    'Gender': ['male','male','male','male','male','male','male','male','male','female','female','female','female','female','female','female','female','female'],\n",
    "    'Age': ['<1','1-6','7-12','13-15','16-18','19-44','45-64','65-74','75+','<1','1-6','7-12','13-15','16-18','19-44','45-64','65-74','75+'],\n",
    "    'Numbers_of_people' : [43,737,875,442,393,945,959,854,477,48,709,880,429,394,969,985,893,456],\n",
    "    'Calorie' : [704.77,1476.39,2061.49,2280.52,2298.29,2471.06,2370.58,2051.02,1817.31,645.26,1318.07,1781.29,1732.94,1852.11,1844.32,1752.28,1613.88,1398.62],\n",
    "    'Protein' : [16.43,58.33,85.99,94.42,97.05,102.70,98.42,85.32,73.84,16.17,51.68,71.85,68.45,78.84,79.60,75.87,67.35,59.06],\n",
    "    'Fat' : [30.05,53.30,75.68,85.39,89.46,94.50,83.24,67.63,58.08,30.10,48.22,66.89,63.56,72.56,72.69,64.54,54.04,45.93],\n",
    "    'Carbohydrate' : [92.81,193.54,262.51,286.22,277.97,291.48,288.91,266.46,247.87,78.38,171.80,225.94,224.57,223.68,219.77,219.64,218.92,189.45],\n",
    "    'VitaminB1' : [0.72,1.07,1.46,1.65,1.64,1.63,1.63,1.44,1.29,0.59,0.95,1.26,1.14,1.31,1.25,1.25,1.21,1.08],\n",
    "    'VitaminB2' : [1.12,1.28,1.40,1.41,1.38,1.52,1.46,1.30,1.29,1.06,1.18,1.18,1.12,1.36,1.26,1.26,1.17,1.07],\n",
    "    'VitaminC' : [80.25,86.17,117.37,118.76,118.10,135.97,182.63,189.34,151.70,70.36,88.58,102.57,95.51,105.66,123.39,187.03,174.75,145.66],\n",
    "    'Nicotine' : [6.69,12.45,17.38,19.95,20.32,22.93,21.77,18.58,16.32,5.43,11.02,15.01,14.23,15.79,17.18,17.24,14.60,12.02],\n",
    "    'VitaminB6' : [0.61,1.27,1.80,2.01,2.00,2.31,2.35,2.22,1.99,0.52,1.13,1.50,1.47,1.66,1.76,1.97,1.80,1.54],\n",
    "    'VitaminA' : [696.74,602.07,688.08,686.71,626.45,695.35,904.46,958.28,915.16,655.31,589.04,587.83,531.49,622.27,646.38,852.50,1031.09,993.31],\n",
    "    'VitaminE' : [7.43,7.06,8.62,9.69,10.03,10.29,9.90,9.44,8.68,6.18,6.71,7.83,7.27,8.13,8.61,9.04,8.72,7.39],\n",
    "    'Ca' : [452.09,567.77,524.23,482.96,531.39,530.33,575.74,594.82,595.58,459.46,530.95,435.07,426.14,466.02,479.68,557.50,560.21,522.26],\n",
    "    'P' : [314.84,926.78,1224.06,1300.79,1330.00,1398.91,1400.90,1263.98,1147.84,314.76,836.09,1031.43,978.76,1104.48,1116.59,1109.06,1054.49,918.02],\n",
    "    'Fe' : [7.57,10.03,13.92,15.54,14.67,16.56,17.54,15.59,13.74,5.74,9.31,11.66,11.59,13.17,13.12,14.51,13.89,12.28],\n",
    "    'Mg' : [76.00,187.64,248.12,261.71,265.21,296.95,342.35,342.12,302.15,68.39,169.51,212.20,200.78,227.67,244.02,292.61,307.23,247.18],\n",
    "    'Zn' : [6.02,8.75,11.87,13.00,12.89,13.88,14.11,12.96,11.20,4.96,7.55,9.67,9.46,11.03,10.58,10.80,10.32,9.78],\n",
    "    'Na' : [245.35,1980.33,3364.69,3743.90,3749.62,4140.41,3563.29,2979.81,2557.96,252.06,1855.28,2839.04,2837.79,3016.81,3196.05,2803.28,2351.99,2194.12],\n",
    "    'K' : [757.37,1758.48,2322.66,2408.84,2332.97,2665.89,3007.36,3016.00,2681.86,782.08,1619.22,1991.35,1865.73,2096.43,2287.28,2701.78,2684.74,2159.99]\n",
    "    })"
   ]
  },
  {
   "cell_type": "code",
   "execution_count": 22,
=======
   "execution_count": 73,
>>>>>>> origin/main
   "metadata": {},
   "outputs": [
    {
     "data": {
      "text/plain": [
       "Index(['樣品名稱', '分析項', '含量單位', '每單位含量', '每單位重', '每單位重含量'], dtype='object')"
      ]
     },
<<<<<<< HEAD
     "execution_count": 22,
=======
     "execution_count": 73,
>>>>>>> origin/main
     "metadata": {},
     "output_type": "execute_result"
    }
   ],
   "source": [
    "en_rf.columns"
   ]
  },
  {
   "cell_type": "code",
<<<<<<< HEAD
   "execution_count": 23,
=======
   "execution_count": 74,
>>>>>>> origin/main
   "metadata": {},
   "outputs": [],
   "source": [
    "en_rf.rename(columns = {'樣品名稱':'Name', '分析項':'Analysis_item', '含量單位':'Unit', '每單位含量':'Content_per_unit', '每單位重':'Weight_per_unit', '每單位重含量':'Content_per_unit_weight'}, inplace = True)"
   ]
  },
  {
   "cell_type": "code",
<<<<<<< HEAD
   "execution_count": 24,
=======
   "execution_count": 75,
>>>>>>> origin/main
   "metadata": {},
   "outputs": [
    {
     "data": {
      "text/plain": [
       "Index(['Name', 'Analysis_item', 'Unit', 'Content_per_unit', 'Weight_per_unit',\n",
       "       'Content_per_unit_weight'],\n",
       "      dtype='object')"
      ]
     },
<<<<<<< HEAD
     "execution_count": 24,
=======
     "execution_count": 75,
>>>>>>> origin/main
     "metadata": {},
     "output_type": "execute_result"
    }
   ],
   "source": [
    "en_rf.columns"
   ]
  },
  {
   "cell_type": "code",
<<<<<<< HEAD
   "execution_count": 25,
=======
   "execution_count": 76,
>>>>>>> origin/main
   "metadata": {},
   "outputs": [
    {
     "data": {
      "text/plain": [
       "array(['carbohydrate', 'protein', 'fat', 'others', 'nicotine', 'Ca', 'Na',\n",
       "       'K', 'vitaminA', 'vitaminB1', 'vitaminB2', 'vitaminB6', 'vitaminC',\n",
       "       'vitaminE', 'Zn', 'P', 'Mg', 'Fe'], dtype=object)"
      ]
     },
<<<<<<< HEAD
     "execution_count": 25,
=======
     "execution_count": 76,
>>>>>>> origin/main
     "metadata": {},
     "output_type": "execute_result"
    }
   ],
   "source": [
    "en_rf['Analysis_item'].unique()"
   ]
  },
  {
   "attachments": {},
   "cell_type": "markdown",
   "metadata": {},
   "source": [
    "### nicotine"
   ]
  },
  {
   "cell_type": "code",
<<<<<<< HEAD
   "execution_count": 26,
=======
   "execution_count": 77,
>>>>>>> origin/main
   "metadata": {},
   "outputs": [
    {
     "data": {
      "text/plain": [
       "array(['mg'], dtype=object)"
      ]
     },
<<<<<<< HEAD
     "execution_count": 26,
=======
     "execution_count": 77,
>>>>>>> origin/main
     "metadata": {},
     "output_type": "execute_result"
    }
   ],
   "source": [
    "mask = en_rf['Analysis_item'] == 'nicotine'\n",
    "tmp = en_rf[mask]\n",
    "tmp['Unit'].unique()"
   ]
  },
  {
   "attachments": {},
   "cell_type": "markdown",
   "metadata": {},
   "source": [
    "### change fat unit from mg to g"
   ]
  },
  {
   "cell_type": "code",
<<<<<<< HEAD
   "execution_count": 27,
=======
   "execution_count": 78,
>>>>>>> origin/main
   "metadata": {},
   "outputs": [],
   "source": [
    "# Assuming your dataframe is named df\n",
    "condition = (en_rf['Unit'] == 'mg') & (en_rf['Analysis_item'] == 'fat')\n",
    "filtered_df = en_rf[condition].copy()\n",
    "\n",
    "# Divide 'Content_per_unit' by 10000 and change 'Unit' to 'g'\n",
    "filtered_df['Content_per_unit'] = filtered_df['Content_per_unit'] / 1000\n",
    "filtered_df['Unit'] = 'g'\n",
    "\n",
    "# Update the original dataframe with the modified rows\n",
    "en_rf.update(filtered_df)"
   ]
  },
  {
   "attachments": {},
   "cell_type": "markdown",
   "metadata": {},
   "source": [
    "### change protein unit from mg to g"
   ]
  },
  {
   "cell_type": "code",
<<<<<<< HEAD
   "execution_count": 28,
=======
   "execution_count": 79,
>>>>>>> origin/main
   "metadata": {},
   "outputs": [
    {
     "data": {
      "text/plain": [
       "array(['mg', 'g'], dtype=object)"
      ]
     },
<<<<<<< HEAD
     "execution_count": 28,
=======
     "execution_count": 79,
>>>>>>> origin/main
     "metadata": {},
     "output_type": "execute_result"
    }
   ],
   "source": [
    "mask = en_rf['Analysis_item'] == 'protein'\n",
    "tmp = en_rf[mask]\n",
    "tmp['Unit'].unique()"
   ]
  },
  {
   "cell_type": "code",
<<<<<<< HEAD
   "execution_count": 29,
=======
   "execution_count": 80,
>>>>>>> origin/main
   "metadata": {},
   "outputs": [],
   "source": [
    "# Assuming your dataframe is named df\n",
    "condition = (en_rf['Unit'] == 'mg') & (en_rf['Analysis_item'] == 'protein')\n",
    "filtered_df = en_rf[condition].copy()\n",
    "\n",
    "# Divide 'Content_per_unit' by 10000 and change 'Unit' to 'g'\n",
    "filtered_df['Content_per_unit'] = filtered_df['Content_per_unit'] / 1000\n",
    "filtered_df['Unit'] = 'g'\n",
    "\n",
    "# Update the original dataframe with the modified rows\n",
    "en_rf.update(filtered_df)"
   ]
  },
  {
   "attachments": {},
   "cell_type": "markdown",
   "metadata": {},
   "source": [
    "### change 醣類(Carbohydrate) unit , no need to change "
   ]
  },
  {
   "cell_type": "code",
<<<<<<< HEAD
   "execution_count": 30,
=======
   "execution_count": 81,
>>>>>>> origin/main
   "metadata": {},
   "outputs": [
    {
     "data": {
      "text/plain": [
       "array(['g'], dtype=object)"
      ]
     },
<<<<<<< HEAD
     "execution_count": 30,
=======
     "execution_count": 81,
>>>>>>> origin/main
     "metadata": {},
     "output_type": "execute_result"
    }
   ],
   "source": [
    "mask = en_rf['Analysis_item'] == 'carbohydrate'\n",
    "tmp = en_rf[mask]\n",
    "tmp['Unit'].unique()"
   ]
  },
  {
   "attachments": {},
   "cell_type": "markdown",
   "metadata": {},
   "source": [
    "### vitaminB1"
   ]
  },
  {
   "cell_type": "code",
<<<<<<< HEAD
   "execution_count": 31,
=======
   "execution_count": 82,
>>>>>>> origin/main
   "metadata": {},
   "outputs": [
    {
     "data": {
      "text/plain": [
       "array(['mg'], dtype=object)"
      ]
     },
<<<<<<< HEAD
     "execution_count": 31,
=======
     "execution_count": 82,
>>>>>>> origin/main
     "metadata": {},
     "output_type": "execute_result"
    }
   ],
   "source": [
    "mask = en_rf['Analysis_item'] == 'vitaminB1'\n",
    "tmp = en_rf[mask]\n",
    "tmp['Unit'].unique()"
   ]
  },
  {
   "attachments": {},
   "cell_type": "markdown",
   "metadata": {},
   "source": [
    "### vitaminB2"
   ]
  },
  {
   "cell_type": "code",
<<<<<<< HEAD
   "execution_count": 32,
=======
   "execution_count": 83,
>>>>>>> origin/main
   "metadata": {},
   "outputs": [
    {
     "data": {
      "text/plain": [
       "array(['mg'], dtype=object)"
      ]
     },
<<<<<<< HEAD
     "execution_count": 32,
=======
     "execution_count": 83,
>>>>>>> origin/main
     "metadata": {},
     "output_type": "execute_result"
    }
   ],
   "source": [
    "mask = en_rf['Analysis_item'] == 'vitaminB2'\n",
    "tmp = en_rf[mask]\n",
    "tmp['Unit'].unique()"
   ]
  },
  {
   "attachments": {},
   "cell_type": "markdown",
   "metadata": {},
   "source": [
    "### vitaminC"
   ]
  },
  {
   "cell_type": "code",
<<<<<<< HEAD
   "execution_count": 33,
=======
   "execution_count": 84,
>>>>>>> origin/main
   "metadata": {},
   "outputs": [
    {
     "data": {
      "text/plain": [
       "array(['mg'], dtype=object)"
      ]
     },
<<<<<<< HEAD
     "execution_count": 33,
=======
     "execution_count": 84,
>>>>>>> origin/main
     "metadata": {},
     "output_type": "execute_result"
    }
   ],
   "source": [
    "mask = en_rf['Analysis_item'] == 'vitaminC'\n",
    "tmp = en_rf[mask]\n",
    "tmp['Unit'].unique()"
   ]
  },
  {
   "attachments": {},
   "cell_type": "markdown",
   "metadata": {},
   "source": [
    "### vitaminB6"
   ]
  },
  {
   "cell_type": "code",
<<<<<<< HEAD
   "execution_count": 34,
=======
   "execution_count": 85,
>>>>>>> origin/main
   "metadata": {},
   "outputs": [
    {
     "data": {
      "text/plain": [
       "array(['mg'], dtype=object)"
      ]
     },
<<<<<<< HEAD
     "execution_count": 34,
=======
     "execution_count": 85,
>>>>>>> origin/main
     "metadata": {},
     "output_type": "execute_result"
    }
   ],
   "source": [
    "mask = en_rf['Analysis_item'] == 'vitaminB6'\n",
    "tmp = en_rf[mask]\n",
    "tmp['Unit'].unique()"
   ]
  },
  {
   "attachments": {},
   "cell_type": "markdown",
   "metadata": {},
   "source": [
    "### vitaminA, change from 1I.U. to o.3 ug"
   ]
  },
  {
   "cell_type": "code",
<<<<<<< HEAD
   "execution_count": 35,
=======
   "execution_count": 86,
>>>>>>> origin/main
   "metadata": {},
   "outputs": [
    {
     "data": {
      "text/plain": [
       "array(['I.U.', 'ug'], dtype=object)"
      ]
     },
<<<<<<< HEAD
     "execution_count": 35,
=======
     "execution_count": 86,
>>>>>>> origin/main
     "metadata": {},
     "output_type": "execute_result"
    }
   ],
   "source": [
    "mask = en_rf['Analysis_item'] == 'vitaminA'\n",
    "tmp = en_rf[mask]\n",
    "tmp['Unit'].unique()"
   ]
  },
  {
   "cell_type": "code",
<<<<<<< HEAD
   "execution_count": 36,
=======
   "execution_count": 87,
>>>>>>> origin/main
   "metadata": {},
   "outputs": [],
   "source": [
    "# Assuming your dataframe is named df\n",
    "condition = (en_rf['Unit'] == 'I.U.') & (en_rf['Analysis_item'] == 'vitaminA')\n",
    "filtered_df = en_rf[condition].copy()\n",
    "\n",
    "# Divide 'Content_per_unit' by 10000 and change 'Unit' to 'g'\n",
    "filtered_df['Content_per_unit'] = filtered_df['Content_per_unit'] * 0.3\n",
    "filtered_df['Unit'] = 'ug'\n",
    "\n",
    "# Update the original dataframe with the modified rows\n",
    "en_rf.update(filtered_df)"
   ]
  },
  {
   "attachments": {},
   "cell_type": "markdown",
   "metadata": {},
   "source": [
    "### vitaminE"
   ]
  },
  {
   "cell_type": "code",
<<<<<<< HEAD
   "execution_count": 37,
=======
   "execution_count": 88,
>>>>>>> origin/main
   "metadata": {},
   "outputs": [
    {
     "data": {
      "text/plain": [
       "array(['mg'], dtype=object)"
      ]
     },
<<<<<<< HEAD
     "execution_count": 37,
=======
     "execution_count": 88,
>>>>>>> origin/main
     "metadata": {},
     "output_type": "execute_result"
    }
   ],
   "source": [
    "mask = en_rf['Analysis_item'] == 'vitaminE'\n",
    "tmp = en_rf[mask]\n",
    "tmp['Unit'].unique()"
   ]
  },
  {
   "attachments": {},
   "cell_type": "markdown",
   "metadata": {},
   "source": [
    "### Ca"
   ]
  },
  {
   "cell_type": "code",
<<<<<<< HEAD
   "execution_count": 38,
=======
   "execution_count": 89,
>>>>>>> origin/main
   "metadata": {},
   "outputs": [
    {
     "data": {
      "text/plain": [
       "array(['mg'], dtype=object)"
      ]
     },
<<<<<<< HEAD
     "execution_count": 38,
=======
     "execution_count": 89,
>>>>>>> origin/main
     "metadata": {},
     "output_type": "execute_result"
    }
   ],
   "source": [
    "mask = en_rf['Analysis_item'] == 'Ca'\n",
    "tmp = en_rf[mask]\n",
    "tmp['Unit'].unique()"
   ]
  },
  {
   "attachments": {},
   "cell_type": "markdown",
   "metadata": {},
   "source": [
    "### P"
   ]
  },
  {
   "cell_type": "code",
<<<<<<< HEAD
   "execution_count": 39,
=======
   "execution_count": 90,
>>>>>>> origin/main
   "metadata": {},
   "outputs": [
    {
     "data": {
      "text/plain": [
       "array(['mg'], dtype=object)"
      ]
     },
<<<<<<< HEAD
     "execution_count": 39,
=======
     "execution_count": 90,
>>>>>>> origin/main
     "metadata": {},
     "output_type": "execute_result"
    }
   ],
   "source": [
    "mask = en_rf['Analysis_item'] == 'P'\n",
    "tmp = en_rf[mask]\n",
    "tmp['Unit'].unique()"
   ]
  },
  {
   "attachments": {},
   "cell_type": "markdown",
   "metadata": {},
   "source": [
    "### Mg"
   ]
  },
  {
   "cell_type": "code",
<<<<<<< HEAD
   "execution_count": 40,
=======
   "execution_count": 91,
>>>>>>> origin/main
   "metadata": {},
   "outputs": [
    {
     "data": {
      "text/plain": [
       "array(['mg'], dtype=object)"
      ]
     },
<<<<<<< HEAD
     "execution_count": 40,
=======
     "execution_count": 91,
>>>>>>> origin/main
     "metadata": {},
     "output_type": "execute_result"
    }
   ],
   "source": [
    "mask = en_rf['Analysis_item'] == 'Mg'\n",
    "tmp = en_rf[mask]\n",
    "tmp['Unit'].unique()"
   ]
  },
  {
   "attachments": {},
   "cell_type": "markdown",
   "metadata": {},
   "source": [
    "### Zn"
   ]
  },
  {
   "cell_type": "code",
<<<<<<< HEAD
   "execution_count": 41,
=======
   "execution_count": 92,
>>>>>>> origin/main
   "metadata": {},
   "outputs": [
    {
     "data": {
      "text/plain": [
       "array(['mg'], dtype=object)"
      ]
     },
<<<<<<< HEAD
     "execution_count": 41,
=======
     "execution_count": 92,
>>>>>>> origin/main
     "metadata": {},
     "output_type": "execute_result"
    }
   ],
   "source": [
    "mask = en_rf['Analysis_item'] == 'Zn'\n",
    "tmp = en_rf[mask]\n",
    "tmp['Unit'].unique()"
   ]
  },
  {
   "attachments": {},
   "cell_type": "markdown",
   "metadata": {},
   "source": [
    "### Na"
   ]
  },
  {
   "cell_type": "code",
<<<<<<< HEAD
   "execution_count": 42,
=======
   "execution_count": 93,
>>>>>>> origin/main
   "metadata": {},
   "outputs": [
    {
     "data": {
      "text/plain": [
       "array(['mg'], dtype=object)"
      ]
     },
<<<<<<< HEAD
     "execution_count": 42,
=======
     "execution_count": 93,
>>>>>>> origin/main
     "metadata": {},
     "output_type": "execute_result"
    }
   ],
   "source": [
    "mask = en_rf['Analysis_item'] == 'Na'\n",
    "tmp = en_rf[mask]\n",
    "tmp['Unit'].unique()"
   ]
  },
  {
   "attachments": {},
   "cell_type": "markdown",
   "metadata": {},
   "source": [
    "### K"
   ]
  },
  {
   "cell_type": "code",
<<<<<<< HEAD
   "execution_count": 43,
=======
   "execution_count": 94,
>>>>>>> origin/main
   "metadata": {},
   "outputs": [
    {
     "data": {
      "text/plain": [
       "array(['mg'], dtype=object)"
      ]
     },
<<<<<<< HEAD
     "execution_count": 43,
=======
     "execution_count": 94,
>>>>>>> origin/main
     "metadata": {},
     "output_type": "execute_result"
    }
   ],
   "source": [
    "mask = en_rf['Analysis_item'] == 'K'\n",
    "tmp = en_rf[mask]\n",
    "tmp['Unit'].unique()"
   ]
  },
  {
   "attachments": {},
   "cell_type": "markdown",
   "metadata": {},
   "source": [
    "### merge rows with same analysis_item"
   ]
  },
  {
   "cell_type": "code",
<<<<<<< HEAD
   "execution_count": 44,
=======
   "execution_count": 95,
>>>>>>> origin/main
   "metadata": {},
   "outputs": [
    {
     "data": {
      "text/plain": [
       "Index(['Name', 'Analysis_item', 'Unit', 'Content_per_unit', 'Weight_per_unit',\n",
       "       'Content_per_unit_weight'],\n",
       "      dtype='object')"
      ]
     },
<<<<<<< HEAD
     "execution_count": 44,
=======
     "execution_count": 95,
>>>>>>> origin/main
     "metadata": {},
     "output_type": "execute_result"
    }
   ],
   "source": [
    "en_rf.columns"
   ]
  },
  {
   "cell_type": "code",
<<<<<<< HEAD
   "execution_count": 45,
=======
   "execution_count": 96,
>>>>>>> origin/main
   "metadata": {},
   "outputs": [
    {
     "data": {
      "text/plain": [
       "array(['carbohydrate', 'protein', 'fat', 'others', 'nicotine', 'Ca', 'Na',\n",
       "       'K', 'vitaminA', 'vitaminB1', 'vitaminB2', 'vitaminB6', 'vitaminC',\n",
       "       'vitaminE', 'Zn', 'P', 'Mg', 'Fe'], dtype=object)"
      ]
     },
<<<<<<< HEAD
     "execution_count": 45,
=======
     "execution_count": 96,
>>>>>>> origin/main
     "metadata": {},
     "output_type": "execute_result"
    }
   ],
   "source": [
    "en_rf['Analysis_item'].unique()"
   ]
  },
  {
   "attachments": {},
   "cell_type": "markdown",
   "metadata": {},
   "source": [
    "### merge same analysis_item"
   ]
  },
  {
   "cell_type": "code",
<<<<<<< HEAD
   "execution_count": 46,
=======
   "execution_count": 97,
>>>>>>> origin/main
   "metadata": {},
   "outputs": [
    {
     "data": {
      "text/html": [
       "<div>\n",
       "<style scoped>\n",
       "    .dataframe tbody tr th:only-of-type {\n",
       "        vertical-align: middle;\n",
       "    }\n",
       "\n",
       "    .dataframe tbody tr th {\n",
       "        vertical-align: top;\n",
       "    }\n",
       "\n",
       "    .dataframe thead th {\n",
       "        text-align: right;\n",
       "    }\n",
       "</style>\n",
       "<table border=\"1\" class=\"dataframe\">\n",
       "  <thead>\n",
       "    <tr style=\"text-align: right;\">\n",
       "      <th></th>\n",
       "      <th>Name</th>\n",
       "      <th>Analysis_item</th>\n",
       "      <th>Unit</th>\n",
       "      <th>Weight_per_unit</th>\n",
       "      <th>Content_per_unit</th>\n",
       "      <th>Content_per_unit_weight</th>\n",
       "    </tr>\n",
       "  </thead>\n",
       "  <tbody>\n",
       "    <tr>\n",
       "      <th>0</th>\n",
       "      <td>DHA豆奶</td>\n",
       "      <td>Ca</td>\n",
       "      <td>mg</td>\n",
       "      <td>0.0克</td>\n",
       "      <td>24.00</td>\n",
       "      <td>0.0</td>\n",
       "    </tr>\n",
       "    <tr>\n",
       "      <th>1</th>\n",
       "      <td>DHA豆奶</td>\n",
       "      <td>Fe</td>\n",
       "      <td>mg</td>\n",
       "      <td>0.0克</td>\n",
       "      <td>0.20</td>\n",
       "      <td>0.0</td>\n",
       "    </tr>\n",
       "    <tr>\n",
       "      <th>2</th>\n",
       "      <td>DHA豆奶</td>\n",
       "      <td>K</td>\n",
       "      <td>mg</td>\n",
       "      <td>0.0克</td>\n",
       "      <td>85.00</td>\n",
       "      <td>0.0</td>\n",
       "    </tr>\n",
       "    <tr>\n",
       "      <th>3</th>\n",
       "      <td>DHA豆奶</td>\n",
       "      <td>Mg</td>\n",
       "      <td>mg</td>\n",
       "      <td>0.0克</td>\n",
       "      <td>8.00</td>\n",
       "      <td>0.0</td>\n",
       "    </tr>\n",
       "    <tr>\n",
       "      <th>4</th>\n",
       "      <td>DHA豆奶</td>\n",
       "      <td>Na</td>\n",
       "      <td>mg</td>\n",
       "      <td>0.0克</td>\n",
       "      <td>34.00</td>\n",
       "      <td>0.0</td>\n",
       "    </tr>\n",
       "    <tr>\n",
       "      <th>...</th>\n",
       "      <td>...</td>\n",
       "      <td>...</td>\n",
       "      <td>...</td>\n",
       "      <td>...</td>\n",
       "      <td>...</td>\n",
       "      <td>...</td>\n",
       "    </tr>\n",
       "    <tr>\n",
       "      <th>47537</th>\n",
       "      <td>龜苓茶</td>\n",
       "      <td>vitaminB1</td>\n",
       "      <td>mg</td>\n",
       "      <td>0.0克</td>\n",
       "      <td>0.00</td>\n",
       "      <td>0.0</td>\n",
       "    </tr>\n",
       "    <tr>\n",
       "      <th>47538</th>\n",
       "      <td>龜苓茶</td>\n",
       "      <td>vitaminB2</td>\n",
       "      <td>mg</td>\n",
       "      <td>0.0克</td>\n",
       "      <td>0.00</td>\n",
       "      <td>0.0</td>\n",
       "    </tr>\n",
       "    <tr>\n",
       "      <th>47539</th>\n",
       "      <td>龜苓茶</td>\n",
       "      <td>vitaminB6</td>\n",
       "      <td>mg</td>\n",
       "      <td>0.0克</td>\n",
       "      <td>0.01</td>\n",
       "      <td>0.0</td>\n",
       "    </tr>\n",
       "    <tr>\n",
       "      <th>47540</th>\n",
       "      <td>龜苓茶</td>\n",
       "      <td>vitaminC</td>\n",
       "      <td>mg</td>\n",
       "      <td>0.0克</td>\n",
       "      <td>0.00</td>\n",
       "      <td>0.0</td>\n",
       "    </tr>\n",
       "    <tr>\n",
       "      <th>47541</th>\n",
       "      <td>龜苓茶</td>\n",
       "      <td>vitaminE</td>\n",
       "      <td>mg</td>\n",
       "      <td>0.0克</td>\n",
       "      <td>0.00</td>\n",
       "      <td>0.0</td>\n",
       "    </tr>\n",
       "  </tbody>\n",
       "</table>\n",
       "<p>47542 rows × 6 columns</p>\n",
       "</div>"
      ],
      "text/plain": [
       "        Name Analysis_item Unit Weight_per_unit  Content_per_unit  \\\n",
       "0      DHA豆奶            Ca   mg            0.0克             24.00   \n",
       "1      DHA豆奶            Fe   mg            0.0克              0.20   \n",
       "2      DHA豆奶             K   mg            0.0克             85.00   \n",
       "3      DHA豆奶            Mg   mg            0.0克              8.00   \n",
       "4      DHA豆奶            Na   mg            0.0克             34.00   \n",
       "...      ...           ...  ...             ...               ...   \n",
       "47537    龜苓茶     vitaminB1   mg            0.0克              0.00   \n",
       "47538    龜苓茶     vitaminB2   mg            0.0克              0.00   \n",
       "47539    龜苓茶     vitaminB6   mg            0.0克              0.01   \n",
       "47540    龜苓茶      vitaminC   mg            0.0克              0.00   \n",
       "47541    龜苓茶      vitaminE   mg            0.0克              0.00   \n",
       "\n",
       "       Content_per_unit_weight  \n",
       "0                          0.0  \n",
       "1                          0.0  \n",
       "2                          0.0  \n",
       "3                          0.0  \n",
       "4                          0.0  \n",
       "...                        ...  \n",
       "47537                      0.0  \n",
       "47538                      0.0  \n",
       "47539                      0.0  \n",
       "47540                      0.0  \n",
       "47541                      0.0  \n",
       "\n",
       "[47542 rows x 6 columns]"
      ]
     },
<<<<<<< HEAD
     "execution_count": 46,
=======
     "execution_count": 97,
>>>>>>> origin/main
     "metadata": {},
     "output_type": "execute_result"
    }
   ],
   "source": [
    "result = en_rf.groupby(['Name', 'Analysis_item', 'Unit', 'Weight_per_unit'], as_index=False).agg({\"Content_per_unit\": \"sum\", \"Content_per_unit_weight\": \"sum\"})\n",
    "result"
   ]
  },
  {
   "cell_type": "code",
<<<<<<< HEAD
   "execution_count": 47,
=======
   "execution_count": 98,
>>>>>>> origin/main
   "metadata": {},
   "outputs": [],
   "source": [
    "en_rf = result"
   ]
  },
  {
   "cell_type": "code",
<<<<<<< HEAD
   "execution_count": 48,
=======
   "execution_count": 99,
>>>>>>> origin/main
   "metadata": {},
   "outputs": [],
   "source": [
    "en_rf.to_csv('everyday_nutrition.csv')"
   ]
  },
  {
   "cell_type": "code",
<<<<<<< HEAD
   "execution_count": 95,
   "metadata": {},
   "outputs": [
    {
     "ename": "IntegrityError",
     "evalue": "(pymysql.err.IntegrityError) (1062, \"Duplicate entry 'Ca' for key 'PRIMARY'\")\n[SQL: INSERT INTO everyday_nutrition (`Name`, `Analysis_item`, `Content_per_unit`, `Unit`) VALUES (%(Name)s, %(Analysis_item)s, %(Content_per_unit)s, %(Unit)s)]\n[parameters: [{'Name': 'DHA豆奶', 'Analysis_item': 'Ca', 'Content_per_unit': 24.0, 'Unit': 'mg'}, {'Name': 'DHA豆奶', 'Analysis_item': 'Fe', 'Content_per_unit': 0.2, 'Unit': 'mg'}, {'Name': 'DHA豆奶', 'Analysis_item': 'K', 'Content_per_unit': 85.0, 'Unit': 'mg'}, {'Name': 'DHA豆奶', 'Analysis_item': 'Mg', 'Content_per_unit': 8.0, 'Unit': 'mg'}, {'Name': 'DHA豆奶', 'Analysis_item': 'Na', 'Content_per_unit': 34.0, 'Unit': 'mg'}, {'Name': 'DHA豆奶', 'Analysis_item': 'P', 'Content_per_unit': 52.0, 'Unit': 'mg'}, {'Name': 'DHA豆奶', 'Analysis_item': 'Zn', 'Content_per_unit': 0.2, 'Unit': 'mg'}, {'Name': 'DHA豆奶', 'Analysis_item': 'carbohydrate', 'Content_per_unit': 8.1, 'Unit': 'g'}  ... displaying 10 of 38880 total bound parameter sets ...  {'Name': '龜苓茶', 'Analysis_item': 'vitaminC', 'Content_per_unit': 0.0, 'Unit': 'mg'}, {'Name': '龜苓茶', 'Analysis_item': 'vitaminE', 'Content_per_unit': 0.0, 'Unit': 'mg'}]]\n(Background on this error at: https://sqlalche.me/e/20/gkpj)",
     "output_type": "error",
     "traceback": [
      "\u001b[1;31m---------------------------------------------------------------------------\u001b[0m",
      "\u001b[1;31mIntegrityError\u001b[0m                            Traceback (most recent call last)",
      "File \u001b[1;32mc:\\Users\\fan51\\anaconda3\\envs\\myenv3\\lib\\site-packages\\sqlalchemy\\engine\\base.py:1932\u001b[0m, in \u001b[0;36mConnection._exec_single_context\u001b[1;34m(self, dialect, context, statement, parameters)\u001b[0m\n\u001b[0;32m   1931\u001b[0m     \u001b[39mif\u001b[39;00m \u001b[39mnot\u001b[39;00m evt_handled:\n\u001b[1;32m-> 1932\u001b[0m         \u001b[39mself\u001b[39;49m\u001b[39m.\u001b[39;49mdialect\u001b[39m.\u001b[39;49mdo_executemany(\n\u001b[0;32m   1933\u001b[0m             cursor,\n\u001b[0;32m   1934\u001b[0m             str_statement,\n\u001b[0;32m   1935\u001b[0m             effective_parameters,\n\u001b[0;32m   1936\u001b[0m             context,\n\u001b[0;32m   1937\u001b[0m         )\n\u001b[0;32m   1938\u001b[0m \u001b[39melif\u001b[39;00m \u001b[39mnot\u001b[39;00m effective_parameters \u001b[39mand\u001b[39;00m context\u001b[39m.\u001b[39mno_parameters:\n",
      "File \u001b[1;32mc:\\Users\\fan51\\anaconda3\\envs\\myenv3\\lib\\site-packages\\sqlalchemy\\dialects\\mysql\\mysqldb.py:175\u001b[0m, in \u001b[0;36mMySQLDialect_mysqldb.do_executemany\u001b[1;34m(self, cursor, statement, parameters, context)\u001b[0m\n\u001b[0;32m    174\u001b[0m \u001b[39mdef\u001b[39;00m \u001b[39mdo_executemany\u001b[39m(\u001b[39mself\u001b[39m, cursor, statement, parameters, context\u001b[39m=\u001b[39m\u001b[39mNone\u001b[39;00m):\n\u001b[1;32m--> 175\u001b[0m     rowcount \u001b[39m=\u001b[39m cursor\u001b[39m.\u001b[39;49mexecutemany(statement, parameters)\n\u001b[0;32m    176\u001b[0m     \u001b[39mif\u001b[39;00m context \u001b[39mis\u001b[39;00m \u001b[39mnot\u001b[39;00m \u001b[39mNone\u001b[39;00m:\n",
      "File \u001b[1;32mc:\\Users\\fan51\\anaconda3\\envs\\myenv3\\lib\\site-packages\\pymysql\\cursors.py:187\u001b[0m, in \u001b[0;36mCursor.executemany\u001b[1;34m(self, query, args)\u001b[0m\n\u001b[0;32m    186\u001b[0m     \u001b[39massert\u001b[39;00m q_values[\u001b[39m0\u001b[39m] \u001b[39m==\u001b[39m \u001b[39m\"\u001b[39m\u001b[39m(\u001b[39m\u001b[39m\"\u001b[39m \u001b[39mand\u001b[39;00m q_values[\u001b[39m-\u001b[39m\u001b[39m1\u001b[39m] \u001b[39m==\u001b[39m \u001b[39m\"\u001b[39m\u001b[39m)\u001b[39m\u001b[39m\"\u001b[39m\n\u001b[1;32m--> 187\u001b[0m     \u001b[39mreturn\u001b[39;00m \u001b[39mself\u001b[39;49m\u001b[39m.\u001b[39;49m_do_execute_many(\n\u001b[0;32m    188\u001b[0m         q_prefix,\n\u001b[0;32m    189\u001b[0m         q_values,\n\u001b[0;32m    190\u001b[0m         q_postfix,\n\u001b[0;32m    191\u001b[0m         args,\n\u001b[0;32m    192\u001b[0m         \u001b[39mself\u001b[39;49m\u001b[39m.\u001b[39;49mmax_stmt_length,\n\u001b[0;32m    193\u001b[0m         \u001b[39mself\u001b[39;49m\u001b[39m.\u001b[39;49m_get_db()\u001b[39m.\u001b[39;49mencoding,\n\u001b[0;32m    194\u001b[0m     )\n\u001b[0;32m    196\u001b[0m \u001b[39mself\u001b[39m\u001b[39m.\u001b[39mrowcount \u001b[39m=\u001b[39m \u001b[39msum\u001b[39m(\u001b[39mself\u001b[39m\u001b[39m.\u001b[39mexecute(query, arg) \u001b[39mfor\u001b[39;00m arg \u001b[39min\u001b[39;00m args)\n",
      "File \u001b[1;32mc:\\Users\\fan51\\anaconda3\\envs\\myenv3\\lib\\site-packages\\pymysql\\cursors.py:220\u001b[0m, in \u001b[0;36mCursor._do_execute_many\u001b[1;34m(self, prefix, values, postfix, args, max_stmt_length, encoding)\u001b[0m\n\u001b[0;32m    219\u001b[0m \u001b[39mif\u001b[39;00m \u001b[39mlen\u001b[39m(sql) \u001b[39m+\u001b[39m \u001b[39mlen\u001b[39m(v) \u001b[39m+\u001b[39m \u001b[39mlen\u001b[39m(postfix) \u001b[39m+\u001b[39m \u001b[39m1\u001b[39m \u001b[39m>\u001b[39m max_stmt_length:\n\u001b[1;32m--> 220\u001b[0m     rows \u001b[39m+\u001b[39m\u001b[39m=\u001b[39m \u001b[39mself\u001b[39;49m\u001b[39m.\u001b[39;49mexecute(sql \u001b[39m+\u001b[39;49m postfix)\n\u001b[0;32m    221\u001b[0m     sql \u001b[39m=\u001b[39m \u001b[39mbytearray\u001b[39m(prefix)\n",
      "File \u001b[1;32mc:\\Users\\fan51\\anaconda3\\envs\\myenv3\\lib\\site-packages\\pymysql\\cursors.py:158\u001b[0m, in \u001b[0;36mCursor.execute\u001b[1;34m(self, query, args)\u001b[0m\n\u001b[0;32m    156\u001b[0m query \u001b[39m=\u001b[39m \u001b[39mself\u001b[39m\u001b[39m.\u001b[39mmogrify(query, args)\n\u001b[1;32m--> 158\u001b[0m result \u001b[39m=\u001b[39m \u001b[39mself\u001b[39;49m\u001b[39m.\u001b[39;49m_query(query)\n\u001b[0;32m    159\u001b[0m \u001b[39mself\u001b[39m\u001b[39m.\u001b[39m_executed \u001b[39m=\u001b[39m query\n",
      "File \u001b[1;32mc:\\Users\\fan51\\anaconda3\\envs\\myenv3\\lib\\site-packages\\pymysql\\cursors.py:325\u001b[0m, in \u001b[0;36mCursor._query\u001b[1;34m(self, q)\u001b[0m\n\u001b[0;32m    324\u001b[0m \u001b[39mself\u001b[39m\u001b[39m.\u001b[39m_clear_result()\n\u001b[1;32m--> 325\u001b[0m conn\u001b[39m.\u001b[39;49mquery(q)\n\u001b[0;32m    326\u001b[0m \u001b[39mself\u001b[39m\u001b[39m.\u001b[39m_do_get_result()\n",
      "File \u001b[1;32mc:\\Users\\fan51\\anaconda3\\envs\\myenv3\\lib\\site-packages\\pymysql\\connections.py:549\u001b[0m, in \u001b[0;36mConnection.query\u001b[1;34m(self, sql, unbuffered)\u001b[0m\n\u001b[0;32m    548\u001b[0m \u001b[39mself\u001b[39m\u001b[39m.\u001b[39m_execute_command(COMMAND\u001b[39m.\u001b[39mCOM_QUERY, sql)\n\u001b[1;32m--> 549\u001b[0m \u001b[39mself\u001b[39m\u001b[39m.\u001b[39m_affected_rows \u001b[39m=\u001b[39m \u001b[39mself\u001b[39;49m\u001b[39m.\u001b[39;49m_read_query_result(unbuffered\u001b[39m=\u001b[39;49munbuffered)\n\u001b[0;32m    550\u001b[0m \u001b[39mreturn\u001b[39;00m \u001b[39mself\u001b[39m\u001b[39m.\u001b[39m_affected_rows\n",
      "File \u001b[1;32mc:\\Users\\fan51\\anaconda3\\envs\\myenv3\\lib\\site-packages\\pymysql\\connections.py:779\u001b[0m, in \u001b[0;36mConnection._read_query_result\u001b[1;34m(self, unbuffered)\u001b[0m\n\u001b[0;32m    778\u001b[0m     result \u001b[39m=\u001b[39m MySQLResult(\u001b[39mself\u001b[39m)\n\u001b[1;32m--> 779\u001b[0m     result\u001b[39m.\u001b[39;49mread()\n\u001b[0;32m    780\u001b[0m \u001b[39mself\u001b[39m\u001b[39m.\u001b[39m_result \u001b[39m=\u001b[39m result\n",
      "File \u001b[1;32mc:\\Users\\fan51\\anaconda3\\envs\\myenv3\\lib\\site-packages\\pymysql\\connections.py:1157\u001b[0m, in \u001b[0;36mMySQLResult.read\u001b[1;34m(self)\u001b[0m\n\u001b[0;32m   1156\u001b[0m \u001b[39mtry\u001b[39;00m:\n\u001b[1;32m-> 1157\u001b[0m     first_packet \u001b[39m=\u001b[39m \u001b[39mself\u001b[39;49m\u001b[39m.\u001b[39;49mconnection\u001b[39m.\u001b[39;49m_read_packet()\n\u001b[0;32m   1159\u001b[0m     \u001b[39mif\u001b[39;00m first_packet\u001b[39m.\u001b[39mis_ok_packet():\n",
      "File \u001b[1;32mc:\\Users\\fan51\\anaconda3\\envs\\myenv3\\lib\\site-packages\\pymysql\\connections.py:729\u001b[0m, in \u001b[0;36mConnection._read_packet\u001b[1;34m(self, packet_type)\u001b[0m\n\u001b[0;32m    728\u001b[0m         \u001b[39mself\u001b[39m\u001b[39m.\u001b[39m_result\u001b[39m.\u001b[39munbuffered_active \u001b[39m=\u001b[39m \u001b[39mFalse\u001b[39;00m\n\u001b[1;32m--> 729\u001b[0m     packet\u001b[39m.\u001b[39;49mraise_for_error()\n\u001b[0;32m    730\u001b[0m \u001b[39mreturn\u001b[39;00m packet\n",
      "File \u001b[1;32mc:\\Users\\fan51\\anaconda3\\envs\\myenv3\\lib\\site-packages\\pymysql\\protocol.py:221\u001b[0m, in \u001b[0;36mMysqlPacket.raise_for_error\u001b[1;34m(self)\u001b[0m\n\u001b[0;32m    220\u001b[0m     \u001b[39mprint\u001b[39m(\u001b[39m\"\u001b[39m\u001b[39merrno =\u001b[39m\u001b[39m\"\u001b[39m, errno)\n\u001b[1;32m--> 221\u001b[0m err\u001b[39m.\u001b[39;49mraise_mysql_exception(\u001b[39mself\u001b[39;49m\u001b[39m.\u001b[39;49m_data)\n",
      "File \u001b[1;32mc:\\Users\\fan51\\anaconda3\\envs\\myenv3\\lib\\site-packages\\pymysql\\err.py:143\u001b[0m, in \u001b[0;36mraise_mysql_exception\u001b[1;34m(data)\u001b[0m\n\u001b[0;32m    142\u001b[0m     errorclass \u001b[39m=\u001b[39m InternalError \u001b[39mif\u001b[39;00m errno \u001b[39m<\u001b[39m \u001b[39m1000\u001b[39m \u001b[39melse\u001b[39;00m OperationalError\n\u001b[1;32m--> 143\u001b[0m \u001b[39mraise\u001b[39;00m errorclass(errno, errval)\n",
      "\u001b[1;31mIntegrityError\u001b[0m: (1062, \"Duplicate entry 'Ca' for key 'PRIMARY'\")",
      "\nThe above exception was the direct cause of the following exception:\n",
      "\u001b[1;31mIntegrityError\u001b[0m                            Traceback (most recent call last)",
      "Cell \u001b[1;32mIn[95], line 4\u001b[0m\n\u001b[0;32m      1\u001b[0m \u001b[39mfrom\u001b[39;00m \u001b[39msqlalchemy\u001b[39;00m \u001b[39mimport\u001b[39;00m create_engine\n\u001b[0;32m      3\u001b[0m engine \u001b[39m=\u001b[39m create_engine(\u001b[39m'\u001b[39m\u001b[39mmysql+pymysql://root:@localhost:3306/DailyNutriPlanner\u001b[39m\u001b[39m'\u001b[39m, echo \u001b[39m=\u001b[39m \u001b[39mFalse\u001b[39;00m)\n\u001b[1;32m----> 4\u001b[0m en_rf\u001b[39m.\u001b[39;49mto_sql(name \u001b[39m=\u001b[39;49m \u001b[39m'\u001b[39;49m\u001b[39meveryday_nutrition\u001b[39;49m\u001b[39m'\u001b[39;49m, con \u001b[39m=\u001b[39;49m engine, if_exists \u001b[39m=\u001b[39;49m \u001b[39m'\u001b[39;49m\u001b[39mappend\u001b[39;49m\u001b[39m'\u001b[39;49m, index \u001b[39m=\u001b[39;49m \u001b[39mFalse\u001b[39;49;00m)\n",
      "File \u001b[1;32mc:\\Users\\fan51\\anaconda3\\envs\\myenv3\\lib\\site-packages\\pandas\\core\\generic.py:2987\u001b[0m, in \u001b[0;36mNDFrame.to_sql\u001b[1;34m(self, name, con, schema, if_exists, index, index_label, chunksize, dtype, method)\u001b[0m\n\u001b[0;32m   2830\u001b[0m \u001b[39m\"\"\"\u001b[39;00m\n\u001b[0;32m   2831\u001b[0m \u001b[39mWrite records stored in a DataFrame to a SQL database.\u001b[39;00m\n\u001b[0;32m   2832\u001b[0m \n\u001b[1;32m   (...)\u001b[0m\n\u001b[0;32m   2983\u001b[0m \u001b[39m[(1,), (None,), (2,)]\u001b[39;00m\n\u001b[0;32m   2984\u001b[0m \u001b[39m\"\"\"\u001b[39;00m  \u001b[39m# noqa:E501\u001b[39;00m\n\u001b[0;32m   2985\u001b[0m \u001b[39mfrom\u001b[39;00m \u001b[39mpandas\u001b[39;00m\u001b[39m.\u001b[39;00m\u001b[39mio\u001b[39;00m \u001b[39mimport\u001b[39;00m sql\n\u001b[1;32m-> 2987\u001b[0m \u001b[39mreturn\u001b[39;00m sql\u001b[39m.\u001b[39;49mto_sql(\n\u001b[0;32m   2988\u001b[0m     \u001b[39mself\u001b[39;49m,\n\u001b[0;32m   2989\u001b[0m     name,\n\u001b[0;32m   2990\u001b[0m     con,\n\u001b[0;32m   2991\u001b[0m     schema\u001b[39m=\u001b[39;49mschema,\n\u001b[0;32m   2992\u001b[0m     if_exists\u001b[39m=\u001b[39;49mif_exists,\n\u001b[0;32m   2993\u001b[0m     index\u001b[39m=\u001b[39;49mindex,\n\u001b[0;32m   2994\u001b[0m     index_label\u001b[39m=\u001b[39;49mindex_label,\n\u001b[0;32m   2995\u001b[0m     chunksize\u001b[39m=\u001b[39;49mchunksize,\n\u001b[0;32m   2996\u001b[0m     dtype\u001b[39m=\u001b[39;49mdtype,\n\u001b[0;32m   2997\u001b[0m     method\u001b[39m=\u001b[39;49mmethod,\n\u001b[0;32m   2998\u001b[0m )\n",
      "File \u001b[1;32mc:\\Users\\fan51\\anaconda3\\envs\\myenv3\\lib\\site-packages\\pandas\\io\\sql.py:695\u001b[0m, in \u001b[0;36mto_sql\u001b[1;34m(frame, name, con, schema, if_exists, index, index_label, chunksize, dtype, method, engine, **engine_kwargs)\u001b[0m\n\u001b[0;32m    690\u001b[0m \u001b[39melif\u001b[39;00m \u001b[39mnot\u001b[39;00m \u001b[39misinstance\u001b[39m(frame, DataFrame):\n\u001b[0;32m    691\u001b[0m     \u001b[39mraise\u001b[39;00m \u001b[39mNotImplementedError\u001b[39;00m(\n\u001b[0;32m    692\u001b[0m         \u001b[39m\"\u001b[39m\u001b[39m'\u001b[39m\u001b[39mframe\u001b[39m\u001b[39m'\u001b[39m\u001b[39m argument should be either a Series or a DataFrame\u001b[39m\u001b[39m\"\u001b[39m\n\u001b[0;32m    693\u001b[0m     )\n\u001b[1;32m--> 695\u001b[0m \u001b[39mreturn\u001b[39;00m pandas_sql\u001b[39m.\u001b[39mto_sql(\n\u001b[0;32m    696\u001b[0m     frame,\n\u001b[0;32m    697\u001b[0m     name,\n\u001b[0;32m    698\u001b[0m     if_exists\u001b[39m=\u001b[39mif_exists,\n\u001b[0;32m    699\u001b[0m     index\u001b[39m=\u001b[39mindex,\n\u001b[0;32m    700\u001b[0m     index_label\u001b[39m=\u001b[39mindex_label,\n\u001b[0;32m    701\u001b[0m     schema\u001b[39m=\u001b[39mschema,\n\u001b[0;32m    702\u001b[0m     chunksize\u001b[39m=\u001b[39mchunksize,\n\u001b[0;32m    703\u001b[0m     dtype\u001b[39m=\u001b[39mdtype,\n\u001b[0;32m    704\u001b[0m     method\u001b[39m=\u001b[39mmethod,\n\u001b[0;32m    705\u001b[0m     engine\u001b[39m=\u001b[39mengine,\n\u001b[0;32m    706\u001b[0m     \u001b[39m*\u001b[39m\u001b[39m*\u001b[39mengine_kwargs,\n\u001b[0;32m    707\u001b[0m )\n",
      "File \u001b[1;32mc:\\Users\\fan51\\anaconda3\\envs\\myenv3\\lib\\site-packages\\pandas\\io\\sql.py:1738\u001b[0m, in \u001b[0;36mSQLDatabase.to_sql\u001b[1;34m(self, frame, name, if_exists, index, index_label, schema, chunksize, dtype, method, engine, **engine_kwargs)\u001b[0m\n\u001b[0;32m   1726\u001b[0m sql_engine \u001b[39m=\u001b[39m get_engine(engine)\n\u001b[0;32m   1728\u001b[0m table \u001b[39m=\u001b[39m \u001b[39mself\u001b[39m\u001b[39m.\u001b[39mprep_table(\n\u001b[0;32m   1729\u001b[0m     frame\u001b[39m=\u001b[39mframe,\n\u001b[0;32m   1730\u001b[0m     name\u001b[39m=\u001b[39mname,\n\u001b[1;32m   (...)\u001b[0m\n\u001b[0;32m   1735\u001b[0m     dtype\u001b[39m=\u001b[39mdtype,\n\u001b[0;32m   1736\u001b[0m )\n\u001b[1;32m-> 1738\u001b[0m total_inserted \u001b[39m=\u001b[39m sql_engine\u001b[39m.\u001b[39minsert_records(\n\u001b[0;32m   1739\u001b[0m     table\u001b[39m=\u001b[39mtable,\n\u001b[0;32m   1740\u001b[0m     con\u001b[39m=\u001b[39m\u001b[39mself\u001b[39m\u001b[39m.\u001b[39mconnectable,\n\u001b[0;32m   1741\u001b[0m     frame\u001b[39m=\u001b[39mframe,\n\u001b[0;32m   1742\u001b[0m     name\u001b[39m=\u001b[39mname,\n\u001b[0;32m   1743\u001b[0m     index\u001b[39m=\u001b[39mindex,\n\u001b[0;32m   1744\u001b[0m     schema\u001b[39m=\u001b[39mschema,\n\u001b[0;32m   1745\u001b[0m     chunksize\u001b[39m=\u001b[39mchunksize,\n\u001b[0;32m   1746\u001b[0m     method\u001b[39m=\u001b[39mmethod,\n\u001b[0;32m   1747\u001b[0m     \u001b[39m*\u001b[39m\u001b[39m*\u001b[39mengine_kwargs,\n\u001b[0;32m   1748\u001b[0m )\n\u001b[0;32m   1750\u001b[0m \u001b[39mself\u001b[39m\u001b[39m.\u001b[39mcheck_case_sensitive(name\u001b[39m=\u001b[39mname, schema\u001b[39m=\u001b[39mschema)\n\u001b[0;32m   1751\u001b[0m \u001b[39mreturn\u001b[39;00m total_inserted\n",
      "File \u001b[1;32mc:\\Users\\fan51\\anaconda3\\envs\\myenv3\\lib\\site-packages\\pandas\\io\\sql.py:1335\u001b[0m, in \u001b[0;36mSQLAlchemyEngine.insert_records\u001b[1;34m(self, table, con, frame, name, index, schema, chunksize, method, **engine_kwargs)\u001b[0m\n\u001b[0;32m   1333\u001b[0m     \u001b[39mraise\u001b[39;00m \u001b[39mValueError\u001b[39;00m(\u001b[39m\"\u001b[39m\u001b[39minf cannot be used with MySQL\u001b[39m\u001b[39m\"\u001b[39m) \u001b[39mfrom\u001b[39;00m \u001b[39merr\u001b[39;00m\n\u001b[0;32m   1334\u001b[0m \u001b[39melse\u001b[39;00m:\n\u001b[1;32m-> 1335\u001b[0m     \u001b[39mraise\u001b[39;00m err\n",
      "File \u001b[1;32mc:\\Users\\fan51\\anaconda3\\envs\\myenv3\\lib\\site-packages\\pandas\\io\\sql.py:1325\u001b[0m, in \u001b[0;36mSQLAlchemyEngine.insert_records\u001b[1;34m(self, table, con, frame, name, index, schema, chunksize, method, **engine_kwargs)\u001b[0m\n\u001b[0;32m   1322\u001b[0m \u001b[39mfrom\u001b[39;00m \u001b[39msqlalchemy\u001b[39;00m \u001b[39mimport\u001b[39;00m exc\n\u001b[0;32m   1324\u001b[0m \u001b[39mtry\u001b[39;00m:\n\u001b[1;32m-> 1325\u001b[0m     \u001b[39mreturn\u001b[39;00m table\u001b[39m.\u001b[39;49minsert(chunksize\u001b[39m=\u001b[39;49mchunksize, method\u001b[39m=\u001b[39;49mmethod)\n\u001b[0;32m   1326\u001b[0m \u001b[39mexcept\u001b[39;00m exc\u001b[39m.\u001b[39mSQLAlchemyError \u001b[39mas\u001b[39;00m err:\n\u001b[0;32m   1327\u001b[0m     \u001b[39m# GH34431\u001b[39;00m\n\u001b[0;32m   1328\u001b[0m     \u001b[39m# https://stackoverflow.com/a/67358288/6067848\u001b[39;00m\n\u001b[0;32m   1329\u001b[0m     msg \u001b[39m=\u001b[39m \u001b[39mr\u001b[39m\u001b[39m\"\"\"\u001b[39m\u001b[39m(\u001b[39m\u001b[39m\\\u001b[39m\u001b[39m(1054, \u001b[39m\u001b[39m\"\u001b[39m\u001b[39mUnknown column \u001b[39m\u001b[39m'\u001b[39m\u001b[39minf(e0)?\u001b[39m\u001b[39m'\u001b[39m\u001b[39m in \u001b[39m\u001b[39m'\u001b[39m\u001b[39mfield list\u001b[39m\u001b[39m'\u001b[39m\u001b[39m\"\u001b[39m\u001b[39m\\\u001b[39m\u001b[39m))(?#\u001b[39m\n\u001b[0;32m   1330\u001b[0m \u001b[39m    )|inf can not be used with MySQL\u001b[39m\u001b[39m\"\"\"\u001b[39m\n",
      "File \u001b[1;32mc:\\Users\\fan51\\anaconda3\\envs\\myenv3\\lib\\site-packages\\pandas\\io\\sql.py:946\u001b[0m, in \u001b[0;36mSQLTable.insert\u001b[1;34m(self, chunksize, method)\u001b[0m\n\u001b[0;32m    943\u001b[0m     \u001b[39mbreak\u001b[39;00m\n\u001b[0;32m    945\u001b[0m chunk_iter \u001b[39m=\u001b[39m \u001b[39mzip\u001b[39m(\u001b[39m*\u001b[39m(arr[start_i:end_i] \u001b[39mfor\u001b[39;00m arr \u001b[39min\u001b[39;00m data_list))\n\u001b[1;32m--> 946\u001b[0m num_inserted \u001b[39m=\u001b[39m exec_insert(conn, keys, chunk_iter)\n\u001b[0;32m    947\u001b[0m \u001b[39m# GH 46891\u001b[39;00m\n\u001b[0;32m    948\u001b[0m \u001b[39mif\u001b[39;00m is_integer(num_inserted):\n",
      "File \u001b[1;32mc:\\Users\\fan51\\anaconda3\\envs\\myenv3\\lib\\site-packages\\pandas\\io\\sql.py:853\u001b[0m, in \u001b[0;36mSQLTable._execute_insert\u001b[1;34m(self, conn, keys, data_iter)\u001b[0m\n\u001b[0;32m    841\u001b[0m \u001b[39m\"\"\"\u001b[39;00m\n\u001b[0;32m    842\u001b[0m \u001b[39mExecute SQL statement inserting data\u001b[39;00m\n\u001b[0;32m    843\u001b[0m \n\u001b[1;32m   (...)\u001b[0m\n\u001b[0;32m    850\u001b[0m \u001b[39m   Each item contains a list of values to be inserted\u001b[39;00m\n\u001b[0;32m    851\u001b[0m \u001b[39m\"\"\"\u001b[39;00m\n\u001b[0;32m    852\u001b[0m data \u001b[39m=\u001b[39m [\u001b[39mdict\u001b[39m(\u001b[39mzip\u001b[39m(keys, row)) \u001b[39mfor\u001b[39;00m row \u001b[39min\u001b[39;00m data_iter]\n\u001b[1;32m--> 853\u001b[0m result \u001b[39m=\u001b[39m conn\u001b[39m.\u001b[39;49mexecute(\u001b[39mself\u001b[39;49m\u001b[39m.\u001b[39;49mtable\u001b[39m.\u001b[39;49minsert(), data)\n\u001b[0;32m    854\u001b[0m \u001b[39mreturn\u001b[39;00m result\u001b[39m.\u001b[39mrowcount\n",
      "File \u001b[1;32mc:\\Users\\fan51\\anaconda3\\envs\\myenv3\\lib\\site-packages\\sqlalchemy\\engine\\base.py:1413\u001b[0m, in \u001b[0;36mConnection.execute\u001b[1;34m(self, statement, parameters, execution_options)\u001b[0m\n\u001b[0;32m   1411\u001b[0m     \u001b[39mraise\u001b[39;00m exc\u001b[39m.\u001b[39mObjectNotExecutableError(statement) \u001b[39mfrom\u001b[39;00m \u001b[39merr\u001b[39;00m\n\u001b[0;32m   1412\u001b[0m \u001b[39melse\u001b[39;00m:\n\u001b[1;32m-> 1413\u001b[0m     \u001b[39mreturn\u001b[39;00m meth(\n\u001b[0;32m   1414\u001b[0m         \u001b[39mself\u001b[39;49m,\n\u001b[0;32m   1415\u001b[0m         distilled_parameters,\n\u001b[0;32m   1416\u001b[0m         execution_options \u001b[39mor\u001b[39;49;00m NO_OPTIONS,\n\u001b[0;32m   1417\u001b[0m     )\n",
      "File \u001b[1;32mc:\\Users\\fan51\\anaconda3\\envs\\myenv3\\lib\\site-packages\\sqlalchemy\\sql\\elements.py:483\u001b[0m, in \u001b[0;36mClauseElement._execute_on_connection\u001b[1;34m(self, connection, distilled_params, execution_options)\u001b[0m\n\u001b[0;32m    481\u001b[0m     \u001b[39mif\u001b[39;00m TYPE_CHECKING:\n\u001b[0;32m    482\u001b[0m         \u001b[39massert\u001b[39;00m \u001b[39misinstance\u001b[39m(\u001b[39mself\u001b[39m, Executable)\n\u001b[1;32m--> 483\u001b[0m     \u001b[39mreturn\u001b[39;00m connection\u001b[39m.\u001b[39;49m_execute_clauseelement(\n\u001b[0;32m    484\u001b[0m         \u001b[39mself\u001b[39;49m, distilled_params, execution_options\n\u001b[0;32m    485\u001b[0m     )\n\u001b[0;32m    486\u001b[0m \u001b[39melse\u001b[39;00m:\n\u001b[0;32m    487\u001b[0m     \u001b[39mraise\u001b[39;00m exc\u001b[39m.\u001b[39mObjectNotExecutableError(\u001b[39mself\u001b[39m)\n",
      "File \u001b[1;32mc:\\Users\\fan51\\anaconda3\\envs\\myenv3\\lib\\site-packages\\sqlalchemy\\engine\\base.py:1637\u001b[0m, in \u001b[0;36mConnection._execute_clauseelement\u001b[1;34m(self, elem, distilled_parameters, execution_options)\u001b[0m\n\u001b[0;32m   1625\u001b[0m compiled_cache: Optional[CompiledCacheType] \u001b[39m=\u001b[39m execution_options\u001b[39m.\u001b[39mget(\n\u001b[0;32m   1626\u001b[0m     \u001b[39m\"\u001b[39m\u001b[39mcompiled_cache\u001b[39m\u001b[39m\"\u001b[39m, \u001b[39mself\u001b[39m\u001b[39m.\u001b[39mengine\u001b[39m.\u001b[39m_compiled_cache\n\u001b[0;32m   1627\u001b[0m )\n\u001b[0;32m   1629\u001b[0m compiled_sql, extracted_params, cache_hit \u001b[39m=\u001b[39m elem\u001b[39m.\u001b[39m_compile_w_cache(\n\u001b[0;32m   1630\u001b[0m     dialect\u001b[39m=\u001b[39mdialect,\n\u001b[0;32m   1631\u001b[0m     compiled_cache\u001b[39m=\u001b[39mcompiled_cache,\n\u001b[1;32m   (...)\u001b[0m\n\u001b[0;32m   1635\u001b[0m     linting\u001b[39m=\u001b[39m\u001b[39mself\u001b[39m\u001b[39m.\u001b[39mdialect\u001b[39m.\u001b[39mcompiler_linting \u001b[39m|\u001b[39m compiler\u001b[39m.\u001b[39mWARN_LINTING,\n\u001b[0;32m   1636\u001b[0m )\n\u001b[1;32m-> 1637\u001b[0m ret \u001b[39m=\u001b[39m \u001b[39mself\u001b[39;49m\u001b[39m.\u001b[39;49m_execute_context(\n\u001b[0;32m   1638\u001b[0m     dialect,\n\u001b[0;32m   1639\u001b[0m     dialect\u001b[39m.\u001b[39;49mexecution_ctx_cls\u001b[39m.\u001b[39;49m_init_compiled,\n\u001b[0;32m   1640\u001b[0m     compiled_sql,\n\u001b[0;32m   1641\u001b[0m     distilled_parameters,\n\u001b[0;32m   1642\u001b[0m     execution_options,\n\u001b[0;32m   1643\u001b[0m     compiled_sql,\n\u001b[0;32m   1644\u001b[0m     distilled_parameters,\n\u001b[0;32m   1645\u001b[0m     elem,\n\u001b[0;32m   1646\u001b[0m     extracted_params,\n\u001b[0;32m   1647\u001b[0m     cache_hit\u001b[39m=\u001b[39;49mcache_hit,\n\u001b[0;32m   1648\u001b[0m )\n\u001b[0;32m   1649\u001b[0m \u001b[39mif\u001b[39;00m has_events:\n\u001b[0;32m   1650\u001b[0m     \u001b[39mself\u001b[39m\u001b[39m.\u001b[39mdispatch\u001b[39m.\u001b[39mafter_execute(\n\u001b[0;32m   1651\u001b[0m         \u001b[39mself\u001b[39m,\n\u001b[0;32m   1652\u001b[0m         elem,\n\u001b[1;32m   (...)\u001b[0m\n\u001b[0;32m   1656\u001b[0m         ret,\n\u001b[0;32m   1657\u001b[0m     )\n",
      "File \u001b[1;32mc:\\Users\\fan51\\anaconda3\\envs\\myenv3\\lib\\site-packages\\sqlalchemy\\engine\\base.py:1841\u001b[0m, in \u001b[0;36mConnection._execute_context\u001b[1;34m(self, dialect, constructor, statement, parameters, execution_options, *args, **kw)\u001b[0m\n\u001b[0;32m   1836\u001b[0m     \u001b[39mreturn\u001b[39;00m \u001b[39mself\u001b[39m\u001b[39m.\u001b[39m_exec_insertmany_context(\n\u001b[0;32m   1837\u001b[0m         dialect,\n\u001b[0;32m   1838\u001b[0m         context,\n\u001b[0;32m   1839\u001b[0m     )\n\u001b[0;32m   1840\u001b[0m \u001b[39melse\u001b[39;00m:\n\u001b[1;32m-> 1841\u001b[0m     \u001b[39mreturn\u001b[39;00m \u001b[39mself\u001b[39;49m\u001b[39m.\u001b[39;49m_exec_single_context(\n\u001b[0;32m   1842\u001b[0m         dialect, context, statement, parameters\n\u001b[0;32m   1843\u001b[0m     )\n",
      "File \u001b[1;32mc:\\Users\\fan51\\anaconda3\\envs\\myenv3\\lib\\site-packages\\sqlalchemy\\engine\\base.py:1982\u001b[0m, in \u001b[0;36mConnection._exec_single_context\u001b[1;34m(self, dialect, context, statement, parameters)\u001b[0m\n\u001b[0;32m   1979\u001b[0m     result \u001b[39m=\u001b[39m context\u001b[39m.\u001b[39m_setup_result_proxy()\n\u001b[0;32m   1981\u001b[0m \u001b[39mexcept\u001b[39;00m \u001b[39mBaseException\u001b[39;00m \u001b[39mas\u001b[39;00m e:\n\u001b[1;32m-> 1982\u001b[0m     \u001b[39mself\u001b[39;49m\u001b[39m.\u001b[39;49m_handle_dbapi_exception(\n\u001b[0;32m   1983\u001b[0m         e, str_statement, effective_parameters, cursor, context\n\u001b[0;32m   1984\u001b[0m     )\n\u001b[0;32m   1986\u001b[0m \u001b[39mreturn\u001b[39;00m result\n",
      "File \u001b[1;32mc:\\Users\\fan51\\anaconda3\\envs\\myenv3\\lib\\site-packages\\sqlalchemy\\engine\\base.py:2339\u001b[0m, in \u001b[0;36mConnection._handle_dbapi_exception\u001b[1;34m(self, e, statement, parameters, cursor, context, is_sub_exec)\u001b[0m\n\u001b[0;32m   2337\u001b[0m \u001b[39melif\u001b[39;00m should_wrap:\n\u001b[0;32m   2338\u001b[0m     \u001b[39massert\u001b[39;00m sqlalchemy_exception \u001b[39mis\u001b[39;00m \u001b[39mnot\u001b[39;00m \u001b[39mNone\u001b[39;00m\n\u001b[1;32m-> 2339\u001b[0m     \u001b[39mraise\u001b[39;00m sqlalchemy_exception\u001b[39m.\u001b[39mwith_traceback(exc_info[\u001b[39m2\u001b[39m]) \u001b[39mfrom\u001b[39;00m \u001b[39me\u001b[39;00m\n\u001b[0;32m   2340\u001b[0m \u001b[39melse\u001b[39;00m:\n\u001b[0;32m   2341\u001b[0m     \u001b[39massert\u001b[39;00m exc_info[\u001b[39m1\u001b[39m] \u001b[39mis\u001b[39;00m \u001b[39mnot\u001b[39;00m \u001b[39mNone\u001b[39;00m\n",
      "File \u001b[1;32mc:\\Users\\fan51\\anaconda3\\envs\\myenv3\\lib\\site-packages\\sqlalchemy\\engine\\base.py:1932\u001b[0m, in \u001b[0;36mConnection._exec_single_context\u001b[1;34m(self, dialect, context, statement, parameters)\u001b[0m\n\u001b[0;32m   1930\u001b[0m                 \u001b[39mbreak\u001b[39;00m\n\u001b[0;32m   1931\u001b[0m     \u001b[39mif\u001b[39;00m \u001b[39mnot\u001b[39;00m evt_handled:\n\u001b[1;32m-> 1932\u001b[0m         \u001b[39mself\u001b[39;49m\u001b[39m.\u001b[39;49mdialect\u001b[39m.\u001b[39;49mdo_executemany(\n\u001b[0;32m   1933\u001b[0m             cursor,\n\u001b[0;32m   1934\u001b[0m             str_statement,\n\u001b[0;32m   1935\u001b[0m             effective_parameters,\n\u001b[0;32m   1936\u001b[0m             context,\n\u001b[0;32m   1937\u001b[0m         )\n\u001b[0;32m   1938\u001b[0m \u001b[39melif\u001b[39;00m \u001b[39mnot\u001b[39;00m effective_parameters \u001b[39mand\u001b[39;00m context\u001b[39m.\u001b[39mno_parameters:\n\u001b[0;32m   1939\u001b[0m     \u001b[39mif\u001b[39;00m \u001b[39mself\u001b[39m\u001b[39m.\u001b[39mdialect\u001b[39m.\u001b[39m_has_events:\n",
      "File \u001b[1;32mc:\\Users\\fan51\\anaconda3\\envs\\myenv3\\lib\\site-packages\\sqlalchemy\\dialects\\mysql\\mysqldb.py:175\u001b[0m, in \u001b[0;36mMySQLDialect_mysqldb.do_executemany\u001b[1;34m(self, cursor, statement, parameters, context)\u001b[0m\n\u001b[0;32m    174\u001b[0m \u001b[39mdef\u001b[39;00m \u001b[39mdo_executemany\u001b[39m(\u001b[39mself\u001b[39m, cursor, statement, parameters, context\u001b[39m=\u001b[39m\u001b[39mNone\u001b[39;00m):\n\u001b[1;32m--> 175\u001b[0m     rowcount \u001b[39m=\u001b[39m cursor\u001b[39m.\u001b[39;49mexecutemany(statement, parameters)\n\u001b[0;32m    176\u001b[0m     \u001b[39mif\u001b[39;00m context \u001b[39mis\u001b[39;00m \u001b[39mnot\u001b[39;00m \u001b[39mNone\u001b[39;00m:\n\u001b[0;32m    177\u001b[0m         context\u001b[39m.\u001b[39m_rowcount \u001b[39m=\u001b[39m rowcount\n",
      "File \u001b[1;32mc:\\Users\\fan51\\anaconda3\\envs\\myenv3\\lib\\site-packages\\pymysql\\cursors.py:187\u001b[0m, in \u001b[0;36mCursor.executemany\u001b[1;34m(self, query, args)\u001b[0m\n\u001b[0;32m    185\u001b[0m     q_postfix \u001b[39m=\u001b[39m m\u001b[39m.\u001b[39mgroup(\u001b[39m3\u001b[39m) \u001b[39mor\u001b[39;00m \u001b[39m\"\u001b[39m\u001b[39m\"\u001b[39m\n\u001b[0;32m    186\u001b[0m     \u001b[39massert\u001b[39;00m q_values[\u001b[39m0\u001b[39m] \u001b[39m==\u001b[39m \u001b[39m\"\u001b[39m\u001b[39m(\u001b[39m\u001b[39m\"\u001b[39m \u001b[39mand\u001b[39;00m q_values[\u001b[39m-\u001b[39m\u001b[39m1\u001b[39m] \u001b[39m==\u001b[39m \u001b[39m\"\u001b[39m\u001b[39m)\u001b[39m\u001b[39m\"\u001b[39m\n\u001b[1;32m--> 187\u001b[0m     \u001b[39mreturn\u001b[39;00m \u001b[39mself\u001b[39;49m\u001b[39m.\u001b[39;49m_do_execute_many(\n\u001b[0;32m    188\u001b[0m         q_prefix,\n\u001b[0;32m    189\u001b[0m         q_values,\n\u001b[0;32m    190\u001b[0m         q_postfix,\n\u001b[0;32m    191\u001b[0m         args,\n\u001b[0;32m    192\u001b[0m         \u001b[39mself\u001b[39;49m\u001b[39m.\u001b[39;49mmax_stmt_length,\n\u001b[0;32m    193\u001b[0m         \u001b[39mself\u001b[39;49m\u001b[39m.\u001b[39;49m_get_db()\u001b[39m.\u001b[39;49mencoding,\n\u001b[0;32m    194\u001b[0m     )\n\u001b[0;32m    196\u001b[0m \u001b[39mself\u001b[39m\u001b[39m.\u001b[39mrowcount \u001b[39m=\u001b[39m \u001b[39msum\u001b[39m(\u001b[39mself\u001b[39m\u001b[39m.\u001b[39mexecute(query, arg) \u001b[39mfor\u001b[39;00m arg \u001b[39min\u001b[39;00m args)\n\u001b[0;32m    197\u001b[0m \u001b[39mreturn\u001b[39;00m \u001b[39mself\u001b[39m\u001b[39m.\u001b[39mrowcount\n",
      "File \u001b[1;32mc:\\Users\\fan51\\anaconda3\\envs\\myenv3\\lib\\site-packages\\pymysql\\cursors.py:220\u001b[0m, in \u001b[0;36mCursor._do_execute_many\u001b[1;34m(self, prefix, values, postfix, args, max_stmt_length, encoding)\u001b[0m\n\u001b[0;32m    218\u001b[0m     v \u001b[39m=\u001b[39m v\u001b[39m.\u001b[39mencode(encoding, \u001b[39m\"\u001b[39m\u001b[39msurrogateescape\u001b[39m\u001b[39m\"\u001b[39m)\n\u001b[0;32m    219\u001b[0m \u001b[39mif\u001b[39;00m \u001b[39mlen\u001b[39m(sql) \u001b[39m+\u001b[39m \u001b[39mlen\u001b[39m(v) \u001b[39m+\u001b[39m \u001b[39mlen\u001b[39m(postfix) \u001b[39m+\u001b[39m \u001b[39m1\u001b[39m \u001b[39m>\u001b[39m max_stmt_length:\n\u001b[1;32m--> 220\u001b[0m     rows \u001b[39m+\u001b[39m\u001b[39m=\u001b[39m \u001b[39mself\u001b[39;49m\u001b[39m.\u001b[39;49mexecute(sql \u001b[39m+\u001b[39;49m postfix)\n\u001b[0;32m    221\u001b[0m     sql \u001b[39m=\u001b[39m \u001b[39mbytearray\u001b[39m(prefix)\n\u001b[0;32m    222\u001b[0m \u001b[39melse\u001b[39;00m:\n",
      "File \u001b[1;32mc:\\Users\\fan51\\anaconda3\\envs\\myenv3\\lib\\site-packages\\pymysql\\cursors.py:158\u001b[0m, in \u001b[0;36mCursor.execute\u001b[1;34m(self, query, args)\u001b[0m\n\u001b[0;32m    154\u001b[0m     \u001b[39mpass\u001b[39;00m\n\u001b[0;32m    156\u001b[0m query \u001b[39m=\u001b[39m \u001b[39mself\u001b[39m\u001b[39m.\u001b[39mmogrify(query, args)\n\u001b[1;32m--> 158\u001b[0m result \u001b[39m=\u001b[39m \u001b[39mself\u001b[39;49m\u001b[39m.\u001b[39;49m_query(query)\n\u001b[0;32m    159\u001b[0m \u001b[39mself\u001b[39m\u001b[39m.\u001b[39m_executed \u001b[39m=\u001b[39m query\n\u001b[0;32m    160\u001b[0m \u001b[39mreturn\u001b[39;00m result\n",
      "File \u001b[1;32mc:\\Users\\fan51\\anaconda3\\envs\\myenv3\\lib\\site-packages\\pymysql\\cursors.py:325\u001b[0m, in \u001b[0;36mCursor._query\u001b[1;34m(self, q)\u001b[0m\n\u001b[0;32m    323\u001b[0m conn \u001b[39m=\u001b[39m \u001b[39mself\u001b[39m\u001b[39m.\u001b[39m_get_db()\n\u001b[0;32m    324\u001b[0m \u001b[39mself\u001b[39m\u001b[39m.\u001b[39m_clear_result()\n\u001b[1;32m--> 325\u001b[0m conn\u001b[39m.\u001b[39;49mquery(q)\n\u001b[0;32m    326\u001b[0m \u001b[39mself\u001b[39m\u001b[39m.\u001b[39m_do_get_result()\n\u001b[0;32m    327\u001b[0m \u001b[39mreturn\u001b[39;00m \u001b[39mself\u001b[39m\u001b[39m.\u001b[39mrowcount\n",
      "File \u001b[1;32mc:\\Users\\fan51\\anaconda3\\envs\\myenv3\\lib\\site-packages\\pymysql\\connections.py:549\u001b[0m, in \u001b[0;36mConnection.query\u001b[1;34m(self, sql, unbuffered)\u001b[0m\n\u001b[0;32m    547\u001b[0m     sql \u001b[39m=\u001b[39m sql\u001b[39m.\u001b[39mencode(\u001b[39mself\u001b[39m\u001b[39m.\u001b[39mencoding, \u001b[39m\"\u001b[39m\u001b[39msurrogateescape\u001b[39m\u001b[39m\"\u001b[39m)\n\u001b[0;32m    548\u001b[0m \u001b[39mself\u001b[39m\u001b[39m.\u001b[39m_execute_command(COMMAND\u001b[39m.\u001b[39mCOM_QUERY, sql)\n\u001b[1;32m--> 549\u001b[0m \u001b[39mself\u001b[39m\u001b[39m.\u001b[39m_affected_rows \u001b[39m=\u001b[39m \u001b[39mself\u001b[39;49m\u001b[39m.\u001b[39;49m_read_query_result(unbuffered\u001b[39m=\u001b[39;49munbuffered)\n\u001b[0;32m    550\u001b[0m \u001b[39mreturn\u001b[39;00m \u001b[39mself\u001b[39m\u001b[39m.\u001b[39m_affected_rows\n",
      "File \u001b[1;32mc:\\Users\\fan51\\anaconda3\\envs\\myenv3\\lib\\site-packages\\pymysql\\connections.py:779\u001b[0m, in \u001b[0;36mConnection._read_query_result\u001b[1;34m(self, unbuffered)\u001b[0m\n\u001b[0;32m    777\u001b[0m \u001b[39melse\u001b[39;00m:\n\u001b[0;32m    778\u001b[0m     result \u001b[39m=\u001b[39m MySQLResult(\u001b[39mself\u001b[39m)\n\u001b[1;32m--> 779\u001b[0m     result\u001b[39m.\u001b[39;49mread()\n\u001b[0;32m    780\u001b[0m \u001b[39mself\u001b[39m\u001b[39m.\u001b[39m_result \u001b[39m=\u001b[39m result\n\u001b[0;32m    781\u001b[0m \u001b[39mif\u001b[39;00m result\u001b[39m.\u001b[39mserver_status \u001b[39mis\u001b[39;00m \u001b[39mnot\u001b[39;00m \u001b[39mNone\u001b[39;00m:\n",
      "File \u001b[1;32mc:\\Users\\fan51\\anaconda3\\envs\\myenv3\\lib\\site-packages\\pymysql\\connections.py:1157\u001b[0m, in \u001b[0;36mMySQLResult.read\u001b[1;34m(self)\u001b[0m\n\u001b[0;32m   1155\u001b[0m \u001b[39mdef\u001b[39;00m \u001b[39mread\u001b[39m(\u001b[39mself\u001b[39m):\n\u001b[0;32m   1156\u001b[0m     \u001b[39mtry\u001b[39;00m:\n\u001b[1;32m-> 1157\u001b[0m         first_packet \u001b[39m=\u001b[39m \u001b[39mself\u001b[39;49m\u001b[39m.\u001b[39;49mconnection\u001b[39m.\u001b[39;49m_read_packet()\n\u001b[0;32m   1159\u001b[0m         \u001b[39mif\u001b[39;00m first_packet\u001b[39m.\u001b[39mis_ok_packet():\n\u001b[0;32m   1160\u001b[0m             \u001b[39mself\u001b[39m\u001b[39m.\u001b[39m_read_ok_packet(first_packet)\n",
      "File \u001b[1;32mc:\\Users\\fan51\\anaconda3\\envs\\myenv3\\lib\\site-packages\\pymysql\\connections.py:729\u001b[0m, in \u001b[0;36mConnection._read_packet\u001b[1;34m(self, packet_type)\u001b[0m\n\u001b[0;32m    727\u001b[0m     \u001b[39mif\u001b[39;00m \u001b[39mself\u001b[39m\u001b[39m.\u001b[39m_result \u001b[39mis\u001b[39;00m \u001b[39mnot\u001b[39;00m \u001b[39mNone\u001b[39;00m \u001b[39mand\u001b[39;00m \u001b[39mself\u001b[39m\u001b[39m.\u001b[39m_result\u001b[39m.\u001b[39munbuffered_active \u001b[39mis\u001b[39;00m \u001b[39mTrue\u001b[39;00m:\n\u001b[0;32m    728\u001b[0m         \u001b[39mself\u001b[39m\u001b[39m.\u001b[39m_result\u001b[39m.\u001b[39munbuffered_active \u001b[39m=\u001b[39m \u001b[39mFalse\u001b[39;00m\n\u001b[1;32m--> 729\u001b[0m     packet\u001b[39m.\u001b[39;49mraise_for_error()\n\u001b[0;32m    730\u001b[0m \u001b[39mreturn\u001b[39;00m packet\n",
      "File \u001b[1;32mc:\\Users\\fan51\\anaconda3\\envs\\myenv3\\lib\\site-packages\\pymysql\\protocol.py:221\u001b[0m, in \u001b[0;36mMysqlPacket.raise_for_error\u001b[1;34m(self)\u001b[0m\n\u001b[0;32m    219\u001b[0m \u001b[39mif\u001b[39;00m DEBUG:\n\u001b[0;32m    220\u001b[0m     \u001b[39mprint\u001b[39m(\u001b[39m\"\u001b[39m\u001b[39merrno =\u001b[39m\u001b[39m\"\u001b[39m, errno)\n\u001b[1;32m--> 221\u001b[0m err\u001b[39m.\u001b[39;49mraise_mysql_exception(\u001b[39mself\u001b[39;49m\u001b[39m.\u001b[39;49m_data)\n",
      "File \u001b[1;32mc:\\Users\\fan51\\anaconda3\\envs\\myenv3\\lib\\site-packages\\pymysql\\err.py:143\u001b[0m, in \u001b[0;36mraise_mysql_exception\u001b[1;34m(data)\u001b[0m\n\u001b[0;32m    141\u001b[0m \u001b[39mif\u001b[39;00m errorclass \u001b[39mis\u001b[39;00m \u001b[39mNone\u001b[39;00m:\n\u001b[0;32m    142\u001b[0m     errorclass \u001b[39m=\u001b[39m InternalError \u001b[39mif\u001b[39;00m errno \u001b[39m<\u001b[39m \u001b[39m1000\u001b[39m \u001b[39melse\u001b[39;00m OperationalError\n\u001b[1;32m--> 143\u001b[0m \u001b[39mraise\u001b[39;00m errorclass(errno, errval)\n",
      "\u001b[1;31mIntegrityError\u001b[0m: (pymysql.err.IntegrityError) (1062, \"Duplicate entry 'Ca' for key 'PRIMARY'\")\n[SQL: INSERT INTO everyday_nutrition (`Name`, `Analysis_item`, `Content_per_unit`, `Unit`) VALUES (%(Name)s, %(Analysis_item)s, %(Content_per_unit)s, %(Unit)s)]\n[parameters: [{'Name': 'DHA豆奶', 'Analysis_item': 'Ca', 'Content_per_unit': 24.0, 'Unit': 'mg'}, {'Name': 'DHA豆奶', 'Analysis_item': 'Fe', 'Content_per_unit': 0.2, 'Unit': 'mg'}, {'Name': 'DHA豆奶', 'Analysis_item': 'K', 'Content_per_unit': 85.0, 'Unit': 'mg'}, {'Name': 'DHA豆奶', 'Analysis_item': 'Mg', 'Content_per_unit': 8.0, 'Unit': 'mg'}, {'Name': 'DHA豆奶', 'Analysis_item': 'Na', 'Content_per_unit': 34.0, 'Unit': 'mg'}, {'Name': 'DHA豆奶', 'Analysis_item': 'P', 'Content_per_unit': 52.0, 'Unit': 'mg'}, {'Name': 'DHA豆奶', 'Analysis_item': 'Zn', 'Content_per_unit': 0.2, 'Unit': 'mg'}, {'Name': 'DHA豆奶', 'Analysis_item': 'carbohydrate', 'Content_per_unit': 8.1, 'Unit': 'g'}  ... displaying 10 of 38880 total bound parameter sets ...  {'Name': '龜苓茶', 'Analysis_item': 'vitaminC', 'Content_per_unit': 0.0, 'Unit': 'mg'}, {'Name': '龜苓茶', 'Analysis_item': 'vitaminE', 'Content_per_unit': 0.0, 'Unit': 'mg'}]]\n(Background on this error at: https://sqlalche.me/e/20/gkpj)"
     ]
=======
   "execution_count": 100,
   "metadata": {},
   "outputs": [
    {
     "data": {
      "text/plain": [
       "47542"
      ]
     },
     "execution_count": 100,
     "metadata": {},
     "output_type": "execute_result"
>>>>>>> origin/main
    }
   ],
   "source": [
    "from sqlalchemy import create_engine\n",
    "\n",
    "engine = create_engine('mysql+pymysql://root:@localhost:3306/DailyNutriPlanner', echo = False)\n",
    "en_rf.to_sql(name = 'everyday_nutrition', con = engine, if_exists = 'replace', index = False)"
   ]
  },
  {
   "cell_type": "code",
   "execution_count": 59,
   "metadata": {},
   "outputs": [],
   "source": [
    "food = rn_df[['整合編號','樣品名稱','俗名','樣品英文名稱','內容物描述']]"
   ]
  },
  {
   "cell_type": "code",
   "execution_count": 60,
   "metadata": {},
   "outputs": [
    {
     "data": {
      "text/html": [
       "<div>\n",
       "<style scoped>\n",
       "    .dataframe tbody tr th:only-of-type {\n",
       "        vertical-align: middle;\n",
       "    }\n",
       "\n",
       "    .dataframe tbody tr th {\n",
       "        vertical-align: top;\n",
       "    }\n",
       "\n",
       "    .dataframe thead th {\n",
       "        text-align: right;\n",
       "    }\n",
       "</style>\n",
       "<table border=\"1\" class=\"dataframe\">\n",
       "  <thead>\n",
       "    <tr style=\"text-align: right;\">\n",
       "      <th></th>\n",
       "      <th>整合編號</th>\n",
       "      <th>樣品名稱</th>\n",
       "      <th>俗名</th>\n",
       "      <th>樣品英文名稱</th>\n",
       "      <th>內容物描述</th>\n",
       "    </tr>\n",
       "  </thead>\n",
       "  <tbody>\n",
       "    <tr>\n",
       "      <th>0</th>\n",
       "      <td>R2300301</td>\n",
       "      <td>冷凍芋泥包</td>\n",
       "      <td>NaN</td>\n",
       "      <td>Taro paste bun</td>\n",
       "      <td>冷凍包裝,混合均勻打碎(麵粉,芋頭等)</td>\n",
       "    </tr>\n",
       "    <tr>\n",
       "      <th>1</th>\n",
       "      <td>R2300301</td>\n",
       "      <td>冷凍芋泥包</td>\n",
       "      <td>NaN</td>\n",
       "      <td>Taro paste bun</td>\n",
       "      <td>冷凍包裝,混合均勻打碎(麵粉,芋頭等)</td>\n",
       "    </tr>\n",
       "    <tr>\n",
       "      <th>2</th>\n",
       "      <td>R2300301</td>\n",
       "      <td>冷凍芋泥包</td>\n",
       "      <td>NaN</td>\n",
       "      <td>Taro paste bun</td>\n",
       "      <td>冷凍包裝,混合均勻打碎(麵粉,芋頭等)</td>\n",
       "    </tr>\n",
       "    <tr>\n",
       "      <th>3</th>\n",
       "      <td>R2300301</td>\n",
       "      <td>冷凍芋泥包</td>\n",
       "      <td>NaN</td>\n",
       "      <td>Taro paste bun</td>\n",
       "      <td>冷凍包裝,混合均勻打碎(麵粉,芋頭等)</td>\n",
       "    </tr>\n",
       "    <tr>\n",
       "      <th>4</th>\n",
       "      <td>R2300301</td>\n",
       "      <td>冷凍芋泥包</td>\n",
       "      <td>NaN</td>\n",
       "      <td>Taro paste bun</td>\n",
       "      <td>冷凍包裝,混合均勻打碎(麵粉,芋頭等)</td>\n",
       "    </tr>\n",
       "    <tr>\n",
       "      <th>...</th>\n",
       "      <td>...</td>\n",
       "      <td>...</td>\n",
       "      <td>...</td>\n",
       "      <td>...</td>\n",
       "      <td>...</td>\n",
       "    </tr>\n",
       "    <tr>\n",
       "      <th>224739</th>\n",
       "      <td>J0401801</td>\n",
       "      <td>斑海鯰</td>\n",
       "      <td>成仔魚,成仔丁,銀成,白肉成,臭臊成,生仔魚,鰻鯰,賓士魚</td>\n",
       "      <td>Sea barbel; Sea catfish; Spotted catfish; Spot...</td>\n",
       "      <td>生,去鱗,含皮,去頭尾,去內臟及骨刺,混合均勻打碎</td>\n",
       "    </tr>\n",
       "    <tr>\n",
       "      <th>224740</th>\n",
       "      <td>J0401801</td>\n",
       "      <td>斑海鯰</td>\n",
       "      <td>成仔魚,成仔丁,銀成,白肉成,臭臊成,生仔魚,鰻鯰,賓士魚</td>\n",
       "      <td>Sea barbel; Sea catfish; Spotted catfish; Spot...</td>\n",
       "      <td>生,去鱗,含皮,去頭尾,去內臟及骨刺,混合均勻打碎</td>\n",
       "    </tr>\n",
       "    <tr>\n",
       "      <th>224741</th>\n",
       "      <td>J0401801</td>\n",
       "      <td>斑海鯰</td>\n",
       "      <td>成仔魚,成仔丁,銀成,白肉成,臭臊成,生仔魚,鰻鯰,賓士魚</td>\n",
       "      <td>Sea barbel; Sea catfish; Spotted catfish; Spot...</td>\n",
       "      <td>生,去鱗,含皮,去頭尾,去內臟及骨刺,混合均勻打碎</td>\n",
       "    </tr>\n",
       "    <tr>\n",
       "      <th>224742</th>\n",
       "      <td>J0401801</td>\n",
       "      <td>斑海鯰</td>\n",
       "      <td>成仔魚,成仔丁,銀成,白肉成,臭臊成,生仔魚,鰻鯰,賓士魚</td>\n",
       "      <td>Sea barbel; Sea catfish; Spotted catfish; Spot...</td>\n",
       "      <td>生,去鱗,含皮,去頭尾,去內臟及骨刺,混合均勻打碎</td>\n",
       "    </tr>\n",
       "    <tr>\n",
       "      <th>224743</th>\n",
       "      <td>J0401801</td>\n",
       "      <td>斑海鯰</td>\n",
       "      <td>成仔魚,成仔丁,銀成,白肉成,臭臊成,生仔魚,鰻鯰,賓士魚</td>\n",
       "      <td>Sea barbel; Sea catfish; Spotted catfish; Spot...</td>\n",
       "      <td>生,去鱗,含皮,去頭尾,去內臟及骨刺,混合均勻打碎</td>\n",
       "    </tr>\n",
       "  </tbody>\n",
       "</table>\n",
       "<p>224744 rows × 5 columns</p>\n",
       "</div>"
      ],
      "text/plain": [
       "            整合編號   樣品名稱                             俗名  \\\n",
       "0       R2300301  冷凍芋泥包                            NaN   \n",
       "1       R2300301  冷凍芋泥包                            NaN   \n",
       "2       R2300301  冷凍芋泥包                            NaN   \n",
       "3       R2300301  冷凍芋泥包                            NaN   \n",
       "4       R2300301  冷凍芋泥包                            NaN   \n",
       "...          ...    ...                            ...   \n",
       "224739  J0401801    斑海鯰  成仔魚,成仔丁,銀成,白肉成,臭臊成,生仔魚,鰻鯰,賓士魚   \n",
       "224740  J0401801    斑海鯰  成仔魚,成仔丁,銀成,白肉成,臭臊成,生仔魚,鰻鯰,賓士魚   \n",
       "224741  J0401801    斑海鯰  成仔魚,成仔丁,銀成,白肉成,臭臊成,生仔魚,鰻鯰,賓士魚   \n",
       "224742  J0401801    斑海鯰  成仔魚,成仔丁,銀成,白肉成,臭臊成,生仔魚,鰻鯰,賓士魚   \n",
       "224743  J0401801    斑海鯰  成仔魚,成仔丁,銀成,白肉成,臭臊成,生仔魚,鰻鯰,賓士魚   \n",
       "\n",
       "                                                   樣品英文名稱  \\\n",
       "0                                          Taro paste bun   \n",
       "1                                          Taro paste bun   \n",
       "2                                          Taro paste bun   \n",
       "3                                          Taro paste bun   \n",
       "4                                          Taro paste bun   \n",
       "...                                                   ...   \n",
       "224739  Sea barbel; Sea catfish; Spotted catfish; Spot...   \n",
       "224740  Sea barbel; Sea catfish; Spotted catfish; Spot...   \n",
       "224741  Sea barbel; Sea catfish; Spotted catfish; Spot...   \n",
       "224742  Sea barbel; Sea catfish; Spotted catfish; Spot...   \n",
       "224743  Sea barbel; Sea catfish; Spotted catfish; Spot...   \n",
       "\n",
       "                            內容物描述  \n",
       "0             冷凍包裝,混合均勻打碎(麵粉,芋頭等)  \n",
       "1             冷凍包裝,混合均勻打碎(麵粉,芋頭等)  \n",
       "2             冷凍包裝,混合均勻打碎(麵粉,芋頭等)  \n",
       "3             冷凍包裝,混合均勻打碎(麵粉,芋頭等)  \n",
       "4             冷凍包裝,混合均勻打碎(麵粉,芋頭等)  \n",
       "...                           ...  \n",
       "224739  生,去鱗,含皮,去頭尾,去內臟及骨刺,混合均勻打碎  \n",
       "224740  生,去鱗,含皮,去頭尾,去內臟及骨刺,混合均勻打碎  \n",
       "224741  生,去鱗,含皮,去頭尾,去內臟及骨刺,混合均勻打碎  \n",
       "224742  生,去鱗,含皮,去頭尾,去內臟及骨刺,混合均勻打碎  \n",
       "224743  生,去鱗,含皮,去頭尾,去內臟及骨刺,混合均勻打碎  \n",
       "\n",
       "[224744 rows x 5 columns]"
      ]
     },
     "execution_count": 60,
     "metadata": {},
     "output_type": "execute_result"
    }
   ],
   "source": [
    "food"
   ]
  },
  {
   "cell_type": "code",
   "execution_count": 61,
   "metadata": {},
   "outputs": [
    {
     "name": "stderr",
     "output_type": "stream",
     "text": [
      "C:\\Users\\fan51\\AppData\\Local\\Temp\\ipykernel_27252\\747218694.py:1: SettingWithCopyWarning: \n",
      "A value is trying to be set on a copy of a slice from a DataFrame\n",
      "\n",
      "See the caveats in the documentation: https://pandas.pydata.org/pandas-docs/stable/user_guide/indexing.html#returning-a-view-versus-a-copy\n",
      "  food.rename(columns = {'整合編號':'Sno.','樣品名稱':'Name','俗名':'Other_name','樣品英文名稱':'English_name','內容物描述':'Describe'}, inplace = True)\n"
     ]
    }
   ],
   "source": [
    "food.rename(columns = {'整合編號':'Sno.','樣品名稱':'Name','俗名':'Other_name','樣品英文名稱':'English_name','內容物描述':'Describe'}, inplace = True)"
   ]
  },
  {
   "cell_type": "code",
   "execution_count": 62,
   "metadata": {},
   "outputs": [
    {
     "data": {
      "text/html": [
       "<div>\n",
       "<style scoped>\n",
       "    .dataframe tbody tr th:only-of-type {\n",
       "        vertical-align: middle;\n",
       "    }\n",
       "\n",
       "    .dataframe tbody tr th {\n",
       "        vertical-align: top;\n",
       "    }\n",
       "\n",
       "    .dataframe thead th {\n",
       "        text-align: right;\n",
       "    }\n",
       "</style>\n",
       "<table border=\"1\" class=\"dataframe\">\n",
       "  <thead>\n",
       "    <tr style=\"text-align: right;\">\n",
       "      <th></th>\n",
       "      <th>Sno.</th>\n",
       "      <th>Name</th>\n",
       "      <th>Other_name</th>\n",
       "      <th>English_name</th>\n",
       "      <th>Describe</th>\n",
       "    </tr>\n",
       "  </thead>\n",
       "  <tbody>\n",
       "    <tr>\n",
       "      <th>0</th>\n",
       "      <td>R2300301</td>\n",
       "      <td>冷凍芋泥包</td>\n",
       "      <td>NaN</td>\n",
       "      <td>Taro paste bun</td>\n",
       "      <td>冷凍包裝,混合均勻打碎(麵粉,芋頭等)</td>\n",
       "    </tr>\n",
       "    <tr>\n",
       "      <th>1</th>\n",
       "      <td>R2300301</td>\n",
       "      <td>冷凍芋泥包</td>\n",
       "      <td>NaN</td>\n",
       "      <td>Taro paste bun</td>\n",
       "      <td>冷凍包裝,混合均勻打碎(麵粉,芋頭等)</td>\n",
       "    </tr>\n",
       "    <tr>\n",
       "      <th>2</th>\n",
       "      <td>R2300301</td>\n",
       "      <td>冷凍芋泥包</td>\n",
       "      <td>NaN</td>\n",
       "      <td>Taro paste bun</td>\n",
       "      <td>冷凍包裝,混合均勻打碎(麵粉,芋頭等)</td>\n",
       "    </tr>\n",
       "    <tr>\n",
       "      <th>3</th>\n",
       "      <td>R2300301</td>\n",
       "      <td>冷凍芋泥包</td>\n",
       "      <td>NaN</td>\n",
       "      <td>Taro paste bun</td>\n",
       "      <td>冷凍包裝,混合均勻打碎(麵粉,芋頭等)</td>\n",
       "    </tr>\n",
       "    <tr>\n",
       "      <th>4</th>\n",
       "      <td>R2300301</td>\n",
       "      <td>冷凍芋泥包</td>\n",
       "      <td>NaN</td>\n",
       "      <td>Taro paste bun</td>\n",
       "      <td>冷凍包裝,混合均勻打碎(麵粉,芋頭等)</td>\n",
       "    </tr>\n",
       "    <tr>\n",
       "      <th>...</th>\n",
       "      <td>...</td>\n",
       "      <td>...</td>\n",
       "      <td>...</td>\n",
       "      <td>...</td>\n",
       "      <td>...</td>\n",
       "    </tr>\n",
       "    <tr>\n",
       "      <th>224739</th>\n",
       "      <td>J0401801</td>\n",
       "      <td>斑海鯰</td>\n",
       "      <td>成仔魚,成仔丁,銀成,白肉成,臭臊成,生仔魚,鰻鯰,賓士魚</td>\n",
       "      <td>Sea barbel; Sea catfish; Spotted catfish; Spot...</td>\n",
       "      <td>生,去鱗,含皮,去頭尾,去內臟及骨刺,混合均勻打碎</td>\n",
       "    </tr>\n",
       "    <tr>\n",
       "      <th>224740</th>\n",
       "      <td>J0401801</td>\n",
       "      <td>斑海鯰</td>\n",
       "      <td>成仔魚,成仔丁,銀成,白肉成,臭臊成,生仔魚,鰻鯰,賓士魚</td>\n",
       "      <td>Sea barbel; Sea catfish; Spotted catfish; Spot...</td>\n",
       "      <td>生,去鱗,含皮,去頭尾,去內臟及骨刺,混合均勻打碎</td>\n",
       "    </tr>\n",
       "    <tr>\n",
       "      <th>224741</th>\n",
       "      <td>J0401801</td>\n",
       "      <td>斑海鯰</td>\n",
       "      <td>成仔魚,成仔丁,銀成,白肉成,臭臊成,生仔魚,鰻鯰,賓士魚</td>\n",
       "      <td>Sea barbel; Sea catfish; Spotted catfish; Spot...</td>\n",
       "      <td>生,去鱗,含皮,去頭尾,去內臟及骨刺,混合均勻打碎</td>\n",
       "    </tr>\n",
       "    <tr>\n",
       "      <th>224742</th>\n",
       "      <td>J0401801</td>\n",
       "      <td>斑海鯰</td>\n",
       "      <td>成仔魚,成仔丁,銀成,白肉成,臭臊成,生仔魚,鰻鯰,賓士魚</td>\n",
       "      <td>Sea barbel; Sea catfish; Spotted catfish; Spot...</td>\n",
       "      <td>生,去鱗,含皮,去頭尾,去內臟及骨刺,混合均勻打碎</td>\n",
       "    </tr>\n",
       "    <tr>\n",
       "      <th>224743</th>\n",
       "      <td>J0401801</td>\n",
       "      <td>斑海鯰</td>\n",
       "      <td>成仔魚,成仔丁,銀成,白肉成,臭臊成,生仔魚,鰻鯰,賓士魚</td>\n",
       "      <td>Sea barbel; Sea catfish; Spotted catfish; Spot...</td>\n",
       "      <td>生,去鱗,含皮,去頭尾,去內臟及骨刺,混合均勻打碎</td>\n",
       "    </tr>\n",
       "  </tbody>\n",
       "</table>\n",
       "<p>224744 rows × 5 columns</p>\n",
       "</div>"
      ],
      "text/plain": [
       "            Sno.   Name                     Other_name  \\\n",
       "0       R2300301  冷凍芋泥包                            NaN   \n",
       "1       R2300301  冷凍芋泥包                            NaN   \n",
       "2       R2300301  冷凍芋泥包                            NaN   \n",
       "3       R2300301  冷凍芋泥包                            NaN   \n",
       "4       R2300301  冷凍芋泥包                            NaN   \n",
       "...          ...    ...                            ...   \n",
       "224739  J0401801    斑海鯰  成仔魚,成仔丁,銀成,白肉成,臭臊成,生仔魚,鰻鯰,賓士魚   \n",
       "224740  J0401801    斑海鯰  成仔魚,成仔丁,銀成,白肉成,臭臊成,生仔魚,鰻鯰,賓士魚   \n",
       "224741  J0401801    斑海鯰  成仔魚,成仔丁,銀成,白肉成,臭臊成,生仔魚,鰻鯰,賓士魚   \n",
       "224742  J0401801    斑海鯰  成仔魚,成仔丁,銀成,白肉成,臭臊成,生仔魚,鰻鯰,賓士魚   \n",
       "224743  J0401801    斑海鯰  成仔魚,成仔丁,銀成,白肉成,臭臊成,生仔魚,鰻鯰,賓士魚   \n",
       "\n",
       "                                             English_name  \\\n",
       "0                                          Taro paste bun   \n",
       "1                                          Taro paste bun   \n",
       "2                                          Taro paste bun   \n",
       "3                                          Taro paste bun   \n",
       "4                                          Taro paste bun   \n",
       "...                                                   ...   \n",
       "224739  Sea barbel; Sea catfish; Spotted catfish; Spot...   \n",
       "224740  Sea barbel; Sea catfish; Spotted catfish; Spot...   \n",
       "224741  Sea barbel; Sea catfish; Spotted catfish; Spot...   \n",
       "224742  Sea barbel; Sea catfish; Spotted catfish; Spot...   \n",
       "224743  Sea barbel; Sea catfish; Spotted catfish; Spot...   \n",
       "\n",
       "                         Describe  \n",
       "0             冷凍包裝,混合均勻打碎(麵粉,芋頭等)  \n",
       "1             冷凍包裝,混合均勻打碎(麵粉,芋頭等)  \n",
       "2             冷凍包裝,混合均勻打碎(麵粉,芋頭等)  \n",
       "3             冷凍包裝,混合均勻打碎(麵粉,芋頭等)  \n",
       "4             冷凍包裝,混合均勻打碎(麵粉,芋頭等)  \n",
       "...                           ...  \n",
       "224739  生,去鱗,含皮,去頭尾,去內臟及骨刺,混合均勻打碎  \n",
       "224740  生,去鱗,含皮,去頭尾,去內臟及骨刺,混合均勻打碎  \n",
       "224741  生,去鱗,含皮,去頭尾,去內臟及骨刺,混合均勻打碎  \n",
       "224742  生,去鱗,含皮,去頭尾,去內臟及骨刺,混合均勻打碎  \n",
       "224743  生,去鱗,含皮,去頭尾,去內臟及骨刺,混合均勻打碎  \n",
       "\n",
       "[224744 rows x 5 columns]"
      ]
     },
     "execution_count": 62,
     "metadata": {},
     "output_type": "execute_result"
    }
   ],
   "source": [
    "food"
   ]
  },
  {
   "cell_type": "code",
   "execution_count": 71,
   "metadata": {},
   "outputs": [],
   "source": [
    "merged_food = food.drop_duplicates(subset=['Sno.'])"
   ]
  },
  {
   "cell_type": "code",
   "execution_count": 90,
   "metadata": {},
   "outputs": [
    {
     "data": {
      "text/html": [
       "<div>\n",
       "<style scoped>\n",
       "    .dataframe tbody tr th:only-of-type {\n",
       "        vertical-align: middle;\n",
       "    }\n",
       "\n",
       "    .dataframe tbody tr th {\n",
       "        vertical-align: top;\n",
       "    }\n",
       "\n",
       "    .dataframe thead th {\n",
       "        text-align: right;\n",
       "    }\n",
       "</style>\n",
       "<table border=\"1\" class=\"dataframe\">\n",
       "  <thead>\n",
       "    <tr style=\"text-align: right;\">\n",
       "      <th></th>\n",
       "      <th>Sno.</th>\n",
       "      <th>Name</th>\n",
       "      <th>Other_name</th>\n",
       "      <th>English_name</th>\n",
       "      <th>Describe</th>\n",
       "    </tr>\n",
       "  </thead>\n",
       "  <tbody>\n",
       "    <tr>\n",
       "      <th>49779</th>\n",
       "      <td>D4400101</td>\n",
       "      <td>無花果</td>\n",
       "      <td>NaN</td>\n",
       "      <td>Fig</td>\n",
       "      <td>生鮮,去蒂,混合均勻打碎</td>\n",
       "    </tr>\n",
       "    <tr>\n",
       "      <th>141872</th>\n",
       "      <td>Q8100801</td>\n",
       "      <td>無花果</td>\n",
       "      <td>無花果乾</td>\n",
       "      <td>Fig, dried</td>\n",
       "      <td>生,乾貨,混合均勻打碎</td>\n",
       "    </tr>\n",
       "  </tbody>\n",
       "</table>\n",
       "</div>"
      ],
      "text/plain": [
       "            Sno. Name Other_name English_name      Describe\n",
       "49779   D4400101  無花果        NaN          Fig  生鮮,去蒂,混合均勻打碎\n",
       "141872  Q8100801  無花果       無花果乾   Fig, dried   生,乾貨,混合均勻打碎"
      ]
     },
     "execution_count": 90,
     "metadata": {},
     "output_type": "execute_result"
    }
   ],
   "source": [
    "merged_food[merged_food['Name'] == '無花果']"
   ]
  },
  {
   "cell_type": "code",
   "execution_count": 93,
   "metadata": {},
   "outputs": [
    {
     "name": "stderr",
     "output_type": "stream",
     "text": [
      "C:\\Users\\fan51\\AppData\\Local\\Temp\\ipykernel_27252\\2310682170.py:1: SettingWithCopyWarning: \n",
      "A value is trying to be set on a copy of a slice from a DataFrame\n",
      "\n",
      "See the caveats in the documentation: https://pandas.pydata.org/pandas-docs/stable/user_guide/indexing.html#returning-a-view-versus-a-copy\n",
      "  merged_food.loc[141872, 'Name'] = '無花果乾'\n"
     ]
    },
    {
     "data": {
      "text/html": [
       "<div>\n",
       "<style scoped>\n",
       "    .dataframe tbody tr th:only-of-type {\n",
       "        vertical-align: middle;\n",
       "    }\n",
       "\n",
       "    .dataframe tbody tr th {\n",
       "        vertical-align: top;\n",
       "    }\n",
       "\n",
       "    .dataframe thead th {\n",
       "        text-align: right;\n",
       "    }\n",
       "</style>\n",
       "<table border=\"1\" class=\"dataframe\">\n",
       "  <thead>\n",
       "    <tr style=\"text-align: right;\">\n",
       "      <th></th>\n",
       "      <th>Sno.</th>\n",
       "      <th>Name</th>\n",
       "      <th>Other_name</th>\n",
       "      <th>English_name</th>\n",
       "      <th>Describe</th>\n",
       "    </tr>\n",
       "  </thead>\n",
       "  <tbody>\n",
       "    <tr>\n",
       "      <th>0</th>\n",
       "      <td>R2300301</td>\n",
       "      <td>冷凍芋泥包</td>\n",
       "      <td>NaN</td>\n",
       "      <td>Taro paste bun</td>\n",
       "      <td>冷凍包裝,混合均勻打碎(麵粉,芋頭等)</td>\n",
       "    </tr>\n",
       "    <tr>\n",
       "      <th>79</th>\n",
       "      <td>R2300501</td>\n",
       "      <td>冷凍芝麻包</td>\n",
       "      <td>NaN</td>\n",
       "      <td>Sesame bun</td>\n",
       "      <td>冷凍包裝,混合均勻打碎(麵粉,芝麻粉等)</td>\n",
       "    </tr>\n",
       "    <tr>\n",
       "      <th>160</th>\n",
       "      <td>R2100401</td>\n",
       "      <td>擔仔麵</td>\n",
       "      <td>NaN</td>\n",
       "      <td>NaN</td>\n",
       "      <td>熟食,加肉燥不含湯,混合均勻打碎</td>\n",
       "    </tr>\n",
       "    <tr>\n",
       "      <th>253</th>\n",
       "      <td>C2300101</td>\n",
       "      <td>生鮮蓮子</td>\n",
       "      <td>NaN</td>\n",
       "      <td>Lotus nut; Lotus seed</td>\n",
       "      <td>生鮮,混合均勻打碎(蓮子,蓮子心等)</td>\n",
       "    </tr>\n",
       "    <tr>\n",
       "      <th>331</th>\n",
       "      <td>Q4200201</td>\n",
       "      <td>洋芋片</td>\n",
       "      <td>NaN</td>\n",
       "      <td>Potato chips</td>\n",
       "      <td>熟食,混合均勻打碎</td>\n",
       "    </tr>\n",
       "    <tr>\n",
       "      <th>...</th>\n",
       "      <td>...</td>\n",
       "      <td>...</td>\n",
       "      <td>...</td>\n",
       "      <td>...</td>\n",
       "      <td>...</td>\n",
       "    </tr>\n",
       "    <tr>\n",
       "      <th>222869</th>\n",
       "      <td>I0420201</td>\n",
       "      <td>雞尾椎</td>\n",
       "      <td>雞屁股</td>\n",
       "      <td>NaN</td>\n",
       "      <td>生,雞臟器,去骨,混合均勻打碎</td>\n",
       "    </tr>\n",
       "    <tr>\n",
       "      <th>223063</th>\n",
       "      <td>P1003901</td>\n",
       "      <td>蒜味豆豉醬</td>\n",
       "      <td>NaN</td>\n",
       "      <td>NaN</td>\n",
       "      <td>混合均勻打碎(豆豉,蒜頭,辣椒,植物油,糖,調味料等)</td>\n",
       "    </tr>\n",
       "    <tr>\n",
       "      <th>223385</th>\n",
       "      <td>P0200501</td>\n",
       "      <td>咖哩塊</td>\n",
       "      <td>NaN</td>\n",
       "      <td>Curry</td>\n",
       "      <td>混合均勻打碎(咖哩粉,麵粉,油脂,鹽,糖,奶粉,調味料,食品添加物等)</td>\n",
       "    </tr>\n",
       "    <tr>\n",
       "      <th>224041</th>\n",
       "      <td>B0900101</td>\n",
       "      <td>蓮藕</td>\n",
       "      <td>蓮根,藕,芙蕖,荷花藕</td>\n",
       "      <td>Lotus root; Indian lotus tuber; East Indian lotus</td>\n",
       "      <td>生鮮,去皮,混合均勻打碎</td>\n",
       "    </tr>\n",
       "    <tr>\n",
       "      <th>224478</th>\n",
       "      <td>E7000102</td>\n",
       "      <td>蒲瓜(圓形)</td>\n",
       "      <td>扁蒲,蒲仔,瓠子(瓜/餔),匏仔(瓜),葫蘆瓜,瓢簞,天瓜,龍蛋瓜,蒲(葫/壺)蘆</td>\n",
       "      <td>Bottle(hairy) gourd;White flowered gourd; Cala...</td>\n",
       "      <td>生鮮,去皮,混合均勻打碎</td>\n",
       "    </tr>\n",
       "  </tbody>\n",
       "</table>\n",
       "<p>2160 rows × 5 columns</p>\n",
       "</div>"
      ],
      "text/plain": [
       "            Sno.    Name                                 Other_name  \\\n",
       "0       R2300301   冷凍芋泥包                                        NaN   \n",
       "79      R2300501   冷凍芝麻包                                        NaN   \n",
       "160     R2100401     擔仔麵                                        NaN   \n",
       "253     C2300101    生鮮蓮子                                        NaN   \n",
       "331     Q4200201     洋芋片                                        NaN   \n",
       "...          ...     ...                                        ...   \n",
       "222869  I0420201     雞尾椎                                        雞屁股   \n",
       "223063  P1003901   蒜味豆豉醬                                        NaN   \n",
       "223385  P0200501     咖哩塊                                        NaN   \n",
       "224041  B0900101      蓮藕                                蓮根,藕,芙蕖,荷花藕   \n",
       "224478  E7000102  蒲瓜(圓形)  扁蒲,蒲仔,瓠子(瓜/餔),匏仔(瓜),葫蘆瓜,瓢簞,天瓜,龍蛋瓜,蒲(葫/壺)蘆   \n",
       "\n",
       "                                             English_name  \\\n",
       "0                                          Taro paste bun   \n",
       "79                                             Sesame bun   \n",
       "160                                                   NaN   \n",
       "253                                 Lotus nut; Lotus seed   \n",
       "331                                          Potato chips   \n",
       "...                                                   ...   \n",
       "222869                                                NaN   \n",
       "223063                                                NaN   \n",
       "223385                                              Curry   \n",
       "224041  Lotus root; Indian lotus tuber; East Indian lotus   \n",
       "224478  Bottle(hairy) gourd;White flowered gourd; Cala...   \n",
       "\n",
       "                                   Describe  \n",
       "0                       冷凍包裝,混合均勻打碎(麵粉,芋頭等)  \n",
       "79                     冷凍包裝,混合均勻打碎(麵粉,芝麻粉等)  \n",
       "160                        熟食,加肉燥不含湯,混合均勻打碎  \n",
       "253                      生鮮,混合均勻打碎(蓮子,蓮子心等)  \n",
       "331                               熟食,混合均勻打碎  \n",
       "...                                     ...  \n",
       "222869                      生,雞臟器,去骨,混合均勻打碎  \n",
       "223063          混合均勻打碎(豆豉,蒜頭,辣椒,植物油,糖,調味料等)  \n",
       "223385  混合均勻打碎(咖哩粉,麵粉,油脂,鹽,糖,奶粉,調味料,食品添加物等)  \n",
       "224041                         生鮮,去皮,混合均勻打碎  \n",
       "224478                         生鮮,去皮,混合均勻打碎  \n",
       "\n",
       "[2160 rows x 5 columns]"
      ]
     },
     "execution_count": 93,
     "metadata": {},
     "output_type": "execute_result"
    }
   ],
   "source": [
    "merged_food.loc[141872, 'Name'] = '無花果乾'\n",
    "merged_food"
   ]
  },
  {
   "cell_type": "code",
   "execution_count": 94,
   "metadata": {},
   "outputs": [
    {
     "data": {
      "text/plain": [
       "2160"
      ]
     },
     "execution_count": 94,
     "metadata": {},
     "output_type": "execute_result"
    }
   ],
   "source": [
    "merged_food.to_sql(name = 'foodstuff', con = engine, if_exists = 'append', index = False)"
   ]
  },
  {
   "cell_type": "code",
   "execution_count": null,
   "metadata": {},
   "outputs": [],
   "source": []
  }
 ],
 "metadata": {
  "kernelspec": {
   "display_name": "base",
   "language": "python",
   "name": "python3"
  },
  "language_info": {
   "codemirror_mode": {
    "name": "ipython",
    "version": 3
   },
   "file_extension": ".py",
   "mimetype": "text/x-python",
   "name": "python",
   "nbconvert_exporter": "python",
   "pygments_lexer": "ipython3",
   "version": "3.9.16"
  },
  "orig_nbformat": 4
 },
 "nbformat": 4,
 "nbformat_minor": 2
}
