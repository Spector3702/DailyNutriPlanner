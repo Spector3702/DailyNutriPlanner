{
 "cells": [
  {
   "attachments": {},
   "cell_type": "markdown",
   "metadata": {},
   "source": [
    "## recommended_nutrition\n",
    "- find unique value in nutrition group\n",
    "- and those groups would be atrrbutes of this table\n",
    "- 單位以原分析項為準：Fat(mg)"
   ]
  },
  {
   "cell_type": "code",
   "execution_count": 18,
   "metadata": {},
   "outputs": [],
   "source": [
    "import pandas as pd"
   ]
  },
  {
   "cell_type": "code",
   "execution_count": 19,
   "metadata": {},
   "outputs": [],
   "source": [
    "rn_df = pd.read_csv('food_nutrition.csv')"
   ]
  },
  {
   "cell_type": "code",
   "execution_count": 20,
   "metadata": {},
   "outputs": [
    {
     "data": {
      "text/plain": [
       "array(['糖質分析', '胺基酸組成', '脂肪酸組成', '一般成分', '其他', '維生素B群 & C', '維生素A', '礦物質',\n",
       "       '維生素D', '維生素E', '維生素K'], dtype=object)"
      ]
     },
     "execution_count": 20,
     "metadata": {},
     "output_type": "execute_result"
    }
   ],
   "source": [
    "rn_df['分析項分類'].unique()"
   ]
  },
  {
   "cell_type": "code",
   "execution_count": 21,
   "metadata": {},
   "outputs": [
    {
     "data": {
      "text/html": [
       "<div>\n",
       "<style scoped>\n",
       "    .dataframe tbody tr th:only-of-type {\n",
       "        vertical-align: middle;\n",
       "    }\n",
       "\n",
       "    .dataframe tbody tr th {\n",
       "        vertical-align: top;\n",
       "    }\n",
       "\n",
       "    .dataframe thead th {\n",
       "        text-align: right;\n",
       "    }\n",
       "</style>\n",
       "<table border=\"1\" class=\"dataframe\">\n",
       "  <thead>\n",
       "    <tr style=\"text-align: right;\">\n",
       "      <th></th>\n",
       "      <th>食品分類</th>\n",
       "      <th>資料類別</th>\n",
       "      <th>整合編號</th>\n",
       "      <th>樣品名稱</th>\n",
       "      <th>俗名</th>\n",
       "      <th>樣品英文名稱</th>\n",
       "      <th>內容物描述</th>\n",
       "      <th>廢棄率</th>\n",
       "      <th>分析項分類</th>\n",
       "      <th>分析項</th>\n",
       "      <th>含量單位</th>\n",
       "      <th>每100克含量</th>\n",
       "      <th>樣本數</th>\n",
       "      <th>標準差</th>\n",
       "      <th>每單位含量</th>\n",
       "      <th>每單位重</th>\n",
       "      <th>每單位重含量</th>\n",
       "    </tr>\n",
       "  </thead>\n",
       "  <tbody>\n",
       "    <tr>\n",
       "      <th>4</th>\n",
       "      <td>加工調理食品及其他類</td>\n",
       "      <td>樣品基本資料</td>\n",
       "      <td>R2300301</td>\n",
       "      <td>冷凍芋泥包</td>\n",
       "      <td>NaN</td>\n",
       "      <td>Taro paste bun</td>\n",
       "      <td>冷凍包裝,混合均勻打碎(麵粉,芋頭等)</td>\n",
       "      <td>0.0</td>\n",
       "      <td>脂肪酸組成</td>\n",
       "      <td>次亞麻油酸(18:3)</td>\n",
       "      <td>mg</td>\n",
       "      <td>104</td>\n",
       "      <td>3.0</td>\n",
       "      <td>NaN</td>\n",
       "      <td>104.0</td>\n",
       "      <td>71.0克</td>\n",
       "      <td>74.0</td>\n",
       "    </tr>\n",
       "    <tr>\n",
       "      <th>6</th>\n",
       "      <td>加工調理食品及其他類</td>\n",
       "      <td>樣品基本資料</td>\n",
       "      <td>R2300301</td>\n",
       "      <td>冷凍芋泥包</td>\n",
       "      <td>NaN</td>\n",
       "      <td>Taro paste bun</td>\n",
       "      <td>冷凍包裝,混合均勻打碎(麵粉,芋頭等)</td>\n",
       "      <td>0.0</td>\n",
       "      <td>脂肪酸組成</td>\n",
       "      <td>肉豆蔻烯酸(14:1)</td>\n",
       "      <td>mg</td>\n",
       "      <td>0</td>\n",
       "      <td>3.0</td>\n",
       "      <td>NaN</td>\n",
       "      <td>0.0</td>\n",
       "      <td>71.0克</td>\n",
       "      <td>0.0</td>\n",
       "    </tr>\n",
       "    <tr>\n",
       "      <th>7</th>\n",
       "      <td>加工調理食品及其他類</td>\n",
       "      <td>樣品基本資料</td>\n",
       "      <td>R2300301</td>\n",
       "      <td>冷凍芋泥包</td>\n",
       "      <td>NaN</td>\n",
       "      <td>Taro paste bun</td>\n",
       "      <td>冷凍包裝,混合均勻打碎(麵粉,芋頭等)</td>\n",
       "      <td>0.0</td>\n",
       "      <td>脂肪酸組成</td>\n",
       "      <td>肉豆蔻酸(14:0)</td>\n",
       "      <td>mg</td>\n",
       "      <td>51</td>\n",
       "      <td>3.0</td>\n",
       "      <td>NaN</td>\n",
       "      <td>51.0</td>\n",
       "      <td>71.0克</td>\n",
       "      <td>36.0</td>\n",
       "    </tr>\n",
       "    <tr>\n",
       "      <th>9</th>\n",
       "      <td>加工調理食品及其他類</td>\n",
       "      <td>樣品基本資料</td>\n",
       "      <td>R2300301</td>\n",
       "      <td>冷凍芋泥包</td>\n",
       "      <td>NaN</td>\n",
       "      <td>Taro paste bun</td>\n",
       "      <td>冷凍包裝,混合均勻打碎(麵粉,芋頭等)</td>\n",
       "      <td>0.0</td>\n",
       "      <td>脂肪酸組成</td>\n",
       "      <td>辛酸(8:0)</td>\n",
       "      <td>mg</td>\n",
       "      <td>5</td>\n",
       "      <td>3.0</td>\n",
       "      <td>NaN</td>\n",
       "      <td>5.0</td>\n",
       "      <td>71.0克</td>\n",
       "      <td>4.0</td>\n",
       "    </tr>\n",
       "    <tr>\n",
       "      <th>11</th>\n",
       "      <td>加工調理食品及其他類</td>\n",
       "      <td>樣品基本資料</td>\n",
       "      <td>R2300301</td>\n",
       "      <td>冷凍芋泥包</td>\n",
       "      <td>NaN</td>\n",
       "      <td>Taro paste bun</td>\n",
       "      <td>冷凍包裝,混合均勻打碎(麵粉,芋頭等)</td>\n",
       "      <td>0.0</td>\n",
       "      <td>脂肪酸組成</td>\n",
       "      <td>亞麻油酸(18:2)</td>\n",
       "      <td>mg</td>\n",
       "      <td>1056</td>\n",
       "      <td>3.0</td>\n",
       "      <td>NaN</td>\n",
       "      <td>1056.0</td>\n",
       "      <td>71.0克</td>\n",
       "      <td>750.0</td>\n",
       "    </tr>\n",
       "    <tr>\n",
       "      <th>...</th>\n",
       "      <td>...</td>\n",
       "      <td>...</td>\n",
       "      <td>...</td>\n",
       "      <td>...</td>\n",
       "      <td>...</td>\n",
       "      <td>...</td>\n",
       "      <td>...</td>\n",
       "      <td>...</td>\n",
       "      <td>...</td>\n",
       "      <td>...</td>\n",
       "      <td>...</td>\n",
       "      <td>...</td>\n",
       "      <td>...</td>\n",
       "      <td>...</td>\n",
       "      <td>...</td>\n",
       "      <td>...</td>\n",
       "      <td>...</td>\n",
       "    </tr>\n",
       "    <tr>\n",
       "      <th>224738</th>\n",
       "      <td>魚貝類</td>\n",
       "      <td>樣品基本資料</td>\n",
       "      <td>J0401801</td>\n",
       "      <td>斑海鯰</td>\n",
       "      <td>成仔魚,成仔丁,銀成,白肉成,臭臊成,生仔魚,鰻鯰,賓士魚</td>\n",
       "      <td>Sea barbel; Sea catfish; Spotted catfish; Spot...</td>\n",
       "      <td>生,去鱗,含皮,去頭尾,去內臟及骨刺,混合均勻打碎</td>\n",
       "      <td>73.1</td>\n",
       "      <td>脂肪酸組成</td>\n",
       "      <td>油酸(18:1)</td>\n",
       "      <td>mg</td>\n",
       "      <td>129</td>\n",
       "      <td>1.0</td>\n",
       "      <td>NaN</td>\n",
       "      <td>129.0</td>\n",
       "      <td>0.0克</td>\n",
       "      <td>0.0</td>\n",
       "    </tr>\n",
       "    <tr>\n",
       "      <th>224739</th>\n",
       "      <td>魚貝類</td>\n",
       "      <td>樣品基本資料</td>\n",
       "      <td>J0401801</td>\n",
       "      <td>斑海鯰</td>\n",
       "      <td>成仔魚,成仔丁,銀成,白肉成,臭臊成,生仔魚,鰻鯰,賓士魚</td>\n",
       "      <td>Sea barbel; Sea catfish; Spotted catfish; Spot...</td>\n",
       "      <td>生,去鱗,含皮,去頭尾,去內臟及骨刺,混合均勻打碎</td>\n",
       "      <td>73.1</td>\n",
       "      <td>脂肪酸組成</td>\n",
       "      <td>花生油酸(20:4)</td>\n",
       "      <td>mg</td>\n",
       "      <td>21</td>\n",
       "      <td>1.0</td>\n",
       "      <td>NaN</td>\n",
       "      <td>21.0</td>\n",
       "      <td>0.0克</td>\n",
       "      <td>0.0</td>\n",
       "    </tr>\n",
       "    <tr>\n",
       "      <th>224740</th>\n",
       "      <td>魚貝類</td>\n",
       "      <td>樣品基本資料</td>\n",
       "      <td>J0401801</td>\n",
       "      <td>斑海鯰</td>\n",
       "      <td>成仔魚,成仔丁,銀成,白肉成,臭臊成,生仔魚,鰻鯰,賓士魚</td>\n",
       "      <td>Sea barbel; Sea catfish; Spotted catfish; Spot...</td>\n",
       "      <td>生,去鱗,含皮,去頭尾,去內臟及骨刺,混合均勻打碎</td>\n",
       "      <td>73.1</td>\n",
       "      <td>脂肪酸組成</td>\n",
       "      <td>花生酸(20:0)</td>\n",
       "      <td>mg</td>\n",
       "      <td>0</td>\n",
       "      <td>1.0</td>\n",
       "      <td>NaN</td>\n",
       "      <td>0.0</td>\n",
       "      <td>0.0克</td>\n",
       "      <td>0.0</td>\n",
       "    </tr>\n",
       "    <tr>\n",
       "      <th>224741</th>\n",
       "      <td>魚貝類</td>\n",
       "      <td>樣品基本資料</td>\n",
       "      <td>J0401801</td>\n",
       "      <td>斑海鯰</td>\n",
       "      <td>成仔魚,成仔丁,銀成,白肉成,臭臊成,生仔魚,鰻鯰,賓士魚</td>\n",
       "      <td>Sea barbel; Sea catfish; Spotted catfish; Spot...</td>\n",
       "      <td>生,去鱗,含皮,去頭尾,去內臟及骨刺,混合均勻打碎</td>\n",
       "      <td>73.1</td>\n",
       "      <td>脂肪酸組成</td>\n",
       "      <td>芥子酸(22:1)</td>\n",
       "      <td>mg</td>\n",
       "      <td>0</td>\n",
       "      <td>1.0</td>\n",
       "      <td>NaN</td>\n",
       "      <td>0.0</td>\n",
       "      <td>0.0克</td>\n",
       "      <td>0.0</td>\n",
       "    </tr>\n",
       "    <tr>\n",
       "      <th>224742</th>\n",
       "      <td>魚貝類</td>\n",
       "      <td>樣品基本資料</td>\n",
       "      <td>J0401801</td>\n",
       "      <td>斑海鯰</td>\n",
       "      <td>成仔魚,成仔丁,銀成,白肉成,臭臊成,生仔魚,鰻鯰,賓士魚</td>\n",
       "      <td>Sea barbel; Sea catfish; Spotted catfish; Spot...</td>\n",
       "      <td>生,去鱗,含皮,去頭尾,去內臟及骨刺,混合均勻打碎</td>\n",
       "      <td>73.1</td>\n",
       "      <td>脂肪酸組成</td>\n",
       "      <td>癸酸(10:0)</td>\n",
       "      <td>mg</td>\n",
       "      <td>0</td>\n",
       "      <td>1.0</td>\n",
       "      <td>NaN</td>\n",
       "      <td>0.0</td>\n",
       "      <td>0.0克</td>\n",
       "      <td>0.0</td>\n",
       "    </tr>\n",
       "  </tbody>\n",
       "</table>\n",
       "<p>69152 rows × 17 columns</p>\n",
       "</div>"
      ],
      "text/plain": [
       "              食品分類    資料類別      整合編號   樣品名稱                             俗名  \\\n",
       "4       加工調理食品及其他類  樣品基本資料  R2300301  冷凍芋泥包                            NaN   \n",
       "6       加工調理食品及其他類  樣品基本資料  R2300301  冷凍芋泥包                            NaN   \n",
       "7       加工調理食品及其他類  樣品基本資料  R2300301  冷凍芋泥包                            NaN   \n",
       "9       加工調理食品及其他類  樣品基本資料  R2300301  冷凍芋泥包                            NaN   \n",
       "11      加工調理食品及其他類  樣品基本資料  R2300301  冷凍芋泥包                            NaN   \n",
       "...            ...     ...       ...    ...                            ...   \n",
       "224738         魚貝類  樣品基本資料  J0401801    斑海鯰  成仔魚,成仔丁,銀成,白肉成,臭臊成,生仔魚,鰻鯰,賓士魚   \n",
       "224739         魚貝類  樣品基本資料  J0401801    斑海鯰  成仔魚,成仔丁,銀成,白肉成,臭臊成,生仔魚,鰻鯰,賓士魚   \n",
       "224740         魚貝類  樣品基本資料  J0401801    斑海鯰  成仔魚,成仔丁,銀成,白肉成,臭臊成,生仔魚,鰻鯰,賓士魚   \n",
       "224741         魚貝類  樣品基本資料  J0401801    斑海鯰  成仔魚,成仔丁,銀成,白肉成,臭臊成,生仔魚,鰻鯰,賓士魚   \n",
       "224742         魚貝類  樣品基本資料  J0401801    斑海鯰  成仔魚,成仔丁,銀成,白肉成,臭臊成,生仔魚,鰻鯰,賓士魚   \n",
       "\n",
       "                                                   樣品英文名稱  \\\n",
       "4                                          Taro paste bun   \n",
       "6                                          Taro paste bun   \n",
       "7                                          Taro paste bun   \n",
       "9                                          Taro paste bun   \n",
       "11                                         Taro paste bun   \n",
       "...                                                   ...   \n",
       "224738  Sea barbel; Sea catfish; Spotted catfish; Spot...   \n",
       "224739  Sea barbel; Sea catfish; Spotted catfish; Spot...   \n",
       "224740  Sea barbel; Sea catfish; Spotted catfish; Spot...   \n",
       "224741  Sea barbel; Sea catfish; Spotted catfish; Spot...   \n",
       "224742  Sea barbel; Sea catfish; Spotted catfish; Spot...   \n",
       "\n",
       "                            內容物描述   廢棄率  分析項分類          分析項 含量單位 每100克含量  樣本數  \\\n",
       "4             冷凍包裝,混合均勻打碎(麵粉,芋頭等)   0.0  脂肪酸組成  次亞麻油酸(18:3)   mg     104  3.0   \n",
       "6             冷凍包裝,混合均勻打碎(麵粉,芋頭等)   0.0  脂肪酸組成  肉豆蔻烯酸(14:1)   mg       0  3.0   \n",
       "7             冷凍包裝,混合均勻打碎(麵粉,芋頭等)   0.0  脂肪酸組成   肉豆蔻酸(14:0)   mg      51  3.0   \n",
       "9             冷凍包裝,混合均勻打碎(麵粉,芋頭等)   0.0  脂肪酸組成      辛酸(8:0)   mg       5  3.0   \n",
       "11            冷凍包裝,混合均勻打碎(麵粉,芋頭等)   0.0  脂肪酸組成   亞麻油酸(18:2)   mg    1056  3.0   \n",
       "...                           ...   ...    ...          ...  ...     ...  ...   \n",
       "224738  生,去鱗,含皮,去頭尾,去內臟及骨刺,混合均勻打碎  73.1  脂肪酸組成     油酸(18:1)   mg     129  1.0   \n",
       "224739  生,去鱗,含皮,去頭尾,去內臟及骨刺,混合均勻打碎  73.1  脂肪酸組成   花生油酸(20:4)   mg      21  1.0   \n",
       "224740  生,去鱗,含皮,去頭尾,去內臟及骨刺,混合均勻打碎  73.1  脂肪酸組成    花生酸(20:0)   mg       0  1.0   \n",
       "224741  生,去鱗,含皮,去頭尾,去內臟及骨刺,混合均勻打碎  73.1  脂肪酸組成    芥子酸(22:1)   mg       0  1.0   \n",
       "224742  生,去鱗,含皮,去頭尾,去內臟及骨刺,混合均勻打碎  73.1  脂肪酸組成     癸酸(10:0)   mg       0  1.0   \n",
       "\n",
       "        標準差   每單位含量   每單位重  每單位重含量  \n",
       "4       NaN   104.0  71.0克    74.0  \n",
       "6       NaN     0.0  71.0克     0.0  \n",
       "7       NaN    51.0  71.0克    36.0  \n",
       "9       NaN     5.0  71.0克     4.0  \n",
       "11      NaN  1056.0  71.0克   750.0  \n",
       "...     ...     ...    ...     ...  \n",
       "224738  NaN   129.0   0.0克     0.0  \n",
       "224739  NaN    21.0   0.0克     0.0  \n",
       "224740  NaN     0.0   0.0克     0.0  \n",
       "224741  NaN     0.0   0.0克     0.0  \n",
       "224742  NaN     0.0   0.0克     0.0  \n",
       "\n",
       "[69152 rows x 17 columns]"
      ]
     },
     "execution_count": 21,
     "metadata": {},
     "output_type": "execute_result"
    }
   ],
   "source": [
    "mask = rn_df['分析項分類'] == '脂肪酸組成'\n",
    "fat_group = rn_df[mask]\n",
    "fat_group"
   ]
  },
  {
   "cell_type": "code",
   "execution_count": 22,
   "metadata": {},
   "outputs": [
    {
     "data": {
      "text/plain": [
       "array(['次亞麻油酸(18:3)', '肉豆蔻烯酸(14:1)', '肉豆蔻酸(14:0)', '辛酸(8:0)',\n",
       "       '亞麻油酸(18:2)', '其他脂肪酸', '油酸(18:1)', '花生油酸(20:4)', '花生酸(20:0)',\n",
       "       '芥子酸(22:1)', '癸酸(10:0)', '脂肪酸M總量', '脂肪酸P總量', '脂肪酸S總量',\n",
       "       '棕櫚烯酸(16:1)', '棕櫚酸(16:0)', '硬脂酸(18:0)', '酪酸(4:0)', '鱈烯酸(20:1)',\n",
       "       'P/M/S', '十七酸(17:0)', '十九酸(19:0)', '十八碳四烯酸(18:4)', '十三酸(13:0)',\n",
       "       '十五酸(15:0)', '山酸(22:0)', '己酸(6:0)', '廿二碳五烯酸(22:5)', '廿二碳六烯酸(22:6)',\n",
       "       '廿四酸(24:0)', '廿碳五烯酸(20:5)', '月桂酸(12:0)'], dtype=object)"
      ]
     },
     "execution_count": 22,
     "metadata": {},
     "output_type": "execute_result"
    }
   ],
   "source": [
    "fat_group['分析項'].unique()"
   ]
  },
  {
   "cell_type": "code",
   "execution_count": 23,
   "metadata": {},
   "outputs": [
    {
     "data": {
      "text/plain": [
       "array(['半乳糖', '甘胺酸(Gly)', '甲硫胺酸(Met)', '白胺酸(Leu)', '次亞麻油酸(18:3)', '灰分',\n",
       "       '肉豆蔻烯酸(14:1)', '肉豆蔻酸(14:0)', '色胺酸(Trp)', '辛酸(8:0)', '乳糖',\n",
       "       '亞麻油酸(18:2)', '其他脂肪酸', '果糖', '油酸(18:1)', '花生油酸(20:4)', '花生酸(20:0)',\n",
       "       '芥子酸(22:1)', '癸酸(10:0)', '苯丙胺酸(Phe)', '修正熱量', '胱胺酸(Cys)', '脂肪酸M總量',\n",
       "       '脂肪酸P總量', '脂肪酸S總量', '酒精含量', '異白胺酸(Ile)', '粗脂肪', '粗蛋白', '組胺酸(His)',\n",
       "       '脯胺酸(Pro)', '麥芽糖', '棕櫚烯酸(16:1)', '棕櫚酸(16:0)', '硬脂酸(18:0)',\n",
       "       '絲胺酸(Ser)', '菸鹼素', '視網醇', '視網醇當量(RE)', '酥胺酸(Thr)', '鈣', '鈉', '葉酸',\n",
       "       '葡萄糖', '酪胺酸(Tyr)', '酪酸(4:0)', '鉀', '飽和脂肪', '精胺酸(Arg)',\n",
       "       '維生素A總量(IU)', '維生素B1', '維生素B12', '維生素B2', '維生素B6', '維生素C', '維生素D2',\n",
       "       '維生素D3', '維生素D總量(IU)', '維生素D總量(ug)', '維生素E總量', '維生素K1',\n",
       "       '維生素K2(MK-4)', '維生素K2(MK-7)', '銅', '熱量', '蔗糖', '鋅', '麩胺酸(Glu)',\n",
       "       '糖質總量', '膳食纖維', '錳', '磷', '總碳水化合物', '膽固醇', '鎂', '離胺酸(Lys)', '鐵',\n",
       "       '纈胺酸(Val)', '鱈烯酸(20:1)', 'P/M/S', 'α-生育酚', 'α-胡蘿蔔素',\n",
       "       'α-維生素E當量(α-TE)', 'β-生育酚', 'β-胡蘿蔔素', 'γ-生育酚', 'δ-生育酚', '十七酸(17:0)',\n",
       "       '十九酸(19:0)', '十八碳四烯酸(18:4)', '十三酸(13:0)', '十五酸(15:0)', '山酸(22:0)',\n",
       "       '己酸(6:0)', '反式脂肪', '天門冬胺酸(Asp)', '廿二碳五烯酸(22:5)', '廿二碳六烯酸(22:6)',\n",
       "       '廿四酸(24:0)', '廿碳五烯酸(20:5)', '月桂酸(12:0)', '水分', '水解胺基酸總量',\n",
       "       '丙胺酸(Ala)'], dtype=object)"
      ]
     },
     "execution_count": 23,
     "metadata": {},
     "output_type": "execute_result"
    }
   ],
   "source": [
    "rn_df['分析項'].unique()"
   ]
  },
  {
   "cell_type": "code",
   "execution_count": 24,
   "metadata": {},
   "outputs": [
    {
     "data": {
      "text/plain": [
       "47        一般成分\n",
       "151       一般成分\n",
       "221       一般成分\n",
       "325       一般成分\n",
       "357       一般成分\n",
       "          ... \n",
       "224203    一般成分\n",
       "224307    一般成分\n",
       "224390    一般成分\n",
       "224550    一般成分\n",
       "224667    一般成分\n",
       "Name: 分析項分類, Length: 2161, dtype: object"
      ]
     },
     "execution_count": 24,
     "metadata": {},
     "output_type": "execute_result"
    }
   ],
   "source": [
    "mask = rn_df['分析項'] == '飽和脂肪'\n",
    "tmp = rn_df[mask]\n",
    "tmp['分析項分類']"
   ]
  },
  {
   "cell_type": "code",
   "execution_count": 25,
   "metadata": {},
   "outputs": [
    {
     "data": {
      "text/plain": [
       "Int64Index([    40,    144,    214,    318,    350,    454,    553,    657,\n",
       "               681,    785,\n",
       "            ...\n",
       "            223743, 223868, 223903, 224007, 224106, 224196, 224300, 224383,\n",
       "            224543, 224660],\n",
       "           dtype='int64', length=2161)"
      ]
     },
     "execution_count": 25,
     "metadata": {},
     "output_type": "execute_result"
    }
   ],
   "source": [
    "mask = rn_df['分析項'] == '鈣'\n",
    "rn_df[mask].index"
   ]
  },
  {
   "cell_type": "code",
   "execution_count": 26,
   "metadata": {},
   "outputs": [
    {
     "data": {
      "text/plain": [
       "Int64Index([    36,    140,    210,    314,    346,    450,    549,    653,\n",
       "               677,    781,\n",
       "            ...\n",
       "            223635, 223739, 223864, 224003, 224102, 224192, 224296, 224379,\n",
       "            224539, 224656],\n",
       "           dtype='int64', length=2161)"
      ]
     },
     "execution_count": 26,
     "metadata": {},
     "output_type": "execute_result"
    }
   ],
   "source": [
    "mask = rn_df['分析項'] == '菸鹼素'\n",
    "rn_df[mask].index"
   ]
  },
  {
   "attachments": {},
   "cell_type": "markdown",
   "metadata": {},
   "source": [
    "## everyday_nutrition\n",
    "- 可能需要用手打\n",
    "- 要先決定這邊要留哪些成分"
   ]
  },
  {
   "cell_type": "code",
   "execution_count": 27,
   "metadata": {},
   "outputs": [],
   "source": [
    "protein = ['甘胺酸(Gly)', '甲硫胺酸(Met)', '白胺酸(Leu)', '色胺酸(Trp)', '苯丙胺酸(Phe)', '胱胺酸(Cys)', '異白胺酸(Ile)', '組胺酸(His)', '脯胺酸(Pro)', '絲胺酸(Ser)', '酥胺酸(Thr)', '精胺酸(Arg)', '麩胺酸(Glu)', '離胺酸(Lys)', '纈胺酸(Val)', '天門冬胺酸(Asp)', '丙胺酸(Ala)', '粗蛋白']"
   ]
  },
  {
   "cell_type": "code",
   "execution_count": 28,
   "metadata": {},
   "outputs": [],
   "source": [
    "fat = ['次亞麻油酸(18:3)', '肉豆蔻烯酸(14:1)', '肉豆蔻酸(14:0)', '辛酸(8:0)', '亞麻油酸(18:2)', '其他脂肪酸', '油酸(18:1)', '花生油酸(20:4)', '花生酸(20:0)', '芥子酸(22:1)', '癸酸(10:0)', '棕櫚烯酸(16:1)', '棕櫚酸(16:0)', '硬脂酸(18:0)', '酪酸(4:0)', '飽和脂肪', '鱈烯酸(20:1)', '十七酸(17:0)', '十九酸(19:0)', '十八碳四烯酸(18:4)', '十三酸(13:0)', '十五酸(15:0)', '山酸(22:0)', '己酸(6:0)', '反式脂肪', '廿二碳五烯酸(22:5)', '廿二碳六烯酸(22:6)', '廿四酸(24:0)', '廿碳五烯酸(20:5)', '月桂酸(12:0)', '粗脂肪', '膽固醇']"
   ]
  },
  {
   "cell_type": "code",
   "execution_count": 29,
   "metadata": {},
   "outputs": [],
   "source": [
    "carbohydrate = ['半乳糖', '乳糖', '果糖', '麥芽糖', '葡萄糖', '蔗糖', '糖質總量', '膳食纖維', '總碳水化合物']"
   ]
  },
  {
   "cell_type": "code",
   "execution_count": 30,
   "metadata": {},
   "outputs": [],
   "source": [
    "vitaminA = ['維生素A總量(IU)', 'α-胡蘿蔔素', 'β-胡蘿蔔素']"
   ]
  },
  {
   "cell_type": "code",
   "execution_count": 31,
   "metadata": {},
   "outputs": [],
   "source": [
    "vitaminE =  ['維生素E總量', 'α-生育酚', 'α-維生素E當量(α-TE)', 'β-生育酚', 'γ-生育酚', 'δ-生育酚']"
   ]
  },
  {
   "cell_type": "code",
   "execution_count": 32,
   "metadata": {},
   "outputs": [],
   "source": [
    "minerals = ['鈣', '鈉', '鉀', '銅', '鋅', '錳', '磷', '鎂', '鐵']"
   ]
  },
  {
   "cell_type": "code",
   "execution_count": 33,
   "metadata": {},
   "outputs": [],
   "source": [
    "others = ['灰分', '脂肪酸M總量', '脂肪酸P總量', '脂肪酸S總量', '酒精含量', '視網醇', '視網醇當量(RE)', '維生素D2', '維生素D3', '維生素D總量(IU)', '維生素D總量(ug)', '維生素K1', '維生素K2(MK-4)', '維生素K2(MK-7)', '熱量', 'P/M/S', '水分', '水解胺基酸總量', '葉酸']"
   ]
  },
  {
   "cell_type": "code",
   "execution_count": 34,
   "metadata": {},
   "outputs": [],
   "source": [
    "categories = {}\n",
    "for item in protein:\n",
    "    categories[item] = 'protein'\n",
    "for item in fat:\n",
    "    categories[item] = 'fat'\n",
    "for item in carbohydrate:\n",
    "    categories[item] = 'carbohydrate'\n",
    "for item in vitaminA:\n",
    "    categories[item] = 'vitaminA'\n",
    "for item in vitaminE:\n",
    "    categories[item] = 'vitaminE'\n",
    "for item in minerals:\n",
    "    categories[item] = 'minerals'\n",
    "for item in others:\n",
    "    categories[item] = 'others'\n",
    "\n",
    "# 替換分析項\n",
    "rn_df['分析項'] = rn_df['分析項'].replace(categories)"
   ]
  },
  {
   "cell_type": "code",
   "execution_count": 35,
   "metadata": {},
   "outputs": [],
   "source": [
    "rn_df['分析項'] = rn_df['分析項'].replace({'酪胺酸(Tyr)' : 'protein'})\n",
    "rn_df['分析項'] = rn_df['分析項'].replace({'修正熱量' : 'others'})\n",
    "rn_df['分析項'] = rn_df['分析項'].replace({'菸鹼素' : 'nicotine'})\n",
    "rn_df['分析項'] = rn_df['分析項'].replace({'維生素B1' : 'vitaminB1'})\n",
    "rn_df['分析項'] = rn_df['分析項'].replace({'維生素B2' : 'vitaminB2'})\n",
    "rn_df['分析項'] = rn_df['分析項'].replace({'維生素B6' : 'vitaminB6'})\n",
    "rn_df['分析項'] = rn_df['分析項'].replace({'維生素C' : 'vitaminC'})\n",
    "rn_df['分析項'] = rn_df['分析項'].replace({'維生素B12' : 'others'})"
   ]
  },
  {
   "cell_type": "code",
   "execution_count": 37,
   "metadata": {},
   "outputs": [],
   "source": [
    "rn_df.drop('分析項分類', inplace=True, axis=1)"
   ]
  },
  {
   "cell_type": "code",
   "execution_count": 36,
   "metadata": {},
   "outputs": [
    {
     "data": {
      "text/plain": [
       "array(['carbohydrate', 'protein', 'fat', 'others', 'nicotine', 'minerals',\n",
       "       'vitaminA', 'vitaminB1', 'vitaminB2', 'vitaminB6', 'vitaminC',\n",
       "       'vitaminE'], dtype=object)"
      ]
     },
     "execution_count": 36,
     "metadata": {},
     "output_type": "execute_result"
    }
   ],
   "source": [
    "rn_df['分析項'].unique()"
   ]
  },
  {
   "cell_type": "code",
   "execution_count": null,
   "metadata": {},
   "outputs": [],
   "source": []
  }
 ],
 "metadata": {
  "kernelspec": {
   "display_name": "base",
   "language": "python",
   "name": "python3"
  },
  "language_info": {
   "codemirror_mode": {
    "name": "ipython",
    "version": 3
   },
   "file_extension": ".py",
   "mimetype": "text/x-python",
   "name": "python",
   "nbconvert_exporter": "python",
   "pygments_lexer": "ipython3",
   "version": "3.9.13"
  },
  "orig_nbformat": 4
 },
 "nbformat": 4,
 "nbformat_minor": 2
}
