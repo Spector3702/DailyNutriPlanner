{
 "cells": [
  {
   "attachments": {},
   "cell_type": "markdown",
   "metadata": {},
   "source": [
    "## recommended_nutrition\n",
    "- find unique value in nutrition group\n",
    "- and those groups would be atrrbutes of this table\n",
    "- 單位以原分析項為準：Fat(mg)"
   ]
  },
  {
   "cell_type": "code",
   "execution_count": 52,
   "metadata": {},
   "outputs": [],
   "source": [
    "import pandas as pd"
   ]
  },
  {
   "cell_type": "code",
   "execution_count": 53,
   "metadata": {},
   "outputs": [],
   "source": [
    "rn_df = pd.read_csv('food_nutrition.csv')"
   ]
  },
  {
   "cell_type": "code",
   "execution_count": 54,
   "metadata": {},
   "outputs": [
    {
     "data": {
      "text/plain": [
       "array(['糖質分析', '胺基酸組成', '脂肪酸組成', '一般成分', '其他', '維生素B群 & C', '維生素A', '礦物質',\n",
       "       '維生素D', '維生素E', '維生素K'], dtype=object)"
      ]
     },
     "execution_count": 54,
     "metadata": {},
     "output_type": "execute_result"
    }
   ],
   "source": [
    "rn_df['分析項分類'].unique()"
   ]
  },
  {
   "cell_type": "code",
   "execution_count": 55,
   "metadata": {},
   "outputs": [
    {
     "data": {
      "text/html": [
       "<div>\n",
       "<style scoped>\n",
       "    .dataframe tbody tr th:only-of-type {\n",
       "        vertical-align: middle;\n",
       "    }\n",
       "\n",
       "    .dataframe tbody tr th {\n",
       "        vertical-align: top;\n",
       "    }\n",
       "\n",
       "    .dataframe thead th {\n",
       "        text-align: right;\n",
       "    }\n",
       "</style>\n",
       "<table border=\"1\" class=\"dataframe\">\n",
       "  <thead>\n",
       "    <tr style=\"text-align: right;\">\n",
       "      <th></th>\n",
       "      <th>食品分類</th>\n",
       "      <th>資料類別</th>\n",
       "      <th>整合編號</th>\n",
       "      <th>樣品名稱</th>\n",
       "      <th>俗名</th>\n",
       "      <th>樣品英文名稱</th>\n",
       "      <th>內容物描述</th>\n",
       "      <th>廢棄率</th>\n",
       "      <th>分析項分類</th>\n",
       "      <th>分析項</th>\n",
       "      <th>含量單位</th>\n",
       "      <th>每100克含量</th>\n",
       "      <th>樣本數</th>\n",
       "      <th>標準差</th>\n",
       "      <th>每單位含量</th>\n",
       "      <th>每單位重</th>\n",
       "      <th>每單位重含量</th>\n",
       "    </tr>\n",
       "  </thead>\n",
       "  <tbody>\n",
       "    <tr>\n",
       "      <th>4</th>\n",
       "      <td>加工調理食品及其他類</td>\n",
       "      <td>樣品基本資料</td>\n",
       "      <td>R2300301</td>\n",
       "      <td>冷凍芋泥包</td>\n",
       "      <td>NaN</td>\n",
       "      <td>Taro paste bun</td>\n",
       "      <td>冷凍包裝,混合均勻打碎(麵粉,芋頭等)</td>\n",
       "      <td>0.0</td>\n",
       "      <td>脂肪酸組成</td>\n",
       "      <td>次亞麻油酸(18:3)</td>\n",
       "      <td>mg</td>\n",
       "      <td>104</td>\n",
       "      <td>3.0</td>\n",
       "      <td>NaN</td>\n",
       "      <td>104.0</td>\n",
       "      <td>71.0克</td>\n",
       "      <td>74.0</td>\n",
       "    </tr>\n",
       "    <tr>\n",
       "      <th>6</th>\n",
       "      <td>加工調理食品及其他類</td>\n",
       "      <td>樣品基本資料</td>\n",
       "      <td>R2300301</td>\n",
       "      <td>冷凍芋泥包</td>\n",
       "      <td>NaN</td>\n",
       "      <td>Taro paste bun</td>\n",
       "      <td>冷凍包裝,混合均勻打碎(麵粉,芋頭等)</td>\n",
       "      <td>0.0</td>\n",
       "      <td>脂肪酸組成</td>\n",
       "      <td>肉豆蔻烯酸(14:1)</td>\n",
       "      <td>mg</td>\n",
       "      <td>0</td>\n",
       "      <td>3.0</td>\n",
       "      <td>NaN</td>\n",
       "      <td>0.0</td>\n",
       "      <td>71.0克</td>\n",
       "      <td>0.0</td>\n",
       "    </tr>\n",
       "    <tr>\n",
       "      <th>7</th>\n",
       "      <td>加工調理食品及其他類</td>\n",
       "      <td>樣品基本資料</td>\n",
       "      <td>R2300301</td>\n",
       "      <td>冷凍芋泥包</td>\n",
       "      <td>NaN</td>\n",
       "      <td>Taro paste bun</td>\n",
       "      <td>冷凍包裝,混合均勻打碎(麵粉,芋頭等)</td>\n",
       "      <td>0.0</td>\n",
       "      <td>脂肪酸組成</td>\n",
       "      <td>肉豆蔻酸(14:0)</td>\n",
       "      <td>mg</td>\n",
       "      <td>51</td>\n",
       "      <td>3.0</td>\n",
       "      <td>NaN</td>\n",
       "      <td>51.0</td>\n",
       "      <td>71.0克</td>\n",
       "      <td>36.0</td>\n",
       "    </tr>\n",
       "    <tr>\n",
       "      <th>9</th>\n",
       "      <td>加工調理食品及其他類</td>\n",
       "      <td>樣品基本資料</td>\n",
       "      <td>R2300301</td>\n",
       "      <td>冷凍芋泥包</td>\n",
       "      <td>NaN</td>\n",
       "      <td>Taro paste bun</td>\n",
       "      <td>冷凍包裝,混合均勻打碎(麵粉,芋頭等)</td>\n",
       "      <td>0.0</td>\n",
       "      <td>脂肪酸組成</td>\n",
       "      <td>辛酸(8:0)</td>\n",
       "      <td>mg</td>\n",
       "      <td>5</td>\n",
       "      <td>3.0</td>\n",
       "      <td>NaN</td>\n",
       "      <td>5.0</td>\n",
       "      <td>71.0克</td>\n",
       "      <td>4.0</td>\n",
       "    </tr>\n",
       "    <tr>\n",
       "      <th>11</th>\n",
       "      <td>加工調理食品及其他類</td>\n",
       "      <td>樣品基本資料</td>\n",
       "      <td>R2300301</td>\n",
       "      <td>冷凍芋泥包</td>\n",
       "      <td>NaN</td>\n",
       "      <td>Taro paste bun</td>\n",
       "      <td>冷凍包裝,混合均勻打碎(麵粉,芋頭等)</td>\n",
       "      <td>0.0</td>\n",
       "      <td>脂肪酸組成</td>\n",
       "      <td>亞麻油酸(18:2)</td>\n",
       "      <td>mg</td>\n",
       "      <td>1056</td>\n",
       "      <td>3.0</td>\n",
       "      <td>NaN</td>\n",
       "      <td>1056.0</td>\n",
       "      <td>71.0克</td>\n",
       "      <td>750.0</td>\n",
       "    </tr>\n",
       "    <tr>\n",
       "      <th>...</th>\n",
       "      <td>...</td>\n",
       "      <td>...</td>\n",
       "      <td>...</td>\n",
       "      <td>...</td>\n",
       "      <td>...</td>\n",
       "      <td>...</td>\n",
       "      <td>...</td>\n",
       "      <td>...</td>\n",
       "      <td>...</td>\n",
       "      <td>...</td>\n",
       "      <td>...</td>\n",
       "      <td>...</td>\n",
       "      <td>...</td>\n",
       "      <td>...</td>\n",
       "      <td>...</td>\n",
       "      <td>...</td>\n",
       "      <td>...</td>\n",
       "    </tr>\n",
       "    <tr>\n",
       "      <th>224738</th>\n",
       "      <td>魚貝類</td>\n",
       "      <td>樣品基本資料</td>\n",
       "      <td>J0401801</td>\n",
       "      <td>斑海鯰</td>\n",
       "      <td>成仔魚,成仔丁,銀成,白肉成,臭臊成,生仔魚,鰻鯰,賓士魚</td>\n",
       "      <td>Sea barbel; Sea catfish; Spotted catfish; Spot...</td>\n",
       "      <td>生,去鱗,含皮,去頭尾,去內臟及骨刺,混合均勻打碎</td>\n",
       "      <td>73.1</td>\n",
       "      <td>脂肪酸組成</td>\n",
       "      <td>油酸(18:1)</td>\n",
       "      <td>mg</td>\n",
       "      <td>129</td>\n",
       "      <td>1.0</td>\n",
       "      <td>NaN</td>\n",
       "      <td>129.0</td>\n",
       "      <td>0.0克</td>\n",
       "      <td>0.0</td>\n",
       "    </tr>\n",
       "    <tr>\n",
       "      <th>224739</th>\n",
       "      <td>魚貝類</td>\n",
       "      <td>樣品基本資料</td>\n",
       "      <td>J0401801</td>\n",
       "      <td>斑海鯰</td>\n",
       "      <td>成仔魚,成仔丁,銀成,白肉成,臭臊成,生仔魚,鰻鯰,賓士魚</td>\n",
       "      <td>Sea barbel; Sea catfish; Spotted catfish; Spot...</td>\n",
       "      <td>生,去鱗,含皮,去頭尾,去內臟及骨刺,混合均勻打碎</td>\n",
       "      <td>73.1</td>\n",
       "      <td>脂肪酸組成</td>\n",
       "      <td>花生油酸(20:4)</td>\n",
       "      <td>mg</td>\n",
       "      <td>21</td>\n",
       "      <td>1.0</td>\n",
       "      <td>NaN</td>\n",
       "      <td>21.0</td>\n",
       "      <td>0.0克</td>\n",
       "      <td>0.0</td>\n",
       "    </tr>\n",
       "    <tr>\n",
       "      <th>224740</th>\n",
       "      <td>魚貝類</td>\n",
       "      <td>樣品基本資料</td>\n",
       "      <td>J0401801</td>\n",
       "      <td>斑海鯰</td>\n",
       "      <td>成仔魚,成仔丁,銀成,白肉成,臭臊成,生仔魚,鰻鯰,賓士魚</td>\n",
       "      <td>Sea barbel; Sea catfish; Spotted catfish; Spot...</td>\n",
       "      <td>生,去鱗,含皮,去頭尾,去內臟及骨刺,混合均勻打碎</td>\n",
       "      <td>73.1</td>\n",
       "      <td>脂肪酸組成</td>\n",
       "      <td>花生酸(20:0)</td>\n",
       "      <td>mg</td>\n",
       "      <td>0</td>\n",
       "      <td>1.0</td>\n",
       "      <td>NaN</td>\n",
       "      <td>0.0</td>\n",
       "      <td>0.0克</td>\n",
       "      <td>0.0</td>\n",
       "    </tr>\n",
       "    <tr>\n",
       "      <th>224741</th>\n",
       "      <td>魚貝類</td>\n",
       "      <td>樣品基本資料</td>\n",
       "      <td>J0401801</td>\n",
       "      <td>斑海鯰</td>\n",
       "      <td>成仔魚,成仔丁,銀成,白肉成,臭臊成,生仔魚,鰻鯰,賓士魚</td>\n",
       "      <td>Sea barbel; Sea catfish; Spotted catfish; Spot...</td>\n",
       "      <td>生,去鱗,含皮,去頭尾,去內臟及骨刺,混合均勻打碎</td>\n",
       "      <td>73.1</td>\n",
       "      <td>脂肪酸組成</td>\n",
       "      <td>芥子酸(22:1)</td>\n",
       "      <td>mg</td>\n",
       "      <td>0</td>\n",
       "      <td>1.0</td>\n",
       "      <td>NaN</td>\n",
       "      <td>0.0</td>\n",
       "      <td>0.0克</td>\n",
       "      <td>0.0</td>\n",
       "    </tr>\n",
       "    <tr>\n",
       "      <th>224742</th>\n",
       "      <td>魚貝類</td>\n",
       "      <td>樣品基本資料</td>\n",
       "      <td>J0401801</td>\n",
       "      <td>斑海鯰</td>\n",
       "      <td>成仔魚,成仔丁,銀成,白肉成,臭臊成,生仔魚,鰻鯰,賓士魚</td>\n",
       "      <td>Sea barbel; Sea catfish; Spotted catfish; Spot...</td>\n",
       "      <td>生,去鱗,含皮,去頭尾,去內臟及骨刺,混合均勻打碎</td>\n",
       "      <td>73.1</td>\n",
       "      <td>脂肪酸組成</td>\n",
       "      <td>癸酸(10:0)</td>\n",
       "      <td>mg</td>\n",
       "      <td>0</td>\n",
       "      <td>1.0</td>\n",
       "      <td>NaN</td>\n",
       "      <td>0.0</td>\n",
       "      <td>0.0克</td>\n",
       "      <td>0.0</td>\n",
       "    </tr>\n",
       "  </tbody>\n",
       "</table>\n",
       "<p>69152 rows × 17 columns</p>\n",
       "</div>"
      ],
      "text/plain": [
       "              食品分類    資料類別      整合編號   樣品名稱                             俗名  \\\n",
       "4       加工調理食品及其他類  樣品基本資料  R2300301  冷凍芋泥包                            NaN   \n",
       "6       加工調理食品及其他類  樣品基本資料  R2300301  冷凍芋泥包                            NaN   \n",
       "7       加工調理食品及其他類  樣品基本資料  R2300301  冷凍芋泥包                            NaN   \n",
       "9       加工調理食品及其他類  樣品基本資料  R2300301  冷凍芋泥包                            NaN   \n",
       "11      加工調理食品及其他類  樣品基本資料  R2300301  冷凍芋泥包                            NaN   \n",
       "...            ...     ...       ...    ...                            ...   \n",
       "224738         魚貝類  樣品基本資料  J0401801    斑海鯰  成仔魚,成仔丁,銀成,白肉成,臭臊成,生仔魚,鰻鯰,賓士魚   \n",
       "224739         魚貝類  樣品基本資料  J0401801    斑海鯰  成仔魚,成仔丁,銀成,白肉成,臭臊成,生仔魚,鰻鯰,賓士魚   \n",
       "224740         魚貝類  樣品基本資料  J0401801    斑海鯰  成仔魚,成仔丁,銀成,白肉成,臭臊成,生仔魚,鰻鯰,賓士魚   \n",
       "224741         魚貝類  樣品基本資料  J0401801    斑海鯰  成仔魚,成仔丁,銀成,白肉成,臭臊成,生仔魚,鰻鯰,賓士魚   \n",
       "224742         魚貝類  樣品基本資料  J0401801    斑海鯰  成仔魚,成仔丁,銀成,白肉成,臭臊成,生仔魚,鰻鯰,賓士魚   \n",
       "\n",
       "                                                   樣品英文名稱  \\\n",
       "4                                          Taro paste bun   \n",
       "6                                          Taro paste bun   \n",
       "7                                          Taro paste bun   \n",
       "9                                          Taro paste bun   \n",
       "11                                         Taro paste bun   \n",
       "...                                                   ...   \n",
       "224738  Sea barbel; Sea catfish; Spotted catfish; Spot...   \n",
       "224739  Sea barbel; Sea catfish; Spotted catfish; Spot...   \n",
       "224740  Sea barbel; Sea catfish; Spotted catfish; Spot...   \n",
       "224741  Sea barbel; Sea catfish; Spotted catfish; Spot...   \n",
       "224742  Sea barbel; Sea catfish; Spotted catfish; Spot...   \n",
       "\n",
       "                            內容物描述   廢棄率  分析項分類          分析項 含量單位 每100克含量  樣本數  \\\n",
       "4             冷凍包裝,混合均勻打碎(麵粉,芋頭等)   0.0  脂肪酸組成  次亞麻油酸(18:3)   mg     104  3.0   \n",
       "6             冷凍包裝,混合均勻打碎(麵粉,芋頭等)   0.0  脂肪酸組成  肉豆蔻烯酸(14:1)   mg       0  3.0   \n",
       "7             冷凍包裝,混合均勻打碎(麵粉,芋頭等)   0.0  脂肪酸組成   肉豆蔻酸(14:0)   mg      51  3.0   \n",
       "9             冷凍包裝,混合均勻打碎(麵粉,芋頭等)   0.0  脂肪酸組成      辛酸(8:0)   mg       5  3.0   \n",
       "11            冷凍包裝,混合均勻打碎(麵粉,芋頭等)   0.0  脂肪酸組成   亞麻油酸(18:2)   mg    1056  3.0   \n",
       "...                           ...   ...    ...          ...  ...     ...  ...   \n",
       "224738  生,去鱗,含皮,去頭尾,去內臟及骨刺,混合均勻打碎  73.1  脂肪酸組成     油酸(18:1)   mg     129  1.0   \n",
       "224739  生,去鱗,含皮,去頭尾,去內臟及骨刺,混合均勻打碎  73.1  脂肪酸組成   花生油酸(20:4)   mg      21  1.0   \n",
       "224740  生,去鱗,含皮,去頭尾,去內臟及骨刺,混合均勻打碎  73.1  脂肪酸組成    花生酸(20:0)   mg       0  1.0   \n",
       "224741  生,去鱗,含皮,去頭尾,去內臟及骨刺,混合均勻打碎  73.1  脂肪酸組成    芥子酸(22:1)   mg       0  1.0   \n",
       "224742  生,去鱗,含皮,去頭尾,去內臟及骨刺,混合均勻打碎  73.1  脂肪酸組成     癸酸(10:0)   mg       0  1.0   \n",
       "\n",
       "        標準差   每單位含量   每單位重  每單位重含量  \n",
       "4       NaN   104.0  71.0克    74.0  \n",
       "6       NaN     0.0  71.0克     0.0  \n",
       "7       NaN    51.0  71.0克    36.0  \n",
       "9       NaN     5.0  71.0克     4.0  \n",
       "11      NaN  1056.0  71.0克   750.0  \n",
       "...     ...     ...    ...     ...  \n",
       "224738  NaN   129.0   0.0克     0.0  \n",
       "224739  NaN    21.0   0.0克     0.0  \n",
       "224740  NaN     0.0   0.0克     0.0  \n",
       "224741  NaN     0.0   0.0克     0.0  \n",
       "224742  NaN     0.0   0.0克     0.0  \n",
       "\n",
       "[69152 rows x 17 columns]"
      ]
     },
     "execution_count": 55,
     "metadata": {},
     "output_type": "execute_result"
    }
   ],
   "source": [
    "mask = rn_df['分析項分類'] == '脂肪酸組成'\n",
    "fat_group = rn_df[mask]\n",
    "fat_group"
   ]
  },
  {
   "cell_type": "code",
   "execution_count": 56,
   "metadata": {},
   "outputs": [
    {
     "data": {
      "text/plain": [
       "array(['次亞麻油酸(18:3)', '肉豆蔻烯酸(14:1)', '肉豆蔻酸(14:0)', '辛酸(8:0)',\n",
       "       '亞麻油酸(18:2)', '其他脂肪酸', '油酸(18:1)', '花生油酸(20:4)', '花生酸(20:0)',\n",
       "       '芥子酸(22:1)', '癸酸(10:0)', '脂肪酸M總量', '脂肪酸P總量', '脂肪酸S總量',\n",
       "       '棕櫚烯酸(16:1)', '棕櫚酸(16:0)', '硬脂酸(18:0)', '酪酸(4:0)', '鱈烯酸(20:1)',\n",
       "       'P/M/S', '十七酸(17:0)', '十九酸(19:0)', '十八碳四烯酸(18:4)', '十三酸(13:0)',\n",
       "       '十五酸(15:0)', '山酸(22:0)', '己酸(6:0)', '廿二碳五烯酸(22:5)', '廿二碳六烯酸(22:6)',\n",
       "       '廿四酸(24:0)', '廿碳五烯酸(20:5)', '月桂酸(12:0)'], dtype=object)"
      ]
     },
     "execution_count": 56,
     "metadata": {},
     "output_type": "execute_result"
    }
   ],
   "source": [
    "fat_group['分析項'].unique()"
   ]
  },
  {
   "cell_type": "code",
   "execution_count": 57,
   "metadata": {},
   "outputs": [
    {
     "data": {
      "text/plain": [
       "array(['半乳糖', '甘胺酸(Gly)', '甲硫胺酸(Met)', '白胺酸(Leu)', '次亞麻油酸(18:3)', '灰分',\n",
       "       '肉豆蔻烯酸(14:1)', '肉豆蔻酸(14:0)', '色胺酸(Trp)', '辛酸(8:0)', '乳糖',\n",
       "       '亞麻油酸(18:2)', '其他脂肪酸', '果糖', '油酸(18:1)', '花生油酸(20:4)', '花生酸(20:0)',\n",
       "       '芥子酸(22:1)', '癸酸(10:0)', '苯丙胺酸(Phe)', '修正熱量', '胱胺酸(Cys)', '脂肪酸M總量',\n",
       "       '脂肪酸P總量', '脂肪酸S總量', '酒精含量', '異白胺酸(Ile)', '粗脂肪', '粗蛋白', '組胺酸(His)',\n",
       "       '脯胺酸(Pro)', '麥芽糖', '棕櫚烯酸(16:1)', '棕櫚酸(16:0)', '硬脂酸(18:0)',\n",
       "       '絲胺酸(Ser)', '菸鹼素', '視網醇', '視網醇當量(RE)', '酥胺酸(Thr)', '鈣', '鈉', '葉酸',\n",
       "       '葡萄糖', '酪胺酸(Tyr)', '酪酸(4:0)', '鉀', '飽和脂肪', '精胺酸(Arg)',\n",
       "       '維生素A總量(IU)', '維生素B1', '維生素B12', '維生素B2', '維生素B6', '維生素C', '維生素D2',\n",
       "       '維生素D3', '維生素D總量(IU)', '維生素D總量(ug)', '維生素E總量', '維生素K1',\n",
       "       '維生素K2(MK-4)', '維生素K2(MK-7)', '銅', '熱量', '蔗糖', '鋅', '麩胺酸(Glu)',\n",
       "       '糖質總量', '膳食纖維', '錳', '磷', '總碳水化合物', '膽固醇', '鎂', '離胺酸(Lys)', '鐵',\n",
       "       '纈胺酸(Val)', '鱈烯酸(20:1)', 'P/M/S', 'α-生育酚', 'α-胡蘿蔔素',\n",
       "       'α-維生素E當量(α-TE)', 'β-生育酚', 'β-胡蘿蔔素', 'γ-生育酚', 'δ-生育酚', '十七酸(17:0)',\n",
       "       '十九酸(19:0)', '十八碳四烯酸(18:4)', '十三酸(13:0)', '十五酸(15:0)', '山酸(22:0)',\n",
       "       '己酸(6:0)', '反式脂肪', '天門冬胺酸(Asp)', '廿二碳五烯酸(22:5)', '廿二碳六烯酸(22:6)',\n",
       "       '廿四酸(24:0)', '廿碳五烯酸(20:5)', '月桂酸(12:0)', '水分', '水解胺基酸總量',\n",
       "       '丙胺酸(Ala)'], dtype=object)"
      ]
     },
     "execution_count": 57,
     "metadata": {},
     "output_type": "execute_result"
    }
   ],
   "source": [
    "rn_df['分析項'].unique()"
   ]
  },
  {
   "cell_type": "code",
   "execution_count": 58,
   "metadata": {},
   "outputs": [
    {
     "data": {
      "text/plain": [
       "47        一般成分\n",
       "151       一般成分\n",
       "221       一般成分\n",
       "325       一般成分\n",
       "357       一般成分\n",
       "          ... \n",
       "224203    一般成分\n",
       "224307    一般成分\n",
       "224390    一般成分\n",
       "224550    一般成分\n",
       "224667    一般成分\n",
       "Name: 分析項分類, Length: 2161, dtype: object"
      ]
     },
     "execution_count": 58,
     "metadata": {},
     "output_type": "execute_result"
    }
   ],
   "source": [
    "mask = rn_df['分析項'] == '飽和脂肪'\n",
    "tmp = rn_df[mask]\n",
    "tmp['分析項分類']"
   ]
  },
  {
   "cell_type": "code",
   "execution_count": 59,
   "metadata": {},
   "outputs": [
    {
     "data": {
      "text/plain": [
       "Int64Index([    40,    144,    214,    318,    350,    454,    553,    657,\n",
       "               681,    785,\n",
       "            ...\n",
       "            223743, 223868, 223903, 224007, 224106, 224196, 224300, 224383,\n",
       "            224543, 224660],\n",
       "           dtype='int64', length=2161)"
      ]
     },
     "execution_count": 59,
     "metadata": {},
     "output_type": "execute_result"
    }
   ],
   "source": [
    "mask = rn_df['分析項'] == '鈣'\n",
    "rn_df[mask].index"
   ]
  },
  {
   "cell_type": "code",
   "execution_count": 60,
   "metadata": {},
   "outputs": [
    {
     "data": {
      "text/plain": [
       "Int64Index([    36,    140,    210,    314,    346,    450,    549,    653,\n",
       "               677,    781,\n",
       "            ...\n",
       "            223635, 223739, 223864, 224003, 224102, 224192, 224296, 224379,\n",
       "            224539, 224656],\n",
       "           dtype='int64', length=2161)"
      ]
     },
     "execution_count": 60,
     "metadata": {},
     "output_type": "execute_result"
    }
   ],
   "source": [
    "mask = rn_df['分析項'] == '菸鹼素'\n",
    "rn_df[mask].index"
   ]
  },
  {
   "attachments": {},
   "cell_type": "markdown",
   "metadata": {},
   "source": [
    "## everyday_nutrition\n",
    "- 可能需要用手打\n",
    "- 要先決定這邊要留哪些成分"
   ]
  },
  {
   "cell_type": "code",
   "execution_count": 61,
   "metadata": {},
   "outputs": [],
   "source": [
    "protein = ['甘胺酸(Gly)', '甲硫胺酸(Met)', '白胺酸(Leu)', '色胺酸(Trp)', '苯丙胺酸(Phe)', '胱胺酸(Cys)', '異白胺酸(Ile)', '組胺酸(His)', '脯胺酸(Pro)', '絲胺酸(Ser)', '酥胺酸(Thr)', '精胺酸(Arg)', '麩胺酸(Glu)', '離胺酸(Lys)', '纈胺酸(Val)', '天門冬胺酸(Asp)', '丙胺酸(Ala)', '粗蛋白']"
   ]
  },
  {
   "cell_type": "code",
   "execution_count": 62,
   "metadata": {},
   "outputs": [],
   "source": [
    "fat = ['次亞麻油酸(18:3)', '肉豆蔻烯酸(14:1)', '肉豆蔻酸(14:0)', '辛酸(8:0)', '亞麻油酸(18:2)', '其他脂肪酸', '油酸(18:1)', '花生油酸(20:4)', '花生酸(20:0)', '芥子酸(22:1)', '癸酸(10:0)', '棕櫚烯酸(16:1)', '棕櫚酸(16:0)', '硬脂酸(18:0)', '酪酸(4:0)', '飽和脂肪', '鱈烯酸(20:1)', '十七酸(17:0)', '十九酸(19:0)', '十八碳四烯酸(18:4)', '十三酸(13:0)', '十五酸(15:0)', '山酸(22:0)', '己酸(6:0)', '反式脂肪', '廿二碳五烯酸(22:5)', '廿二碳六烯酸(22:6)', '廿四酸(24:0)', '廿碳五烯酸(20:5)', '月桂酸(12:0)', '粗脂肪', '膽固醇']"
   ]
  },
  {
   "cell_type": "code",
   "execution_count": 63,
   "metadata": {},
   "outputs": [],
   "source": [
    "carbohydrate = ['半乳糖', '乳糖', '果糖', '麥芽糖', '葡萄糖', '蔗糖', '糖質總量', '膳食纖維', '總碳水化合物']"
   ]
  },
  {
   "cell_type": "code",
   "execution_count": 64,
   "metadata": {},
   "outputs": [],
   "source": [
    "vitaminA = ['維生素A總量(IU)', 'α-胡蘿蔔素', 'β-胡蘿蔔素']"
   ]
  },
  {
   "cell_type": "code",
   "execution_count": 65,
   "metadata": {},
   "outputs": [],
   "source": [
    "vitaminE =  ['維生素E總量', 'α-生育酚', 'α-維生素E當量(α-TE)', 'β-生育酚', 'γ-生育酚', 'δ-生育酚']"
   ]
  },
  {
   "cell_type": "code",
   "execution_count": 66,
   "metadata": {},
   "outputs": [],
   "source": [
    "others = ['灰分', '脂肪酸M總量', '脂肪酸P總量', '脂肪酸S總量', '酒精含量', '視網醇', '視網醇當量(RE)', '維生素D2', '維生素D3', '維生素D總量(IU)', '維生素D總量(ug)', '維生素K1', '維生素K2(MK-4)', '維生素K2(MK-7)', '熱量', 'P/M/S', '水分', '水解胺基酸總量', '葉酸']"
   ]
  },
  {
   "cell_type": "code",
   "execution_count": 67,
   "metadata": {},
   "outputs": [],
   "source": [
    "categories = {}\n",
    "for item in protein:\n",
    "    categories[item] = 'protein'\n",
    "for item in fat:\n",
    "    categories[item] = 'fat'\n",
    "for item in carbohydrate:\n",
    "    categories[item] = 'carbohydrate'\n",
    "for item in vitaminA:\n",
    "    categories[item] = 'vitaminA'\n",
    "for item in vitaminE:\n",
    "    categories[item] = 'vitaminE'\n",
    "for item in others:\n",
    "    categories[item] = 'others'\n",
    "\n",
    "# 替換分析項\n",
    "rn_df['分析項'] = rn_df['分析項'].replace(categories)"
   ]
  },
  {
   "cell_type": "code",
   "execution_count": 68,
   "metadata": {},
   "outputs": [],
   "source": [
    "rn_df['分析項'] = rn_df['分析項'].replace({'酪胺酸(Tyr)' : 'protein'})\n",
    "rn_df['分析項'] = rn_df['分析項'].replace({'修正熱量' : 'others'})\n",
    "rn_df['分析項'] = rn_df['分析項'].replace({'菸鹼素' : 'nicotine'})\n",
    "rn_df['分析項'] = rn_df['分析項'].replace({'維生素B1' : 'vitaminB1'})\n",
    "rn_df['分析項'] = rn_df['分析項'].replace({'維生素B2' : 'vitaminB2'})\n",
    "rn_df['分析項'] = rn_df['分析項'].replace({'維生素B6' : 'vitaminB6'})\n",
    "rn_df['分析項'] = rn_df['分析項'].replace({'維生素C' : 'vitaminC'})\n",
    "rn_df['分析項'] = rn_df['分析項'].replace({'維生素B12' : 'others'})\n",
    "rn_df['分析項'] = rn_df['分析項'].replace({'鈣' : 'Ca'})\n",
    "rn_df['分析項'] = rn_df['分析項'].replace({'鈉' : 'Na'})\n",
    "rn_df['分析項'] = rn_df['分析項'].replace({'磷' : 'P'})\n",
    "rn_df['分析項'] = rn_df['分析項'].replace({'鐵' : 'Fe'})\n",
    "rn_df['分析項'] = rn_df['分析項'].replace({'鎂' : 'Mg'})\n",
    "rn_df['分析項'] = rn_df['分析項'].replace({'鋅' : 'Zn'})\n",
    "rn_df['分析項'] = rn_df['分析項'].replace({'鈉' : 'Na'})\n",
    "rn_df['分析項'] = rn_df['分析項'].replace({'鉀' : 'K'})\n",
    "rn_df['分析項'] = rn_df['分析項'].replace({'銅' : 'others'})\n",
    "rn_df['分析項'] = rn_df['分析項'].replace({'錳' : 'others'})"
   ]
  },
  {
   "cell_type": "code",
   "execution_count": 69,
   "metadata": {},
   "outputs": [],
   "source": [
    "rn_df.drop('分析項分類', inplace=True, axis=1)"
   ]
  },
  {
   "cell_type": "code",
   "execution_count": 70,
   "metadata": {},
   "outputs": [
    {
     "data": {
      "text/plain": [
       "array(['carbohydrate', 'protein', 'fat', 'others', 'nicotine', 'Ca', 'Na',\n",
       "       'K', 'vitaminA', 'vitaminB1', 'vitaminB2', 'vitaminB6', 'vitaminC',\n",
       "       'vitaminE', 'Zn', 'P', 'Mg', 'Fe'], dtype=object)"
      ]
     },
     "execution_count": 70,
     "metadata": {},
     "output_type": "execute_result"
    }
   ],
   "source": [
    "rn_df['分析項'].unique()"
   ]
  },
  {
   "cell_type": "code",
   "execution_count": 71,
   "metadata": {},
   "outputs": [],
   "source": [
    "rm_col = rn_df.columns.tolist()\n",
    "rm_col.remove('樣品名稱')\n",
    "rm_col.remove('分析項')\n",
    "rm_col.remove('含量單位')\n",
    "rm_col.remove('每單位含量')\n",
    "en_rf = rn_df.drop(rm_col, axis=1)"
   ]
  },
  {
   "cell_type": "code",
   "execution_count": 72,
   "metadata": {},
   "outputs": [],
   "source": [
    "df = pd.DataFrame({\n",
    "    'Serial_number' : [1,2,3,4,5,6,7,8,9,10,11,12,13,14,15,16,17,18],\n",
    "    'Gender': ['male','male','male','male','male','male','male','male','male','female','female','female','female','female','female','female','female','female'],\n",
    "    'Age': ['<1','1-6','7-12','13-15','16-18','19-44','45-64','65-74','75+','<1','1-6','7-12','13-15','16-18','19-44','45-64','65-74','75+'],\n",
    "    'Numbers_of_people' : [43,737,875,442,393,945,959,854,477,48,709,880,429,394,969,985,893,456],\n",
    "    'Calorie' : [704.77,1476.39,2061.49,2280.52,2298.29,2471.06,2370.58,2051.02,1817.31,645.26,1318.07,1781.29,1732.94,1852.11,1844.32,1752.28,1613.88,1398.62],\n",
    "    'Protein' : [16.43,58.33,85.99,94.42,97.05,102.70,98.42,85.32,73.84,16.17,51.68,71.85,68.45,78.84,79.60,75.87,67.35,59.06],\n",
    "    'Fat' : [30.05,53.30,75.68,85.39,89.46,94.50,83.24,67.63,58.08,30.10,48.22,66.89,63.56,72.56,72.69,64.54,54.04,45.93],\n",
    "    'Carbohydrate' : [92.81,193.54,262.51,286.22,277.97,291.48,288.91,266.46,247.87,78.38,171.80,225.94,224.57,223.68,219.77,219.64,218.92,189.45],\n",
    "    'VitaminB1' : [0.72,1.07,1.46,1.65,1.64,1.63,1.63,1.44,1.29,0.59,0.95,1.26,1.14,1.31,1.25,1.25,1.21,1.08],\n",
    "    'VitaminB2' : [1.12,1.28,1.40,1.41,1.38,1.52,1.46,1.30,1.29,1.06,1.18,1.18,1.12,1.36,1.26,1.26,1.17,1.07],\n",
    "    'VitaminC' : [80.25,86.17,117.37,118.76,118.10,135.97,182.63,189.34,151.70,70.36,88.58,102.57,95.51,105.66,123.39,187.03,174.75,145.66],\n",
    "    'Nicotine' : [6.69,12.45,17.38,19.95,20.32,22.93,21.77,18.58,16.32,5.43,11.02,15.01,14.23,15.79,17.18,17.24,14.60,12.02],\n",
    "    'VitaminB6' : [0.61,1.27,1.80,2.01,2.00,2.31,2.35,2.22,1.99,0.52,1.13,1.50,1.47,1.66,1.76,1.97,1.80,1.54],\n",
    "    'VitaminA' : [696.74,602.07,688.08,686.71,626.45,695.35,904.46,958.28,915.16,655.31,589.04,587.83,531.49,622.27,646.38,852.50,1031.09,993.31],\n",
    "    'VitaminE' : [7.43,7.06,8.62,9.69,10.03,10.29,9.90,9.44,8.68,6.18,6.71,7.83,7.27,8.13,8.61,9.04,8.72,7.39],\n",
    "    'Ca' : [452.09,567.77,524.23,482.96,531.39,530.33,575.74,594.82,595.58,459.46,530.95,435.07,426.14,466.02,479.68,557.50,560.21,522.26],\n",
    "    'P' : [314.84,926.78,1224.06,1300.79,1330.00,1398.91,1400.90,1263.98,1147.84,314.76,836.09,1031.43,978.76,1104.48,1116.59,1109.06,1054.49,918.02],\n",
    "    'Fe' : [7.57,10.03,13.92,15.54,14.67,16.56,17.54,15.59,13.74,5.74,9.31,11.66,11.59,13.17,13.12,14.51,13.89,12.28],\n",
    "    'Mg' : [76.00,187.64,248.12,261.71,265.21,296.95,342.35,342.12,302.15,68.39,169.51,212.20,200.78,227.67,244.02,292.61,307.23,247.18],\n",
    "    'Zn' : [6.02,8.75,11.87,13.00,12.89,13.88,14.11,12.96,11.20,4.96,7.55,9.67,9.46,11.03,10.58,10.80,10.32,9.78],\n",
    "    'Na' : [245.35,1980.33,3364.69,3743.90,3749.62,4140.41,3563.29,2979.81,2557.96,252.06,1855.28,2839.04,2837.79,3016.81,3196.05,2803.28,2351.99,2194.12],\n",
    "    'K' : [757.37,1758.48,2322.66,2408.84,2332.97,2665.89,3007.36,3016.00,2681.86,782.08,1619.22,1991.35,1865.73,2096.43,2287.28,2701.78,2684.74,2159.99]\n",
    "    }\n",
    "    )"
   ]
  },
  {
   "cell_type": "code",
   "execution_count": 73,
   "metadata": {},
   "outputs": [
    {
     "data": {
      "text/plain": [
       "Index(['樣品名稱', '分析項', '含量單位', '每單位含量'], dtype='object')"
      ]
     },
     "execution_count": 73,
     "metadata": {},
     "output_type": "execute_result"
    }
   ],
   "source": [
    "en_rf.columns"
   ]
  },
  {
   "cell_type": "code",
   "execution_count": 74,
   "metadata": {},
   "outputs": [],
   "source": [
    "en_rf.rename(columns = {'樣品名稱':'Name', '分析項':'Analysis_item', '含量單位':'Unit', '每單位含量':'Content_per_unit'}, inplace = True)"
   ]
  },
  {
   "cell_type": "code",
   "execution_count": 75,
   "metadata": {},
   "outputs": [
    {
     "data": {
      "text/plain": [
       "Index(['Name', 'Analysis_item', 'Unit', 'Content_per_unit'], dtype='object')"
      ]
     },
     "execution_count": 75,
     "metadata": {},
     "output_type": "execute_result"
    }
   ],
   "source": [
    "en_rf.columns"
   ]
  },
  {
   "cell_type": "code",
   "execution_count": 76,
   "metadata": {},
   "outputs": [
    {
     "data": {
      "text/plain": [
       "array(['carbohydrate', 'protein', 'fat', 'others', 'nicotine', 'Ca', 'Na',\n",
       "       'K', 'vitaminA', 'vitaminB1', 'vitaminB2', 'vitaminB6', 'vitaminC',\n",
       "       'vitaminE', 'Zn', 'P', 'Mg', 'Fe'], dtype=object)"
      ]
     },
     "execution_count": 76,
     "metadata": {},
     "output_type": "execute_result"
    }
   ],
   "source": [
    "en_rf['Analysis_item'].unique()"
   ]
  },
  {
   "attachments": {},
   "cell_type": "markdown",
   "metadata": {},
   "source": [
    "### nicotine"
   ]
  },
  {
   "cell_type": "code",
   "execution_count": 77,
   "metadata": {},
   "outputs": [
    {
     "data": {
      "text/plain": [
       "array(['mg'], dtype=object)"
      ]
     },
     "execution_count": 77,
     "metadata": {},
     "output_type": "execute_result"
    }
   ],
   "source": [
    "mask = en_rf['Analysis_item'] == 'nicotine'\n",
    "tmp = en_rf[mask]\n",
    "tmp['Unit'].unique()"
   ]
  },
  {
   "attachments": {},
   "cell_type": "markdown",
   "metadata": {},
   "source": [
    "### change fat unit from mg to g"
   ]
  },
  {
   "cell_type": "code",
   "execution_count": 78,
   "metadata": {},
   "outputs": [],
   "source": [
    "# Assuming your dataframe is named df\n",
    "condition = (en_rf['Unit'] == 'mg') & (en_rf['Analysis_item'] == 'fat')\n",
    "filtered_df = en_rf[condition].copy()\n",
    "\n",
    "# Divide 'Content_per_unit' by 10000 and change 'Unit' to 'g'\n",
    "filtered_df['Content_per_unit'] = filtered_df['Content_per_unit'] / 1000\n",
    "filtered_df['Unit'] = 'g'\n",
    "\n",
    "# Update the original dataframe with the modified rows\n",
    "en_rf.update(filtered_df)"
   ]
  },
  {
   "attachments": {},
   "cell_type": "markdown",
   "metadata": {},
   "source": [
    "### change protein unit from mg to g"
   ]
  },
  {
   "cell_type": "code",
   "execution_count": 79,
   "metadata": {},
   "outputs": [
    {
     "data": {
      "text/plain": [
       "array(['mg', 'g'], dtype=object)"
      ]
     },
     "execution_count": 79,
     "metadata": {},
     "output_type": "execute_result"
    }
   ],
   "source": [
    "mask = en_rf['Analysis_item'] == 'protein'\n",
    "tmp = en_rf[mask]\n",
    "tmp['Unit'].unique()"
   ]
  },
  {
   "cell_type": "code",
   "execution_count": 80,
   "metadata": {},
   "outputs": [],
   "source": [
    "# Assuming your dataframe is named df\n",
    "condition = (en_rf['Unit'] == 'mg') & (en_rf['Analysis_item'] == 'protein')\n",
    "filtered_df = en_rf[condition].copy()\n",
    "\n",
    "# Divide 'Content_per_unit' by 10000 and change 'Unit' to 'g'\n",
    "filtered_df['Content_per_unit'] = filtered_df['Content_per_unit'] / 1000\n",
    "filtered_df['Unit'] = 'g'\n",
    "\n",
    "# Update the original dataframe with the modified rows\n",
    "en_rf.update(filtered_df)"
   ]
  },
  {
   "attachments": {},
   "cell_type": "markdown",
   "metadata": {},
   "source": [
    "### change 醣類(Carbohydrate) unit , no need to change "
   ]
  },
  {
   "cell_type": "code",
   "execution_count": 81,
   "metadata": {},
   "outputs": [
    {
     "data": {
      "text/plain": [
       "array(['g'], dtype=object)"
      ]
     },
     "execution_count": 81,
     "metadata": {},
     "output_type": "execute_result"
    }
   ],
   "source": [
    "mask = en_rf['Analysis_item'] == 'carbohydrate'\n",
    "tmp = en_rf[mask]\n",
    "tmp['Unit'].unique()"
   ]
  },
  {
   "attachments": {},
   "cell_type": "markdown",
   "metadata": {},
   "source": [
    "### vitaminB1"
   ]
  },
  {
   "cell_type": "code",
   "execution_count": 82,
   "metadata": {},
   "outputs": [
    {
     "data": {
      "text/plain": [
       "array(['mg'], dtype=object)"
      ]
     },
     "execution_count": 82,
     "metadata": {},
     "output_type": "execute_result"
    }
   ],
   "source": [
    "mask = en_rf['Analysis_item'] == 'vitaminB1'\n",
    "tmp = en_rf[mask]\n",
    "tmp['Unit'].unique()"
   ]
  },
  {
   "attachments": {},
   "cell_type": "markdown",
   "metadata": {},
   "source": [
    "### vitaminB2"
   ]
  },
  {
   "cell_type": "code",
   "execution_count": 83,
   "metadata": {},
   "outputs": [
    {
     "data": {
      "text/plain": [
       "array(['mg'], dtype=object)"
      ]
     },
     "execution_count": 83,
     "metadata": {},
     "output_type": "execute_result"
    }
   ],
   "source": [
    "mask = en_rf['Analysis_item'] == 'vitaminB2'\n",
    "tmp = en_rf[mask]\n",
    "tmp['Unit'].unique()"
   ]
  },
  {
   "attachments": {},
   "cell_type": "markdown",
   "metadata": {},
   "source": [
    "### vitaminC"
   ]
  },
  {
   "cell_type": "code",
   "execution_count": 84,
   "metadata": {},
   "outputs": [
    {
     "data": {
      "text/plain": [
       "array(['mg'], dtype=object)"
      ]
     },
     "execution_count": 84,
     "metadata": {},
     "output_type": "execute_result"
    }
   ],
   "source": [
    "mask = en_rf['Analysis_item'] == 'vitaminC'\n",
    "tmp = en_rf[mask]\n",
    "tmp['Unit'].unique()"
   ]
  },
  {
   "attachments": {},
   "cell_type": "markdown",
   "metadata": {},
   "source": [
    "### vitaminB6"
   ]
  },
  {
   "cell_type": "code",
   "execution_count": 85,
   "metadata": {},
   "outputs": [
    {
     "data": {
      "text/plain": [
       "array(['mg'], dtype=object)"
      ]
     },
     "execution_count": 85,
     "metadata": {},
     "output_type": "execute_result"
    }
   ],
   "source": [
    "mask = en_rf['Analysis_item'] == 'vitaminB6'\n",
    "tmp = en_rf[mask]\n",
    "tmp['Unit'].unique()"
   ]
  },
  {
   "attachments": {},
   "cell_type": "markdown",
   "metadata": {},
   "source": [
    "### vitaminA, change from 1I.U. to o.3 ug"
   ]
  },
  {
   "cell_type": "code",
   "execution_count": 86,
   "metadata": {},
   "outputs": [
    {
     "data": {
      "text/plain": [
       "array(['I.U.', 'ug'], dtype=object)"
      ]
     },
     "execution_count": 86,
     "metadata": {},
     "output_type": "execute_result"
    }
   ],
   "source": [
    "mask = en_rf['Analysis_item'] == 'vitaminA'\n",
    "tmp = en_rf[mask]\n",
    "tmp['Unit'].unique()"
   ]
  },
  {
   "cell_type": "code",
   "execution_count": 87,
   "metadata": {},
   "outputs": [],
   "source": [
    "# Assuming your dataframe is named df\n",
    "condition = (en_rf['Unit'] == 'I.U.') & (en_rf['Analysis_item'] == 'vitaminA')\n",
    "filtered_df = en_rf[condition].copy()\n",
    "\n",
    "# Divide 'Content_per_unit' by 10000 and change 'Unit' to 'g'\n",
    "filtered_df['Content_per_unit'] = filtered_df['Content_per_unit'] * 0.3\n",
    "filtered_df['Unit'] = 'ug'\n",
    "\n",
    "# Update the original dataframe with the modified rows\n",
    "en_rf.update(filtered_df)"
   ]
  },
  {
   "attachments": {},
   "cell_type": "markdown",
   "metadata": {},
   "source": [
    "### vitaminE"
   ]
  },
  {
   "cell_type": "code",
   "execution_count": 88,
   "metadata": {},
   "outputs": [
    {
     "data": {
      "text/plain": [
       "array(['mg'], dtype=object)"
      ]
     },
     "execution_count": 88,
     "metadata": {},
     "output_type": "execute_result"
    }
   ],
   "source": [
    "mask = en_rf['Analysis_item'] == 'vitaminE'\n",
    "tmp = en_rf[mask]\n",
    "tmp['Unit'].unique()"
   ]
  },
  {
   "attachments": {},
   "cell_type": "markdown",
   "metadata": {},
   "source": [
    "### Ca"
   ]
  },
  {
   "cell_type": "code",
   "execution_count": 89,
   "metadata": {},
   "outputs": [
    {
     "data": {
      "text/plain": [
       "array(['mg'], dtype=object)"
      ]
     },
     "execution_count": 89,
     "metadata": {},
     "output_type": "execute_result"
    }
   ],
   "source": [
    "mask = en_rf['Analysis_item'] == 'Ca'\n",
    "tmp = en_rf[mask]\n",
    "tmp['Unit'].unique()"
   ]
  },
  {
   "attachments": {},
   "cell_type": "markdown",
   "metadata": {},
   "source": [
    "### P"
   ]
  },
  {
   "cell_type": "code",
   "execution_count": 90,
   "metadata": {},
   "outputs": [
    {
     "data": {
      "text/plain": [
       "array(['mg'], dtype=object)"
      ]
     },
     "execution_count": 90,
     "metadata": {},
     "output_type": "execute_result"
    }
   ],
   "source": [
    "mask = en_rf['Analysis_item'] == 'P'\n",
    "tmp = en_rf[mask]\n",
    "tmp['Unit'].unique()"
   ]
  },
  {
   "attachments": {},
   "cell_type": "markdown",
   "metadata": {},
   "source": [
    "### Mg"
   ]
  },
  {
   "cell_type": "code",
   "execution_count": 91,
   "metadata": {},
   "outputs": [
    {
     "data": {
      "text/plain": [
       "array(['mg'], dtype=object)"
      ]
     },
     "execution_count": 91,
     "metadata": {},
     "output_type": "execute_result"
    }
   ],
   "source": [
    "mask = en_rf['Analysis_item'] == 'Mg'\n",
    "tmp = en_rf[mask]\n",
    "tmp['Unit'].unique()"
   ]
  },
  {
   "attachments": {},
   "cell_type": "markdown",
   "metadata": {},
   "source": [
    "### Zn"
   ]
  },
  {
   "cell_type": "code",
   "execution_count": 92,
   "metadata": {},
   "outputs": [
    {
     "data": {
      "text/plain": [
       "array(['mg'], dtype=object)"
      ]
     },
     "execution_count": 92,
     "metadata": {},
     "output_type": "execute_result"
    }
   ],
   "source": [
    "mask = en_rf['Analysis_item'] == 'Zn'\n",
    "tmp = en_rf[mask]\n",
    "tmp['Unit'].unique()"
   ]
  },
  {
   "attachments": {},
   "cell_type": "markdown",
   "metadata": {},
   "source": [
    "### Na"
   ]
  },
  {
   "cell_type": "code",
   "execution_count": 93,
   "metadata": {},
   "outputs": [
    {
     "data": {
      "text/plain": [
       "array(['mg'], dtype=object)"
      ]
     },
     "execution_count": 93,
     "metadata": {},
     "output_type": "execute_result"
    }
   ],
   "source": [
    "mask = en_rf['Analysis_item'] == 'Na'\n",
    "tmp = en_rf[mask]\n",
    "tmp['Unit'].unique()"
   ]
  },
  {
   "attachments": {},
   "cell_type": "markdown",
   "metadata": {},
   "source": [
    "### K"
   ]
  },
  {
   "cell_type": "code",
   "execution_count": 94,
   "metadata": {},
   "outputs": [
    {
     "data": {
      "text/plain": [
       "array(['mg'], dtype=object)"
      ]
     },
     "execution_count": 94,
     "metadata": {},
     "output_type": "execute_result"
    }
   ],
   "source": [
    "mask = en_rf['Analysis_item'] == 'K'\n",
    "tmp = en_rf[mask]\n",
    "tmp['Unit'].unique()"
   ]
  },
  {
   "attachments": {},
   "cell_type": "markdown",
   "metadata": {},
   "source": [
    "### merge rows with same analysis_item"
   ]
  },
  {
   "cell_type": "code",
   "execution_count": 95,
   "metadata": {},
   "outputs": [
    {
     "data": {
      "text/plain": [
       "Index(['Name', 'Analysis_item', 'Unit', 'Content_per_unit'], dtype='object')"
      ]
     },
     "execution_count": 95,
     "metadata": {},
     "output_type": "execute_result"
    }
   ],
   "source": [
    "en_rf.columns"
   ]
  },
  {
   "cell_type": "code",
   "execution_count": 96,
   "metadata": {},
   "outputs": [
    {
     "data": {
      "text/plain": [
       "array(['carbohydrate', 'protein', 'fat', 'others', 'nicotine', 'Ca', 'Na',\n",
       "       'K', 'vitaminA', 'vitaminB1', 'vitaminB2', 'vitaminB6', 'vitaminC',\n",
       "       'vitaminE', 'Zn', 'P', 'Mg', 'Fe'], dtype=object)"
      ]
     },
     "execution_count": 96,
     "metadata": {},
     "output_type": "execute_result"
    }
   ],
   "source": [
    "en_rf['Analysis_item'].unique()"
   ]
  },
  {
   "attachments": {},
   "cell_type": "markdown",
   "metadata": {},
   "source": [
    "### merge same analysis_item"
   ]
  },
  {
   "cell_type": "code",
   "execution_count": 97,
   "metadata": {},
   "outputs": [
    {
     "data": {
      "text/html": [
       "<div>\n",
       "<style scoped>\n",
       "    .dataframe tbody tr th:only-of-type {\n",
       "        vertical-align: middle;\n",
       "    }\n",
       "\n",
       "    .dataframe tbody tr th {\n",
       "        vertical-align: top;\n",
       "    }\n",
       "\n",
       "    .dataframe thead th {\n",
       "        text-align: right;\n",
       "    }\n",
       "</style>\n",
       "<table border=\"1\" class=\"dataframe\">\n",
       "  <thead>\n",
       "    <tr style=\"text-align: right;\">\n",
       "      <th></th>\n",
       "      <th>Name</th>\n",
       "      <th>Analysis_item</th>\n",
       "      <th>Content_per_unit</th>\n",
       "      <th>Unit</th>\n",
       "    </tr>\n",
       "  </thead>\n",
       "  <tbody>\n",
       "    <tr>\n",
       "      <th>0</th>\n",
       "      <td>DHA豆奶</td>\n",
       "      <td>Ca</td>\n",
       "      <td>24.00</td>\n",
       "      <td>mg</td>\n",
       "    </tr>\n",
       "    <tr>\n",
       "      <th>1</th>\n",
       "      <td>DHA豆奶</td>\n",
       "      <td>Fe</td>\n",
       "      <td>0.20</td>\n",
       "      <td>mg</td>\n",
       "    </tr>\n",
       "    <tr>\n",
       "      <th>2</th>\n",
       "      <td>DHA豆奶</td>\n",
       "      <td>K</td>\n",
       "      <td>85.00</td>\n",
       "      <td>mg</td>\n",
       "    </tr>\n",
       "    <tr>\n",
       "      <th>3</th>\n",
       "      <td>DHA豆奶</td>\n",
       "      <td>Mg</td>\n",
       "      <td>8.00</td>\n",
       "      <td>mg</td>\n",
       "    </tr>\n",
       "    <tr>\n",
       "      <th>4</th>\n",
       "      <td>DHA豆奶</td>\n",
       "      <td>Na</td>\n",
       "      <td>34.00</td>\n",
       "      <td>mg</td>\n",
       "    </tr>\n",
       "    <tr>\n",
       "      <th>...</th>\n",
       "      <td>...</td>\n",
       "      <td>...</td>\n",
       "      <td>...</td>\n",
       "      <td>...</td>\n",
       "    </tr>\n",
       "    <tr>\n",
       "      <th>38875</th>\n",
       "      <td>龜苓茶</td>\n",
       "      <td>vitaminB1</td>\n",
       "      <td>0.00</td>\n",
       "      <td>mg</td>\n",
       "    </tr>\n",
       "    <tr>\n",
       "      <th>38876</th>\n",
       "      <td>龜苓茶</td>\n",
       "      <td>vitaminB2</td>\n",
       "      <td>0.00</td>\n",
       "      <td>mg</td>\n",
       "    </tr>\n",
       "    <tr>\n",
       "      <th>38877</th>\n",
       "      <td>龜苓茶</td>\n",
       "      <td>vitaminB6</td>\n",
       "      <td>0.01</td>\n",
       "      <td>mg</td>\n",
       "    </tr>\n",
       "    <tr>\n",
       "      <th>38878</th>\n",
       "      <td>龜苓茶</td>\n",
       "      <td>vitaminC</td>\n",
       "      <td>0.00</td>\n",
       "      <td>mg</td>\n",
       "    </tr>\n",
       "    <tr>\n",
       "      <th>38879</th>\n",
       "      <td>龜苓茶</td>\n",
       "      <td>vitaminE</td>\n",
       "      <td>0.00</td>\n",
       "      <td>mg</td>\n",
       "    </tr>\n",
       "  </tbody>\n",
       "</table>\n",
       "<p>38880 rows × 4 columns</p>\n",
       "</div>"
      ],
      "text/plain": [
       "        Name Analysis_item  Content_per_unit Unit\n",
       "0      DHA豆奶            Ca             24.00   mg\n",
       "1      DHA豆奶            Fe              0.20   mg\n",
       "2      DHA豆奶             K             85.00   mg\n",
       "3      DHA豆奶            Mg              8.00   mg\n",
       "4      DHA豆奶            Na             34.00   mg\n",
       "...      ...           ...               ...  ...\n",
       "38875    龜苓茶     vitaminB1              0.00   mg\n",
       "38876    龜苓茶     vitaminB2              0.00   mg\n",
       "38877    龜苓茶     vitaminB6              0.01   mg\n",
       "38878    龜苓茶      vitaminC              0.00   mg\n",
       "38879    龜苓茶      vitaminE              0.00   mg\n",
       "\n",
       "[38880 rows x 4 columns]"
      ]
     },
     "execution_count": 97,
     "metadata": {},
     "output_type": "execute_result"
    }
   ],
   "source": [
    "result = en_rf.groupby(['Name', 'Analysis_item']).agg({'Content_per_unit': 'sum', 'Unit': 'first'}).reset_index()\n",
    "result"
   ]
  },
  {
   "cell_type": "code",
   "execution_count": 98,
   "metadata": {},
   "outputs": [],
   "source": [
    "en_rf = result"
   ]
  },
  {
   "cell_type": "code",
   "execution_count": 99,
   "metadata": {},
   "outputs": [],
   "source": [
    "en_rf.to_csv('everyday_nutrition.csv')"
   ]
  },
  {
   "cell_type": "code",
   "execution_count": 100,
   "metadata": {},
   "outputs": [
    {
     "data": {
      "text/plain": [
       "38880"
      ]
     },
     "execution_count": 100,
     "metadata": {},
     "output_type": "execute_result"
    }
   ],
   "source": [
    "from sqlalchemy import create_engine\n",
    "\n",
    "engine = create_engine('mysql+pymysql://root:@localhost:3306/DailyNutriPlanner', echo = False)\n",
    "en_rf.to_sql(name = 'everyday_nutrition', con = engine, if_exists = 'replace', index = False)"
   ]
  },
  {
   "cell_type": "code",
   "execution_count": 101,
   "metadata": {},
   "outputs": [],
   "source": [
    "food = rn_df[['整合編號','樣品名稱','俗名','樣品英文名稱','內容物描述']]"
   ]
  },
  {
   "cell_type": "code",
   "execution_count": 102,
   "metadata": {},
   "outputs": [
    {
     "data": {
      "text/html": [
       "<div>\n",
       "<style scoped>\n",
       "    .dataframe tbody tr th:only-of-type {\n",
       "        vertical-align: middle;\n",
       "    }\n",
       "\n",
       "    .dataframe tbody tr th {\n",
       "        vertical-align: top;\n",
       "    }\n",
       "\n",
       "    .dataframe thead th {\n",
       "        text-align: right;\n",
       "    }\n",
       "</style>\n",
       "<table border=\"1\" class=\"dataframe\">\n",
       "  <thead>\n",
       "    <tr style=\"text-align: right;\">\n",
       "      <th></th>\n",
       "      <th>整合編號</th>\n",
       "      <th>樣品名稱</th>\n",
       "      <th>俗名</th>\n",
       "      <th>樣品英文名稱</th>\n",
       "      <th>內容物描述</th>\n",
       "    </tr>\n",
       "  </thead>\n",
       "  <tbody>\n",
       "    <tr>\n",
       "      <th>0</th>\n",
       "      <td>R2300301</td>\n",
       "      <td>冷凍芋泥包</td>\n",
       "      <td>NaN</td>\n",
       "      <td>Taro paste bun</td>\n",
       "      <td>冷凍包裝,混合均勻打碎(麵粉,芋頭等)</td>\n",
       "    </tr>\n",
       "    <tr>\n",
       "      <th>1</th>\n",
       "      <td>R2300301</td>\n",
       "      <td>冷凍芋泥包</td>\n",
       "      <td>NaN</td>\n",
       "      <td>Taro paste bun</td>\n",
       "      <td>冷凍包裝,混合均勻打碎(麵粉,芋頭等)</td>\n",
       "    </tr>\n",
       "    <tr>\n",
       "      <th>2</th>\n",
       "      <td>R2300301</td>\n",
       "      <td>冷凍芋泥包</td>\n",
       "      <td>NaN</td>\n",
       "      <td>Taro paste bun</td>\n",
       "      <td>冷凍包裝,混合均勻打碎(麵粉,芋頭等)</td>\n",
       "    </tr>\n",
       "    <tr>\n",
       "      <th>3</th>\n",
       "      <td>R2300301</td>\n",
       "      <td>冷凍芋泥包</td>\n",
       "      <td>NaN</td>\n",
       "      <td>Taro paste bun</td>\n",
       "      <td>冷凍包裝,混合均勻打碎(麵粉,芋頭等)</td>\n",
       "    </tr>\n",
       "    <tr>\n",
       "      <th>4</th>\n",
       "      <td>R2300301</td>\n",
       "      <td>冷凍芋泥包</td>\n",
       "      <td>NaN</td>\n",
       "      <td>Taro paste bun</td>\n",
       "      <td>冷凍包裝,混合均勻打碎(麵粉,芋頭等)</td>\n",
       "    </tr>\n",
       "    <tr>\n",
       "      <th>...</th>\n",
       "      <td>...</td>\n",
       "      <td>...</td>\n",
       "      <td>...</td>\n",
       "      <td>...</td>\n",
       "      <td>...</td>\n",
       "    </tr>\n",
       "    <tr>\n",
       "      <th>224739</th>\n",
       "      <td>J0401801</td>\n",
       "      <td>斑海鯰</td>\n",
       "      <td>成仔魚,成仔丁,銀成,白肉成,臭臊成,生仔魚,鰻鯰,賓士魚</td>\n",
       "      <td>Sea barbel; Sea catfish; Spotted catfish; Spot...</td>\n",
       "      <td>生,去鱗,含皮,去頭尾,去內臟及骨刺,混合均勻打碎</td>\n",
       "    </tr>\n",
       "    <tr>\n",
       "      <th>224740</th>\n",
       "      <td>J0401801</td>\n",
       "      <td>斑海鯰</td>\n",
       "      <td>成仔魚,成仔丁,銀成,白肉成,臭臊成,生仔魚,鰻鯰,賓士魚</td>\n",
       "      <td>Sea barbel; Sea catfish; Spotted catfish; Spot...</td>\n",
       "      <td>生,去鱗,含皮,去頭尾,去內臟及骨刺,混合均勻打碎</td>\n",
       "    </tr>\n",
       "    <tr>\n",
       "      <th>224741</th>\n",
       "      <td>J0401801</td>\n",
       "      <td>斑海鯰</td>\n",
       "      <td>成仔魚,成仔丁,銀成,白肉成,臭臊成,生仔魚,鰻鯰,賓士魚</td>\n",
       "      <td>Sea barbel; Sea catfish; Spotted catfish; Spot...</td>\n",
       "      <td>生,去鱗,含皮,去頭尾,去內臟及骨刺,混合均勻打碎</td>\n",
       "    </tr>\n",
       "    <tr>\n",
       "      <th>224742</th>\n",
       "      <td>J0401801</td>\n",
       "      <td>斑海鯰</td>\n",
       "      <td>成仔魚,成仔丁,銀成,白肉成,臭臊成,生仔魚,鰻鯰,賓士魚</td>\n",
       "      <td>Sea barbel; Sea catfish; Spotted catfish; Spot...</td>\n",
       "      <td>生,去鱗,含皮,去頭尾,去內臟及骨刺,混合均勻打碎</td>\n",
       "    </tr>\n",
       "    <tr>\n",
       "      <th>224743</th>\n",
       "      <td>J0401801</td>\n",
       "      <td>斑海鯰</td>\n",
       "      <td>成仔魚,成仔丁,銀成,白肉成,臭臊成,生仔魚,鰻鯰,賓士魚</td>\n",
       "      <td>Sea barbel; Sea catfish; Spotted catfish; Spot...</td>\n",
       "      <td>生,去鱗,含皮,去頭尾,去內臟及骨刺,混合均勻打碎</td>\n",
       "    </tr>\n",
       "  </tbody>\n",
       "</table>\n",
       "<p>224744 rows × 5 columns</p>\n",
       "</div>"
      ],
      "text/plain": [
       "            整合編號   樣品名稱                             俗名  \\\n",
       "0       R2300301  冷凍芋泥包                            NaN   \n",
       "1       R2300301  冷凍芋泥包                            NaN   \n",
       "2       R2300301  冷凍芋泥包                            NaN   \n",
       "3       R2300301  冷凍芋泥包                            NaN   \n",
       "4       R2300301  冷凍芋泥包                            NaN   \n",
       "...          ...    ...                            ...   \n",
       "224739  J0401801    斑海鯰  成仔魚,成仔丁,銀成,白肉成,臭臊成,生仔魚,鰻鯰,賓士魚   \n",
       "224740  J0401801    斑海鯰  成仔魚,成仔丁,銀成,白肉成,臭臊成,生仔魚,鰻鯰,賓士魚   \n",
       "224741  J0401801    斑海鯰  成仔魚,成仔丁,銀成,白肉成,臭臊成,生仔魚,鰻鯰,賓士魚   \n",
       "224742  J0401801    斑海鯰  成仔魚,成仔丁,銀成,白肉成,臭臊成,生仔魚,鰻鯰,賓士魚   \n",
       "224743  J0401801    斑海鯰  成仔魚,成仔丁,銀成,白肉成,臭臊成,生仔魚,鰻鯰,賓士魚   \n",
       "\n",
       "                                                   樣品英文名稱  \\\n",
       "0                                          Taro paste bun   \n",
       "1                                          Taro paste bun   \n",
       "2                                          Taro paste bun   \n",
       "3                                          Taro paste bun   \n",
       "4                                          Taro paste bun   \n",
       "...                                                   ...   \n",
       "224739  Sea barbel; Sea catfish; Spotted catfish; Spot...   \n",
       "224740  Sea barbel; Sea catfish; Spotted catfish; Spot...   \n",
       "224741  Sea barbel; Sea catfish; Spotted catfish; Spot...   \n",
       "224742  Sea barbel; Sea catfish; Spotted catfish; Spot...   \n",
       "224743  Sea barbel; Sea catfish; Spotted catfish; Spot...   \n",
       "\n",
       "                            內容物描述  \n",
       "0             冷凍包裝,混合均勻打碎(麵粉,芋頭等)  \n",
       "1             冷凍包裝,混合均勻打碎(麵粉,芋頭等)  \n",
       "2             冷凍包裝,混合均勻打碎(麵粉,芋頭等)  \n",
       "3             冷凍包裝,混合均勻打碎(麵粉,芋頭等)  \n",
       "4             冷凍包裝,混合均勻打碎(麵粉,芋頭等)  \n",
       "...                           ...  \n",
       "224739  生,去鱗,含皮,去頭尾,去內臟及骨刺,混合均勻打碎  \n",
       "224740  生,去鱗,含皮,去頭尾,去內臟及骨刺,混合均勻打碎  \n",
       "224741  生,去鱗,含皮,去頭尾,去內臟及骨刺,混合均勻打碎  \n",
       "224742  生,去鱗,含皮,去頭尾,去內臟及骨刺,混合均勻打碎  \n",
       "224743  生,去鱗,含皮,去頭尾,去內臟及骨刺,混合均勻打碎  \n",
       "\n",
       "[224744 rows x 5 columns]"
      ]
     },
     "execution_count": 102,
     "metadata": {},
     "output_type": "execute_result"
    }
   ],
   "source": [
    "food"
   ]
  },
  {
   "cell_type": "code",
   "execution_count": 103,
   "metadata": {},
   "outputs": [
    {
     "name": "stderr",
     "output_type": "stream",
     "text": [
      "C:\\Users\\fan51\\AppData\\Local\\Temp\\ipykernel_70620\\747218694.py:1: SettingWithCopyWarning: \n",
      "A value is trying to be set on a copy of a slice from a DataFrame\n",
      "\n",
      "See the caveats in the documentation: https://pandas.pydata.org/pandas-docs/stable/user_guide/indexing.html#returning-a-view-versus-a-copy\n",
      "  food.rename(columns = {'整合編號':'Sno.','樣品名稱':'Name','俗名':'Other_name','樣品英文名稱':'English_name','內容物描述':'Describe'}, inplace = True)\n"
     ]
    }
   ],
   "source": [
    "food.rename(columns = {'整合編號':'Sno.','樣品名稱':'Name','俗名':'Other_name','樣品英文名稱':'English_name','內容物描述':'Describe'}, inplace = True)"
   ]
  },
  {
   "cell_type": "code",
   "execution_count": 104,
   "metadata": {},
   "outputs": [
    {
     "data": {
      "text/html": [
       "<div>\n",
       "<style scoped>\n",
       "    .dataframe tbody tr th:only-of-type {\n",
       "        vertical-align: middle;\n",
       "    }\n",
       "\n",
       "    .dataframe tbody tr th {\n",
       "        vertical-align: top;\n",
       "    }\n",
       "\n",
       "    .dataframe thead th {\n",
       "        text-align: right;\n",
       "    }\n",
       "</style>\n",
       "<table border=\"1\" class=\"dataframe\">\n",
       "  <thead>\n",
       "    <tr style=\"text-align: right;\">\n",
       "      <th></th>\n",
       "      <th>Sno.</th>\n",
       "      <th>Name</th>\n",
       "      <th>Other_name</th>\n",
       "      <th>English_name</th>\n",
       "      <th>Describe</th>\n",
       "    </tr>\n",
       "  </thead>\n",
       "  <tbody>\n",
       "    <tr>\n",
       "      <th>0</th>\n",
       "      <td>R2300301</td>\n",
       "      <td>冷凍芋泥包</td>\n",
       "      <td>NaN</td>\n",
       "      <td>Taro paste bun</td>\n",
       "      <td>冷凍包裝,混合均勻打碎(麵粉,芋頭等)</td>\n",
       "    </tr>\n",
       "    <tr>\n",
       "      <th>1</th>\n",
       "      <td>R2300301</td>\n",
       "      <td>冷凍芋泥包</td>\n",
       "      <td>NaN</td>\n",
       "      <td>Taro paste bun</td>\n",
       "      <td>冷凍包裝,混合均勻打碎(麵粉,芋頭等)</td>\n",
       "    </tr>\n",
       "    <tr>\n",
       "      <th>2</th>\n",
       "      <td>R2300301</td>\n",
       "      <td>冷凍芋泥包</td>\n",
       "      <td>NaN</td>\n",
       "      <td>Taro paste bun</td>\n",
       "      <td>冷凍包裝,混合均勻打碎(麵粉,芋頭等)</td>\n",
       "    </tr>\n",
       "    <tr>\n",
       "      <th>3</th>\n",
       "      <td>R2300301</td>\n",
       "      <td>冷凍芋泥包</td>\n",
       "      <td>NaN</td>\n",
       "      <td>Taro paste bun</td>\n",
       "      <td>冷凍包裝,混合均勻打碎(麵粉,芋頭等)</td>\n",
       "    </tr>\n",
       "    <tr>\n",
       "      <th>4</th>\n",
       "      <td>R2300301</td>\n",
       "      <td>冷凍芋泥包</td>\n",
       "      <td>NaN</td>\n",
       "      <td>Taro paste bun</td>\n",
       "      <td>冷凍包裝,混合均勻打碎(麵粉,芋頭等)</td>\n",
       "    </tr>\n",
       "    <tr>\n",
       "      <th>...</th>\n",
       "      <td>...</td>\n",
       "      <td>...</td>\n",
       "      <td>...</td>\n",
       "      <td>...</td>\n",
       "      <td>...</td>\n",
       "    </tr>\n",
       "    <tr>\n",
       "      <th>224739</th>\n",
       "      <td>J0401801</td>\n",
       "      <td>斑海鯰</td>\n",
       "      <td>成仔魚,成仔丁,銀成,白肉成,臭臊成,生仔魚,鰻鯰,賓士魚</td>\n",
       "      <td>Sea barbel; Sea catfish; Spotted catfish; Spot...</td>\n",
       "      <td>生,去鱗,含皮,去頭尾,去內臟及骨刺,混合均勻打碎</td>\n",
       "    </tr>\n",
       "    <tr>\n",
       "      <th>224740</th>\n",
       "      <td>J0401801</td>\n",
       "      <td>斑海鯰</td>\n",
       "      <td>成仔魚,成仔丁,銀成,白肉成,臭臊成,生仔魚,鰻鯰,賓士魚</td>\n",
       "      <td>Sea barbel; Sea catfish; Spotted catfish; Spot...</td>\n",
       "      <td>生,去鱗,含皮,去頭尾,去內臟及骨刺,混合均勻打碎</td>\n",
       "    </tr>\n",
       "    <tr>\n",
       "      <th>224741</th>\n",
       "      <td>J0401801</td>\n",
       "      <td>斑海鯰</td>\n",
       "      <td>成仔魚,成仔丁,銀成,白肉成,臭臊成,生仔魚,鰻鯰,賓士魚</td>\n",
       "      <td>Sea barbel; Sea catfish; Spotted catfish; Spot...</td>\n",
       "      <td>生,去鱗,含皮,去頭尾,去內臟及骨刺,混合均勻打碎</td>\n",
       "    </tr>\n",
       "    <tr>\n",
       "      <th>224742</th>\n",
       "      <td>J0401801</td>\n",
       "      <td>斑海鯰</td>\n",
       "      <td>成仔魚,成仔丁,銀成,白肉成,臭臊成,生仔魚,鰻鯰,賓士魚</td>\n",
       "      <td>Sea barbel; Sea catfish; Spotted catfish; Spot...</td>\n",
       "      <td>生,去鱗,含皮,去頭尾,去內臟及骨刺,混合均勻打碎</td>\n",
       "    </tr>\n",
       "    <tr>\n",
       "      <th>224743</th>\n",
       "      <td>J0401801</td>\n",
       "      <td>斑海鯰</td>\n",
       "      <td>成仔魚,成仔丁,銀成,白肉成,臭臊成,生仔魚,鰻鯰,賓士魚</td>\n",
       "      <td>Sea barbel; Sea catfish; Spotted catfish; Spot...</td>\n",
       "      <td>生,去鱗,含皮,去頭尾,去內臟及骨刺,混合均勻打碎</td>\n",
       "    </tr>\n",
       "  </tbody>\n",
       "</table>\n",
       "<p>224744 rows × 5 columns</p>\n",
       "</div>"
      ],
      "text/plain": [
       "            Sno.   Name                     Other_name  \\\n",
       "0       R2300301  冷凍芋泥包                            NaN   \n",
       "1       R2300301  冷凍芋泥包                            NaN   \n",
       "2       R2300301  冷凍芋泥包                            NaN   \n",
       "3       R2300301  冷凍芋泥包                            NaN   \n",
       "4       R2300301  冷凍芋泥包                            NaN   \n",
       "...          ...    ...                            ...   \n",
       "224739  J0401801    斑海鯰  成仔魚,成仔丁,銀成,白肉成,臭臊成,生仔魚,鰻鯰,賓士魚   \n",
       "224740  J0401801    斑海鯰  成仔魚,成仔丁,銀成,白肉成,臭臊成,生仔魚,鰻鯰,賓士魚   \n",
       "224741  J0401801    斑海鯰  成仔魚,成仔丁,銀成,白肉成,臭臊成,生仔魚,鰻鯰,賓士魚   \n",
       "224742  J0401801    斑海鯰  成仔魚,成仔丁,銀成,白肉成,臭臊成,生仔魚,鰻鯰,賓士魚   \n",
       "224743  J0401801    斑海鯰  成仔魚,成仔丁,銀成,白肉成,臭臊成,生仔魚,鰻鯰,賓士魚   \n",
       "\n",
       "                                             English_name  \\\n",
       "0                                          Taro paste bun   \n",
       "1                                          Taro paste bun   \n",
       "2                                          Taro paste bun   \n",
       "3                                          Taro paste bun   \n",
       "4                                          Taro paste bun   \n",
       "...                                                   ...   \n",
       "224739  Sea barbel; Sea catfish; Spotted catfish; Spot...   \n",
       "224740  Sea barbel; Sea catfish; Spotted catfish; Spot...   \n",
       "224741  Sea barbel; Sea catfish; Spotted catfish; Spot...   \n",
       "224742  Sea barbel; Sea catfish; Spotted catfish; Spot...   \n",
       "224743  Sea barbel; Sea catfish; Spotted catfish; Spot...   \n",
       "\n",
       "                         Describe  \n",
       "0             冷凍包裝,混合均勻打碎(麵粉,芋頭等)  \n",
       "1             冷凍包裝,混合均勻打碎(麵粉,芋頭等)  \n",
       "2             冷凍包裝,混合均勻打碎(麵粉,芋頭等)  \n",
       "3             冷凍包裝,混合均勻打碎(麵粉,芋頭等)  \n",
       "4             冷凍包裝,混合均勻打碎(麵粉,芋頭等)  \n",
       "...                           ...  \n",
       "224739  生,去鱗,含皮,去頭尾,去內臟及骨刺,混合均勻打碎  \n",
       "224740  生,去鱗,含皮,去頭尾,去內臟及骨刺,混合均勻打碎  \n",
       "224741  生,去鱗,含皮,去頭尾,去內臟及骨刺,混合均勻打碎  \n",
       "224742  生,去鱗,含皮,去頭尾,去內臟及骨刺,混合均勻打碎  \n",
       "224743  生,去鱗,含皮,去頭尾,去內臟及骨刺,混合均勻打碎  \n",
       "\n",
       "[224744 rows x 5 columns]"
      ]
     },
     "execution_count": 104,
     "metadata": {},
     "output_type": "execute_result"
    }
   ],
   "source": [
    "food"
   ]
  },
  {
   "cell_type": "code",
   "execution_count": 105,
   "metadata": {},
   "outputs": [],
   "source": [
    "merged_food = food.drop_duplicates(subset=['Sno.'])"
   ]
  },
  {
   "cell_type": "code",
   "execution_count": 106,
   "metadata": {},
   "outputs": [
    {
     "data": {
      "text/html": [
       "<div>\n",
       "<style scoped>\n",
       "    .dataframe tbody tr th:only-of-type {\n",
       "        vertical-align: middle;\n",
       "    }\n",
       "\n",
       "    .dataframe tbody tr th {\n",
       "        vertical-align: top;\n",
       "    }\n",
       "\n",
       "    .dataframe thead th {\n",
       "        text-align: right;\n",
       "    }\n",
       "</style>\n",
       "<table border=\"1\" class=\"dataframe\">\n",
       "  <thead>\n",
       "    <tr style=\"text-align: right;\">\n",
       "      <th></th>\n",
       "      <th>Sno.</th>\n",
       "      <th>Name</th>\n",
       "      <th>Other_name</th>\n",
       "      <th>English_name</th>\n",
       "      <th>Describe</th>\n",
       "    </tr>\n",
       "  </thead>\n",
       "  <tbody>\n",
       "    <tr>\n",
       "      <th>49779</th>\n",
       "      <td>D4400101</td>\n",
       "      <td>無花果</td>\n",
       "      <td>NaN</td>\n",
       "      <td>Fig</td>\n",
       "      <td>生鮮,去蒂,混合均勻打碎</td>\n",
       "    </tr>\n",
       "    <tr>\n",
       "      <th>141872</th>\n",
       "      <td>Q8100801</td>\n",
       "      <td>無花果</td>\n",
       "      <td>無花果乾</td>\n",
       "      <td>Fig, dried</td>\n",
       "      <td>生,乾貨,混合均勻打碎</td>\n",
       "    </tr>\n",
       "  </tbody>\n",
       "</table>\n",
       "</div>"
      ],
      "text/plain": [
       "            Sno. Name Other_name English_name      Describe\n",
       "49779   D4400101  無花果        NaN          Fig  生鮮,去蒂,混合均勻打碎\n",
       "141872  Q8100801  無花果       無花果乾   Fig, dried   生,乾貨,混合均勻打碎"
      ]
     },
     "execution_count": 106,
     "metadata": {},
     "output_type": "execute_result"
    }
   ],
   "source": [
    "merged_food[merged_food['Name'] == '無花果']"
   ]
  },
  {
   "cell_type": "code",
   "execution_count": 107,
   "metadata": {},
   "outputs": [
    {
     "name": "stderr",
     "output_type": "stream",
     "text": [
      "C:\\Users\\fan51\\AppData\\Local\\Temp\\ipykernel_70620\\2310682170.py:1: SettingWithCopyWarning: \n",
      "A value is trying to be set on a copy of a slice from a DataFrame\n",
      "\n",
      "See the caveats in the documentation: https://pandas.pydata.org/pandas-docs/stable/user_guide/indexing.html#returning-a-view-versus-a-copy\n",
      "  merged_food.loc[141872, 'Name'] = '無花果乾'\n"
     ]
    },
    {
     "data": {
      "text/html": [
       "<div>\n",
       "<style scoped>\n",
       "    .dataframe tbody tr th:only-of-type {\n",
       "        vertical-align: middle;\n",
       "    }\n",
       "\n",
       "    .dataframe tbody tr th {\n",
       "        vertical-align: top;\n",
       "    }\n",
       "\n",
       "    .dataframe thead th {\n",
       "        text-align: right;\n",
       "    }\n",
       "</style>\n",
       "<table border=\"1\" class=\"dataframe\">\n",
       "  <thead>\n",
       "    <tr style=\"text-align: right;\">\n",
       "      <th></th>\n",
       "      <th>Sno.</th>\n",
       "      <th>Name</th>\n",
       "      <th>Other_name</th>\n",
       "      <th>English_name</th>\n",
       "      <th>Describe</th>\n",
       "    </tr>\n",
       "  </thead>\n",
       "  <tbody>\n",
       "    <tr>\n",
       "      <th>0</th>\n",
       "      <td>R2300301</td>\n",
       "      <td>冷凍芋泥包</td>\n",
       "      <td>NaN</td>\n",
       "      <td>Taro paste bun</td>\n",
       "      <td>冷凍包裝,混合均勻打碎(麵粉,芋頭等)</td>\n",
       "    </tr>\n",
       "    <tr>\n",
       "      <th>79</th>\n",
       "      <td>R2300501</td>\n",
       "      <td>冷凍芝麻包</td>\n",
       "      <td>NaN</td>\n",
       "      <td>Sesame bun</td>\n",
       "      <td>冷凍包裝,混合均勻打碎(麵粉,芝麻粉等)</td>\n",
       "    </tr>\n",
       "    <tr>\n",
       "      <th>160</th>\n",
       "      <td>R2100401</td>\n",
       "      <td>擔仔麵</td>\n",
       "      <td>NaN</td>\n",
       "      <td>NaN</td>\n",
       "      <td>熟食,加肉燥不含湯,混合均勻打碎</td>\n",
       "    </tr>\n",
       "    <tr>\n",
       "      <th>253</th>\n",
       "      <td>C2300101</td>\n",
       "      <td>生鮮蓮子</td>\n",
       "      <td>NaN</td>\n",
       "      <td>Lotus nut; Lotus seed</td>\n",
       "      <td>生鮮,混合均勻打碎(蓮子,蓮子心等)</td>\n",
       "    </tr>\n",
       "    <tr>\n",
       "      <th>331</th>\n",
       "      <td>Q4200201</td>\n",
       "      <td>洋芋片</td>\n",
       "      <td>NaN</td>\n",
       "      <td>Potato chips</td>\n",
       "      <td>熟食,混合均勻打碎</td>\n",
       "    </tr>\n",
       "    <tr>\n",
       "      <th>...</th>\n",
       "      <td>...</td>\n",
       "      <td>...</td>\n",
       "      <td>...</td>\n",
       "      <td>...</td>\n",
       "      <td>...</td>\n",
       "    </tr>\n",
       "    <tr>\n",
       "      <th>222869</th>\n",
       "      <td>I0420201</td>\n",
       "      <td>雞尾椎</td>\n",
       "      <td>雞屁股</td>\n",
       "      <td>NaN</td>\n",
       "      <td>生,雞臟器,去骨,混合均勻打碎</td>\n",
       "    </tr>\n",
       "    <tr>\n",
       "      <th>223063</th>\n",
       "      <td>P1003901</td>\n",
       "      <td>蒜味豆豉醬</td>\n",
       "      <td>NaN</td>\n",
       "      <td>NaN</td>\n",
       "      <td>混合均勻打碎(豆豉,蒜頭,辣椒,植物油,糖,調味料等)</td>\n",
       "    </tr>\n",
       "    <tr>\n",
       "      <th>223385</th>\n",
       "      <td>P0200501</td>\n",
       "      <td>咖哩塊</td>\n",
       "      <td>NaN</td>\n",
       "      <td>Curry</td>\n",
       "      <td>混合均勻打碎(咖哩粉,麵粉,油脂,鹽,糖,奶粉,調味料,食品添加物等)</td>\n",
       "    </tr>\n",
       "    <tr>\n",
       "      <th>224041</th>\n",
       "      <td>B0900101</td>\n",
       "      <td>蓮藕</td>\n",
       "      <td>蓮根,藕,芙蕖,荷花藕</td>\n",
       "      <td>Lotus root; Indian lotus tuber; East Indian lotus</td>\n",
       "      <td>生鮮,去皮,混合均勻打碎</td>\n",
       "    </tr>\n",
       "    <tr>\n",
       "      <th>224478</th>\n",
       "      <td>E7000102</td>\n",
       "      <td>蒲瓜(圓形)</td>\n",
       "      <td>扁蒲,蒲仔,瓠子(瓜/餔),匏仔(瓜),葫蘆瓜,瓢簞,天瓜,龍蛋瓜,蒲(葫/壺)蘆</td>\n",
       "      <td>Bottle(hairy) gourd;White flowered gourd; Cala...</td>\n",
       "      <td>生鮮,去皮,混合均勻打碎</td>\n",
       "    </tr>\n",
       "  </tbody>\n",
       "</table>\n",
       "<p>2160 rows × 5 columns</p>\n",
       "</div>"
      ],
      "text/plain": [
       "            Sno.    Name                                 Other_name  \\\n",
       "0       R2300301   冷凍芋泥包                                        NaN   \n",
       "79      R2300501   冷凍芝麻包                                        NaN   \n",
       "160     R2100401     擔仔麵                                        NaN   \n",
       "253     C2300101    生鮮蓮子                                        NaN   \n",
       "331     Q4200201     洋芋片                                        NaN   \n",
       "...          ...     ...                                        ...   \n",
       "222869  I0420201     雞尾椎                                        雞屁股   \n",
       "223063  P1003901   蒜味豆豉醬                                        NaN   \n",
       "223385  P0200501     咖哩塊                                        NaN   \n",
       "224041  B0900101      蓮藕                                蓮根,藕,芙蕖,荷花藕   \n",
       "224478  E7000102  蒲瓜(圓形)  扁蒲,蒲仔,瓠子(瓜/餔),匏仔(瓜),葫蘆瓜,瓢簞,天瓜,龍蛋瓜,蒲(葫/壺)蘆   \n",
       "\n",
       "                                             English_name  \\\n",
       "0                                          Taro paste bun   \n",
       "79                                             Sesame bun   \n",
       "160                                                   NaN   \n",
       "253                                 Lotus nut; Lotus seed   \n",
       "331                                          Potato chips   \n",
       "...                                                   ...   \n",
       "222869                                                NaN   \n",
       "223063                                                NaN   \n",
       "223385                                              Curry   \n",
       "224041  Lotus root; Indian lotus tuber; East Indian lotus   \n",
       "224478  Bottle(hairy) gourd;White flowered gourd; Cala...   \n",
       "\n",
       "                                   Describe  \n",
       "0                       冷凍包裝,混合均勻打碎(麵粉,芋頭等)  \n",
       "79                     冷凍包裝,混合均勻打碎(麵粉,芝麻粉等)  \n",
       "160                        熟食,加肉燥不含湯,混合均勻打碎  \n",
       "253                      生鮮,混合均勻打碎(蓮子,蓮子心等)  \n",
       "331                               熟食,混合均勻打碎  \n",
       "...                                     ...  \n",
       "222869                      生,雞臟器,去骨,混合均勻打碎  \n",
       "223063          混合均勻打碎(豆豉,蒜頭,辣椒,植物油,糖,調味料等)  \n",
       "223385  混合均勻打碎(咖哩粉,麵粉,油脂,鹽,糖,奶粉,調味料,食品添加物等)  \n",
       "224041                         生鮮,去皮,混合均勻打碎  \n",
       "224478                         生鮮,去皮,混合均勻打碎  \n",
       "\n",
       "[2160 rows x 5 columns]"
      ]
     },
     "execution_count": 107,
     "metadata": {},
     "output_type": "execute_result"
    }
   ],
   "source": [
    "merged_food.loc[141872, 'Name'] = '無花果乾'\n",
    "merged_food"
   ]
  },
  {
   "cell_type": "code",
   "execution_count": 108,
   "metadata": {},
   "outputs": [
    {
     "data": {
      "text/plain": [
       "2160"
      ]
     },
     "execution_count": 108,
     "metadata": {},
     "output_type": "execute_result"
    }
   ],
   "source": [
    "merged_food.to_sql(name = 'foodstuff', con = engine, if_exists = 'replace', index = False)"
   ]
  },
  {
   "cell_type": "code",
   "execution_count": 118,
   "metadata": {},
   "outputs": [
    {
     "data": {
      "text/plain": [
       "18"
      ]
     },
     "execution_count": 118,
     "metadata": {},
     "output_type": "execute_result"
    }
   ],
   "source": [
    "df.to_sql(name = 'recommended_nutrition', con = engine, if_exists = 'append', index = False)"
   ]
  },
  {
   "cell_type": "code",
   "execution_count": 116,
   "metadata": {},
   "outputs": [
    {
     "data": {
      "text/html": [
       "<div>\n",
       "<style scoped>\n",
       "    .dataframe tbody tr th:only-of-type {\n",
       "        vertical-align: middle;\n",
       "    }\n",
       "\n",
       "    .dataframe tbody tr th {\n",
       "        vertical-align: top;\n",
       "    }\n",
       "\n",
       "    .dataframe thead th {\n",
       "        text-align: right;\n",
       "    }\n",
       "</style>\n",
       "<table border=\"1\" class=\"dataframe\">\n",
       "  <thead>\n",
       "    <tr style=\"text-align: right;\">\n",
       "      <th></th>\n",
       "      <th>Serial_number</th>\n",
       "      <th>Gender</th>\n",
       "      <th>Age</th>\n",
       "      <th>Numbers_of_people</th>\n",
       "      <th>Calorie</th>\n",
       "      <th>Protein</th>\n",
       "      <th>Fat</th>\n",
       "      <th>Carbohydrate</th>\n",
       "      <th>VitaminB1</th>\n",
       "      <th>VitaminB2</th>\n",
       "      <th>...</th>\n",
       "      <th>VitaminB6</th>\n",
       "      <th>VitaminA</th>\n",
       "      <th>VitaminE</th>\n",
       "      <th>Ca</th>\n",
       "      <th>P</th>\n",
       "      <th>Fe</th>\n",
       "      <th>Mg</th>\n",
       "      <th>Zn</th>\n",
       "      <th>Na</th>\n",
       "      <th>K</th>\n",
       "    </tr>\n",
       "  </thead>\n",
       "  <tbody>\n",
       "    <tr>\n",
       "      <th>0</th>\n",
       "      <td>1</td>\n",
       "      <td>male</td>\n",
       "      <td>&lt;1</td>\n",
       "      <td>43</td>\n",
       "      <td>704.77</td>\n",
       "      <td>16.43</td>\n",
       "      <td>30.05</td>\n",
       "      <td>92.81</td>\n",
       "      <td>0.72</td>\n",
       "      <td>1.12</td>\n",
       "      <td>...</td>\n",
       "      <td>0.61</td>\n",
       "      <td>696.74</td>\n",
       "      <td>7.43</td>\n",
       "      <td>452.09</td>\n",
       "      <td>314.84</td>\n",
       "      <td>7.57</td>\n",
       "      <td>76.00</td>\n",
       "      <td>6.02</td>\n",
       "      <td>245.35</td>\n",
       "      <td>757.37</td>\n",
       "    </tr>\n",
       "    <tr>\n",
       "      <th>1</th>\n",
       "      <td>2</td>\n",
       "      <td>male</td>\n",
       "      <td>1-6</td>\n",
       "      <td>737</td>\n",
       "      <td>1476.39</td>\n",
       "      <td>58.33</td>\n",
       "      <td>53.30</td>\n",
       "      <td>193.54</td>\n",
       "      <td>1.07</td>\n",
       "      <td>1.28</td>\n",
       "      <td>...</td>\n",
       "      <td>1.27</td>\n",
       "      <td>602.07</td>\n",
       "      <td>7.06</td>\n",
       "      <td>567.77</td>\n",
       "      <td>926.78</td>\n",
       "      <td>10.03</td>\n",
       "      <td>187.64</td>\n",
       "      <td>8.75</td>\n",
       "      <td>1980.33</td>\n",
       "      <td>1758.48</td>\n",
       "    </tr>\n",
       "    <tr>\n",
       "      <th>2</th>\n",
       "      <td>3</td>\n",
       "      <td>male</td>\n",
       "      <td>7-12</td>\n",
       "      <td>875</td>\n",
       "      <td>2061.49</td>\n",
       "      <td>85.99</td>\n",
       "      <td>75.68</td>\n",
       "      <td>262.51</td>\n",
       "      <td>1.46</td>\n",
       "      <td>1.40</td>\n",
       "      <td>...</td>\n",
       "      <td>1.80</td>\n",
       "      <td>688.08</td>\n",
       "      <td>8.62</td>\n",
       "      <td>524.23</td>\n",
       "      <td>1224.06</td>\n",
       "      <td>13.92</td>\n",
       "      <td>248.12</td>\n",
       "      <td>11.87</td>\n",
       "      <td>3364.69</td>\n",
       "      <td>2322.66</td>\n",
       "    </tr>\n",
       "    <tr>\n",
       "      <th>3</th>\n",
       "      <td>4</td>\n",
       "      <td>male</td>\n",
       "      <td>13-15</td>\n",
       "      <td>442</td>\n",
       "      <td>2280.52</td>\n",
       "      <td>94.42</td>\n",
       "      <td>85.39</td>\n",
       "      <td>286.22</td>\n",
       "      <td>1.65</td>\n",
       "      <td>1.41</td>\n",
       "      <td>...</td>\n",
       "      <td>2.01</td>\n",
       "      <td>686.71</td>\n",
       "      <td>9.69</td>\n",
       "      <td>482.96</td>\n",
       "      <td>1300.79</td>\n",
       "      <td>15.54</td>\n",
       "      <td>261.71</td>\n",
       "      <td>13.00</td>\n",
       "      <td>3743.90</td>\n",
       "      <td>2408.84</td>\n",
       "    </tr>\n",
       "    <tr>\n",
       "      <th>4</th>\n",
       "      <td>5</td>\n",
       "      <td>male</td>\n",
       "      <td>16-18</td>\n",
       "      <td>393</td>\n",
       "      <td>2298.29</td>\n",
       "      <td>97.05</td>\n",
       "      <td>89.46</td>\n",
       "      <td>277.97</td>\n",
       "      <td>1.64</td>\n",
       "      <td>1.38</td>\n",
       "      <td>...</td>\n",
       "      <td>2.00</td>\n",
       "      <td>626.45</td>\n",
       "      <td>10.03</td>\n",
       "      <td>531.39</td>\n",
       "      <td>1330.00</td>\n",
       "      <td>14.67</td>\n",
       "      <td>265.21</td>\n",
       "      <td>12.89</td>\n",
       "      <td>3749.62</td>\n",
       "      <td>2332.97</td>\n",
       "    </tr>\n",
       "    <tr>\n",
       "      <th>5</th>\n",
       "      <td>6</td>\n",
       "      <td>male</td>\n",
       "      <td>19-44</td>\n",
       "      <td>945</td>\n",
       "      <td>2471.06</td>\n",
       "      <td>102.70</td>\n",
       "      <td>94.50</td>\n",
       "      <td>291.48</td>\n",
       "      <td>1.63</td>\n",
       "      <td>1.52</td>\n",
       "      <td>...</td>\n",
       "      <td>2.31</td>\n",
       "      <td>695.35</td>\n",
       "      <td>10.29</td>\n",
       "      <td>530.33</td>\n",
       "      <td>1398.91</td>\n",
       "      <td>16.56</td>\n",
       "      <td>296.95</td>\n",
       "      <td>13.88</td>\n",
       "      <td>4140.41</td>\n",
       "      <td>2665.89</td>\n",
       "    </tr>\n",
       "    <tr>\n",
       "      <th>6</th>\n",
       "      <td>7</td>\n",
       "      <td>male</td>\n",
       "      <td>45-64</td>\n",
       "      <td>959</td>\n",
       "      <td>2370.58</td>\n",
       "      <td>98.42</td>\n",
       "      <td>83.24</td>\n",
       "      <td>288.91</td>\n",
       "      <td>1.63</td>\n",
       "      <td>1.46</td>\n",
       "      <td>...</td>\n",
       "      <td>2.35</td>\n",
       "      <td>904.46</td>\n",
       "      <td>9.90</td>\n",
       "      <td>575.74</td>\n",
       "      <td>1400.90</td>\n",
       "      <td>17.54</td>\n",
       "      <td>342.35</td>\n",
       "      <td>14.11</td>\n",
       "      <td>3563.29</td>\n",
       "      <td>3007.36</td>\n",
       "    </tr>\n",
       "    <tr>\n",
       "      <th>7</th>\n",
       "      <td>8</td>\n",
       "      <td>male</td>\n",
       "      <td>65-74</td>\n",
       "      <td>854</td>\n",
       "      <td>2051.02</td>\n",
       "      <td>85.32</td>\n",
       "      <td>67.63</td>\n",
       "      <td>266.46</td>\n",
       "      <td>1.44</td>\n",
       "      <td>1.30</td>\n",
       "      <td>...</td>\n",
       "      <td>2.22</td>\n",
       "      <td>958.28</td>\n",
       "      <td>9.44</td>\n",
       "      <td>594.82</td>\n",
       "      <td>1263.98</td>\n",
       "      <td>15.59</td>\n",
       "      <td>342.12</td>\n",
       "      <td>12.96</td>\n",
       "      <td>2979.81</td>\n",
       "      <td>3016.00</td>\n",
       "    </tr>\n",
       "    <tr>\n",
       "      <th>8</th>\n",
       "      <td>9</td>\n",
       "      <td>male</td>\n",
       "      <td>75+</td>\n",
       "      <td>477</td>\n",
       "      <td>1817.31</td>\n",
       "      <td>73.84</td>\n",
       "      <td>58.08</td>\n",
       "      <td>247.87</td>\n",
       "      <td>1.29</td>\n",
       "      <td>1.29</td>\n",
       "      <td>...</td>\n",
       "      <td>1.99</td>\n",
       "      <td>915.16</td>\n",
       "      <td>8.68</td>\n",
       "      <td>595.58</td>\n",
       "      <td>1147.84</td>\n",
       "      <td>13.74</td>\n",
       "      <td>302.15</td>\n",
       "      <td>11.20</td>\n",
       "      <td>2557.96</td>\n",
       "      <td>2681.86</td>\n",
       "    </tr>\n",
       "    <tr>\n",
       "      <th>9</th>\n",
       "      <td>10</td>\n",
       "      <td>female</td>\n",
       "      <td>&lt;1</td>\n",
       "      <td>48</td>\n",
       "      <td>645.26</td>\n",
       "      <td>16.17</td>\n",
       "      <td>30.10</td>\n",
       "      <td>78.38</td>\n",
       "      <td>0.59</td>\n",
       "      <td>1.06</td>\n",
       "      <td>...</td>\n",
       "      <td>0.52</td>\n",
       "      <td>655.31</td>\n",
       "      <td>6.18</td>\n",
       "      <td>459.46</td>\n",
       "      <td>314.76</td>\n",
       "      <td>5.74</td>\n",
       "      <td>68.39</td>\n",
       "      <td>4.96</td>\n",
       "      <td>252.06</td>\n",
       "      <td>782.08</td>\n",
       "    </tr>\n",
       "    <tr>\n",
       "      <th>10</th>\n",
       "      <td>11</td>\n",
       "      <td>female</td>\n",
       "      <td>1-6</td>\n",
       "      <td>709</td>\n",
       "      <td>1318.07</td>\n",
       "      <td>51.68</td>\n",
       "      <td>48.22</td>\n",
       "      <td>171.80</td>\n",
       "      <td>0.95</td>\n",
       "      <td>1.18</td>\n",
       "      <td>...</td>\n",
       "      <td>1.13</td>\n",
       "      <td>589.04</td>\n",
       "      <td>6.71</td>\n",
       "      <td>530.95</td>\n",
       "      <td>836.09</td>\n",
       "      <td>9.31</td>\n",
       "      <td>169.51</td>\n",
       "      <td>7.55</td>\n",
       "      <td>1855.28</td>\n",
       "      <td>1619.22</td>\n",
       "    </tr>\n",
       "    <tr>\n",
       "      <th>11</th>\n",
       "      <td>12</td>\n",
       "      <td>female</td>\n",
       "      <td>7-12</td>\n",
       "      <td>880</td>\n",
       "      <td>1781.29</td>\n",
       "      <td>71.85</td>\n",
       "      <td>66.89</td>\n",
       "      <td>225.94</td>\n",
       "      <td>1.26</td>\n",
       "      <td>1.18</td>\n",
       "      <td>...</td>\n",
       "      <td>1.50</td>\n",
       "      <td>587.83</td>\n",
       "      <td>7.83</td>\n",
       "      <td>435.07</td>\n",
       "      <td>1031.43</td>\n",
       "      <td>11.66</td>\n",
       "      <td>212.20</td>\n",
       "      <td>9.67</td>\n",
       "      <td>2839.04</td>\n",
       "      <td>1991.35</td>\n",
       "    </tr>\n",
       "    <tr>\n",
       "      <th>12</th>\n",
       "      <td>13</td>\n",
       "      <td>female</td>\n",
       "      <td>13-15</td>\n",
       "      <td>429</td>\n",
       "      <td>1732.94</td>\n",
       "      <td>68.45</td>\n",
       "      <td>63.56</td>\n",
       "      <td>224.57</td>\n",
       "      <td>1.14</td>\n",
       "      <td>1.12</td>\n",
       "      <td>...</td>\n",
       "      <td>1.47</td>\n",
       "      <td>531.49</td>\n",
       "      <td>7.27</td>\n",
       "      <td>426.14</td>\n",
       "      <td>978.76</td>\n",
       "      <td>11.59</td>\n",
       "      <td>200.78</td>\n",
       "      <td>9.46</td>\n",
       "      <td>2837.79</td>\n",
       "      <td>1865.73</td>\n",
       "    </tr>\n",
       "    <tr>\n",
       "      <th>13</th>\n",
       "      <td>14</td>\n",
       "      <td>female</td>\n",
       "      <td>16-18</td>\n",
       "      <td>394</td>\n",
       "      <td>1852.11</td>\n",
       "      <td>78.84</td>\n",
       "      <td>72.56</td>\n",
       "      <td>223.68</td>\n",
       "      <td>1.31</td>\n",
       "      <td>1.36</td>\n",
       "      <td>...</td>\n",
       "      <td>1.66</td>\n",
       "      <td>622.27</td>\n",
       "      <td>8.13</td>\n",
       "      <td>466.02</td>\n",
       "      <td>1104.48</td>\n",
       "      <td>13.17</td>\n",
       "      <td>227.67</td>\n",
       "      <td>11.03</td>\n",
       "      <td>3016.81</td>\n",
       "      <td>2096.43</td>\n",
       "    </tr>\n",
       "    <tr>\n",
       "      <th>14</th>\n",
       "      <td>15</td>\n",
       "      <td>female</td>\n",
       "      <td>19-44</td>\n",
       "      <td>969</td>\n",
       "      <td>1844.32</td>\n",
       "      <td>79.60</td>\n",
       "      <td>72.69</td>\n",
       "      <td>219.77</td>\n",
       "      <td>1.25</td>\n",
       "      <td>1.26</td>\n",
       "      <td>...</td>\n",
       "      <td>1.76</td>\n",
       "      <td>646.38</td>\n",
       "      <td>8.61</td>\n",
       "      <td>479.68</td>\n",
       "      <td>1116.59</td>\n",
       "      <td>13.12</td>\n",
       "      <td>244.02</td>\n",
       "      <td>10.58</td>\n",
       "      <td>3196.05</td>\n",
       "      <td>2287.28</td>\n",
       "    </tr>\n",
       "    <tr>\n",
       "      <th>15</th>\n",
       "      <td>16</td>\n",
       "      <td>female</td>\n",
       "      <td>45-64</td>\n",
       "      <td>985</td>\n",
       "      <td>1752.28</td>\n",
       "      <td>75.87</td>\n",
       "      <td>64.54</td>\n",
       "      <td>219.64</td>\n",
       "      <td>1.25</td>\n",
       "      <td>1.26</td>\n",
       "      <td>...</td>\n",
       "      <td>1.97</td>\n",
       "      <td>852.50</td>\n",
       "      <td>9.04</td>\n",
       "      <td>557.50</td>\n",
       "      <td>1109.06</td>\n",
       "      <td>14.51</td>\n",
       "      <td>292.61</td>\n",
       "      <td>10.80</td>\n",
       "      <td>2803.28</td>\n",
       "      <td>2701.78</td>\n",
       "    </tr>\n",
       "    <tr>\n",
       "      <th>16</th>\n",
       "      <td>17</td>\n",
       "      <td>female</td>\n",
       "      <td>65-74</td>\n",
       "      <td>893</td>\n",
       "      <td>1613.88</td>\n",
       "      <td>67.35</td>\n",
       "      <td>54.04</td>\n",
       "      <td>218.92</td>\n",
       "      <td>1.21</td>\n",
       "      <td>1.17</td>\n",
       "      <td>...</td>\n",
       "      <td>1.80</td>\n",
       "      <td>1031.09</td>\n",
       "      <td>8.72</td>\n",
       "      <td>560.21</td>\n",
       "      <td>1054.49</td>\n",
       "      <td>13.89</td>\n",
       "      <td>307.23</td>\n",
       "      <td>10.32</td>\n",
       "      <td>2351.99</td>\n",
       "      <td>2684.74</td>\n",
       "    </tr>\n",
       "    <tr>\n",
       "      <th>17</th>\n",
       "      <td>18</td>\n",
       "      <td>female</td>\n",
       "      <td>75+</td>\n",
       "      <td>456</td>\n",
       "      <td>1398.62</td>\n",
       "      <td>59.06</td>\n",
       "      <td>45.93</td>\n",
       "      <td>189.45</td>\n",
       "      <td>1.08</td>\n",
       "      <td>1.07</td>\n",
       "      <td>...</td>\n",
       "      <td>1.54</td>\n",
       "      <td>993.31</td>\n",
       "      <td>7.39</td>\n",
       "      <td>522.26</td>\n",
       "      <td>918.02</td>\n",
       "      <td>12.28</td>\n",
       "      <td>247.18</td>\n",
       "      <td>9.78</td>\n",
       "      <td>2194.12</td>\n",
       "      <td>2159.99</td>\n",
       "    </tr>\n",
       "  </tbody>\n",
       "</table>\n",
       "<p>18 rows × 22 columns</p>\n",
       "</div>"
      ],
      "text/plain": [
       "    Serial_number  Gender    Age  Numbers_of_people  Calorie  Protein    Fat  \\\n",
       "0               1    male     <1                 43   704.77    16.43  30.05   \n",
       "1               2    male    1-6                737  1476.39    58.33  53.30   \n",
       "2               3    male   7-12                875  2061.49    85.99  75.68   \n",
       "3               4    male  13-15                442  2280.52    94.42  85.39   \n",
       "4               5    male  16-18                393  2298.29    97.05  89.46   \n",
       "5               6    male  19-44                945  2471.06   102.70  94.50   \n",
       "6               7    male  45-64                959  2370.58    98.42  83.24   \n",
       "7               8    male  65-74                854  2051.02    85.32  67.63   \n",
       "8               9    male    75+                477  1817.31    73.84  58.08   \n",
       "9              10  female     <1                 48   645.26    16.17  30.10   \n",
       "10             11  female    1-6                709  1318.07    51.68  48.22   \n",
       "11             12  female   7-12                880  1781.29    71.85  66.89   \n",
       "12             13  female  13-15                429  1732.94    68.45  63.56   \n",
       "13             14  female  16-18                394  1852.11    78.84  72.56   \n",
       "14             15  female  19-44                969  1844.32    79.60  72.69   \n",
       "15             16  female  45-64                985  1752.28    75.87  64.54   \n",
       "16             17  female  65-74                893  1613.88    67.35  54.04   \n",
       "17             18  female    75+                456  1398.62    59.06  45.93   \n",
       "\n",
       "    Carbohydrate  VitaminB1  VitaminB2  ...  VitaminB6  VitaminA  VitaminE  \\\n",
       "0          92.81       0.72       1.12  ...       0.61    696.74      7.43   \n",
       "1         193.54       1.07       1.28  ...       1.27    602.07      7.06   \n",
       "2         262.51       1.46       1.40  ...       1.80    688.08      8.62   \n",
       "3         286.22       1.65       1.41  ...       2.01    686.71      9.69   \n",
       "4         277.97       1.64       1.38  ...       2.00    626.45     10.03   \n",
       "5         291.48       1.63       1.52  ...       2.31    695.35     10.29   \n",
       "6         288.91       1.63       1.46  ...       2.35    904.46      9.90   \n",
       "7         266.46       1.44       1.30  ...       2.22    958.28      9.44   \n",
       "8         247.87       1.29       1.29  ...       1.99    915.16      8.68   \n",
       "9          78.38       0.59       1.06  ...       0.52    655.31      6.18   \n",
       "10        171.80       0.95       1.18  ...       1.13    589.04      6.71   \n",
       "11        225.94       1.26       1.18  ...       1.50    587.83      7.83   \n",
       "12        224.57       1.14       1.12  ...       1.47    531.49      7.27   \n",
       "13        223.68       1.31       1.36  ...       1.66    622.27      8.13   \n",
       "14        219.77       1.25       1.26  ...       1.76    646.38      8.61   \n",
       "15        219.64       1.25       1.26  ...       1.97    852.50      9.04   \n",
       "16        218.92       1.21       1.17  ...       1.80   1031.09      8.72   \n",
       "17        189.45       1.08       1.07  ...       1.54    993.31      7.39   \n",
       "\n",
       "        Ca        P     Fe      Mg     Zn       Na        K  \n",
       "0   452.09   314.84   7.57   76.00   6.02   245.35   757.37  \n",
       "1   567.77   926.78  10.03  187.64   8.75  1980.33  1758.48  \n",
       "2   524.23  1224.06  13.92  248.12  11.87  3364.69  2322.66  \n",
       "3   482.96  1300.79  15.54  261.71  13.00  3743.90  2408.84  \n",
       "4   531.39  1330.00  14.67  265.21  12.89  3749.62  2332.97  \n",
       "5   530.33  1398.91  16.56  296.95  13.88  4140.41  2665.89  \n",
       "6   575.74  1400.90  17.54  342.35  14.11  3563.29  3007.36  \n",
       "7   594.82  1263.98  15.59  342.12  12.96  2979.81  3016.00  \n",
       "8   595.58  1147.84  13.74  302.15  11.20  2557.96  2681.86  \n",
       "9   459.46   314.76   5.74   68.39   4.96   252.06   782.08  \n",
       "10  530.95   836.09   9.31  169.51   7.55  1855.28  1619.22  \n",
       "11  435.07  1031.43  11.66  212.20   9.67  2839.04  1991.35  \n",
       "12  426.14   978.76  11.59  200.78   9.46  2837.79  1865.73  \n",
       "13  466.02  1104.48  13.17  227.67  11.03  3016.81  2096.43  \n",
       "14  479.68  1116.59  13.12  244.02  10.58  3196.05  2287.28  \n",
       "15  557.50  1109.06  14.51  292.61  10.80  2803.28  2701.78  \n",
       "16  560.21  1054.49  13.89  307.23  10.32  2351.99  2684.74  \n",
       "17  522.26   918.02  12.28  247.18   9.78  2194.12  2159.99  \n",
       "\n",
       "[18 rows x 22 columns]"
      ]
     },
     "execution_count": 116,
     "metadata": {},
     "output_type": "execute_result"
    }
   ],
   "source": [
    "df"
   ]
  },
  {
   "cell_type": "code",
   "execution_count": 64,
   "metadata": {},
   "outputs": [
    {
     "name": "stdout",
     "output_type": "stream",
     "text": [
      "['冷凍芋泥包' '冷凍芝麻包' '擔仔麵' ... '咖哩塊' '蓮藕' '蒲瓜(圓形)']\n"
     ]
    }
   ],
   "source": [
    "a = rn_df['樣品名稱'].unique()\n"
   ]
  },
  {
   "cell_type": "code",
   "execution_count": null,
   "metadata": {},
   "outputs": [],
   "source": []
  }
 ],
 "metadata": {
  "kernelspec": {
   "display_name": "base",
   "language": "python",
   "name": "python3"
  },
  "language_info": {
   "codemirror_mode": {
    "name": "ipython",
    "version": 3
   },
   "file_extension": ".py",
   "mimetype": "text/x-python",
   "name": "python",
   "nbconvert_exporter": "python",
   "pygments_lexer": "ipython3",
   "version": "3.9.13"
  },
  "orig_nbformat": 4
 },
 "nbformat": 4,
 "nbformat_minor": 2
}
